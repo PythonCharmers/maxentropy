{
 "cells": [
  {
   "cell_type": "markdown",
   "id": "832dc45c-4796-4368-b070-0920a2389236",
   "metadata": {},
   "source": [
    "## Reranking an existing model"
   ]
  },
  {
   "cell_type": "markdown",
   "id": "04c1a879-4965-4a6a-965c-2c50faa969ef",
   "metadata": {},
   "source": [
    "Can we improve on the existing LR model?"
   ]
  },
  {
   "cell_type": "markdown",
   "id": "90bc78dd-98fc-46f3-8a52-486bbbdd154e",
   "metadata": {},
   "source": [
    "Ideally we'd first now how it's poor, then impose constraints to correct for that."
   ]
  },
  {
   "cell_type": "code",
   "execution_count": 1,
   "id": "55424d19-6180-4cd8-ac22-73411219ee3e",
   "metadata": {},
   "outputs": [],
   "source": [
    "import numpy as np\n",
    "import scipy.stats\n",
    "import pandas as pd\n",
    "import matplotlib.pyplot as plt\n",
    "import plotly.express as px\n",
    "from sklearn.linear_model import LogisticRegression\n",
    "import maxentropy\n",
    "import maxentropy.utils as utils\n",
    "\n",
    "import plotly.io as pio\n",
    "pio.renderers.default = 'plotly_mimetype'\n",
    "\n",
    "import plotly.express as px\n",
    "\n",
    "from sklearn.datasets import load_iris, load_breast_cancer\n",
    "\n",
    "iris = load_iris()\n",
    "cancer = load_breast_cancer(as_frame=True)"
   ]
  },
  {
   "cell_type": "markdown",
   "id": "0ba9baa7-2a76-4585-9b34-90d8b2eecd6b",
   "metadata": {},
   "source": [
    "## First example: find the model with minimum relative entropy to some prior model subject to a non-negativity constraint"
   ]
  },
  {
   "cell_type": "code",
   "execution_count": 2,
   "id": "cdd2a129-3e44-4d8b-89d4-39c356331970",
   "metadata": {},
   "outputs": [
    {
     "data": {
      "text/plain": [
       "array(['mean radius', 'mean texture', 'mean perimeter', 'mean area',\n",
       "       'mean smoothness', 'mean compactness', 'mean concavity',\n",
       "       'mean concave points', 'mean symmetry', 'mean fractal dimension',\n",
       "       'radius error', 'texture error', 'perimeter error', 'area error',\n",
       "       'smoothness error', 'compactness error', 'concavity error',\n",
       "       'concave points error', 'symmetry error',\n",
       "       'fractal dimension error', 'worst radius', 'worst texture',\n",
       "       'worst perimeter', 'worst area', 'worst smoothness',\n",
       "       'worst compactness', 'worst concavity', 'worst concave points',\n",
       "       'worst symmetry', 'worst fractal dimension'], dtype='<U23')"
      ]
     },
     "execution_count": 2,
     "metadata": {},
     "output_type": "execute_result"
    }
   ],
   "source": [
    "cancer['feature_names']"
   ]
  },
  {
   "cell_type": "code",
   "execution_count": 3,
   "id": "b07049f9-59cf-4dfd-95a7-5e823266d106",
   "metadata": {},
   "outputs": [],
   "source": [
    "df_cancer = cancer['data']\n",
    "X_cancer = cancer['data'].values\n",
    "y_cancer = cancer['target']"
   ]
  },
  {
   "cell_type": "markdown",
   "id": "102be6aa-2557-4d18-9e69-60914ec896b0",
   "metadata": {},
   "source": [
    "### Question: Can we fit a neural network for classification, remove the final softmax layer, and then apply this?"
   ]
  },
  {
   "cell_type": "code",
   "execution_count": 4,
   "id": "80b1904b-0551-4c40-9c80-850e9764d641",
   "metadata": {},
   "outputs": [],
   "source": [
    "from sklearn.neural_network import MLPClassifier"
   ]
  },
  {
   "cell_type": "code",
   "execution_count": 5,
   "id": "3ec17341-02d3-4823-b2bf-eb6a593b6781",
   "metadata": {},
   "outputs": [
    {
     "data": {
      "text/plain": [
       "0.9560632688927944"
      ]
     },
     "execution_count": 5,
     "metadata": {},
     "output_type": "execute_result"
    }
   ],
   "source": [
    "net = MLPClassifier(hidden_layer_sizes=(100,))\n",
    "\n",
    "net.fit(X_cancer, y_cancer)\n",
    "\n",
    "net.score(X_cancer, y_cancer)"
   ]
  },
  {
   "cell_type": "code",
   "execution_count": 6,
   "id": "e76deabd-4100-42b4-a109-7ed3d33a36ac",
   "metadata": {},
   "outputs": [
    {
     "data": {
      "text/plain": [
       "\u001b[0;31mSignature:\u001b[0m \u001b[0mnet\u001b[0m\u001b[0;34m.\u001b[0m\u001b[0m_predict\u001b[0m\u001b[0;34m(\u001b[0m\u001b[0mX\u001b[0m\u001b[0;34m,\u001b[0m \u001b[0mcheck_input\u001b[0m\u001b[0;34m=\u001b[0m\u001b[0;32mTrue\u001b[0m\u001b[0;34m)\u001b[0m\u001b[0;34m\u001b[0m\u001b[0;34m\u001b[0m\u001b[0m\n",
       "\u001b[0;31mSource:\u001b[0m   \n",
       "    \u001b[0;32mdef\u001b[0m \u001b[0m_predict\u001b[0m\u001b[0;34m(\u001b[0m\u001b[0mself\u001b[0m\u001b[0;34m,\u001b[0m \u001b[0mX\u001b[0m\u001b[0;34m,\u001b[0m \u001b[0mcheck_input\u001b[0m\u001b[0;34m=\u001b[0m\u001b[0;32mTrue\u001b[0m\u001b[0;34m)\u001b[0m\u001b[0;34m:\u001b[0m\u001b[0;34m\u001b[0m\n",
       "\u001b[0;34m\u001b[0m        \u001b[0;34m\"\"\"Private predict method with optional input validation\"\"\"\u001b[0m\u001b[0;34m\u001b[0m\n",
       "\u001b[0;34m\u001b[0m        \u001b[0my_pred\u001b[0m \u001b[0;34m=\u001b[0m \u001b[0mself\u001b[0m\u001b[0;34m.\u001b[0m\u001b[0m_forward_pass_fast\u001b[0m\u001b[0;34m(\u001b[0m\u001b[0mX\u001b[0m\u001b[0;34m,\u001b[0m \u001b[0mcheck_input\u001b[0m\u001b[0;34m=\u001b[0m\u001b[0mcheck_input\u001b[0m\u001b[0;34m)\u001b[0m\u001b[0;34m\u001b[0m\n",
       "\u001b[0;34m\u001b[0m\u001b[0;34m\u001b[0m\n",
       "\u001b[0;34m\u001b[0m        \u001b[0;32mif\u001b[0m \u001b[0mself\u001b[0m\u001b[0;34m.\u001b[0m\u001b[0mn_outputs_\u001b[0m \u001b[0;34m==\u001b[0m \u001b[0;36m1\u001b[0m\u001b[0;34m:\u001b[0m\u001b[0;34m\u001b[0m\n",
       "\u001b[0;34m\u001b[0m            \u001b[0my_pred\u001b[0m \u001b[0;34m=\u001b[0m \u001b[0my_pred\u001b[0m\u001b[0;34m.\u001b[0m\u001b[0mravel\u001b[0m\u001b[0;34m(\u001b[0m\u001b[0;34m)\u001b[0m\u001b[0;34m\u001b[0m\n",
       "\u001b[0;34m\u001b[0m\u001b[0;34m\u001b[0m\n",
       "\u001b[0;34m\u001b[0m        \u001b[0;32mreturn\u001b[0m \u001b[0mself\u001b[0m\u001b[0;34m.\u001b[0m\u001b[0m_label_binarizer\u001b[0m\u001b[0;34m.\u001b[0m\u001b[0minverse_transform\u001b[0m\u001b[0;34m(\u001b[0m\u001b[0my_pred\u001b[0m\u001b[0;34m)\u001b[0m\u001b[0;34m\u001b[0m\u001b[0;34m\u001b[0m\u001b[0m\n",
       "\u001b[0;31mFile:\u001b[0m      ~/anaconda/envs/maxentropy/lib/python3.11/site-packages/sklearn/neural_network/_multilayer_perceptron.py\n",
       "\u001b[0;31mType:\u001b[0m      method"
      ]
     },
     "metadata": {},
     "output_type": "display_data"
    }
   ],
   "source": [
    "net._predict??"
   ]
  },
  {
   "cell_type": "code",
   "execution_count": 7,
   "id": "66dd4da3-d8c8-46a3-947a-8f13c0397c7e",
   "metadata": {},
   "outputs": [],
   "source": [
    "# outputs = net._forward_pass_fast(X_cancer, check_input=True)"
   ]
  },
  {
   "cell_type": "code",
   "execution_count": null,
   "id": "aceaedbd-f768-46d2-895d-17fe97f0e8dc",
   "metadata": {},
   "outputs": [],
   "source": []
  },
  {
   "cell_type": "code",
   "execution_count": 8,
   "id": "1c8feeb3-7ea9-443e-a583-8cbb8d5d590c",
   "metadata": {},
   "outputs": [],
   "source": [
    "import toolz as tz"
   ]
  },
  {
   "cell_type": "code",
   "execution_count": 9,
   "id": "c67cf710-88ed-4274-8785-2c59f587d924",
   "metadata": {},
   "outputs": [],
   "source": [
    "@tz.curry\n",
    "# def forward_pass_without_output_layer(net, target=slice(None)):\n",
    "def forward_pass(net, X, target=slice(None)):\n",
    "    from sklearn.neural_network._base import ACTIVATIONS\n",
    "    from sklearn.utils.extmath import safe_sparse_dot\n",
    "    \n",
    "    # Initialize first layer\n",
    "    activation = X\n",
    "\n",
    "    # Forward propagate\n",
    "    hidden_activation = ACTIVATIONS[net.activation]\n",
    "    for i in range(net.n_layers_ - 1):\n",
    "        activation = safe_sparse_dot(activation, net.coefs_[i])\n",
    "        activation += net.intercepts_[i]\n",
    "        if i != net.n_layers_ - 2:\n",
    "            hidden_activation(activation)\n",
    "    # Should we really apply the logistic function in the output layer?\n",
    "    # print(net.out_activation_)\n",
    "    output_activation = ACTIVATIONS[net.out_activation_]\n",
    "    output_activation(activation)\n",
    "    return activation[:, target]"
   ]
  },
  {
   "cell_type": "code",
   "execution_count": 10,
   "id": "1cdb523d-ecc9-4191-9005-8d458c737fe6",
   "metadata": {},
   "outputs": [
    {
     "data": {
      "text/plain": [
       "array([3.75287115e-22, 6.57484442e-10, 2.00950344e-07, 4.25536423e-01,\n",
       "       3.05404238e-03, 1.49599863e-02, 1.89810044e-08, 1.39019140e-03,\n",
       "       1.43466827e-01, 5.61311556e-03])"
      ]
     },
     "execution_count": 10,
     "metadata": {},
     "output_type": "execute_result"
    }
   ],
   "source": [
    "forward_pass(net, X_cancer, 0)[:10]"
   ]
  },
  {
   "cell_type": "markdown",
   "id": "5696b067-ff04-4d6d-ba2f-898e1c478703",
   "metadata": {},
   "source": [
    "## Now: apply it to a multi-class classification problem (n_classes > 2)"
   ]
  },
  {
   "cell_type": "code",
   "execution_count": 11,
   "id": "927cbd8c-9323-4778-bd88-4af22474048a",
   "metadata": {},
   "outputs": [],
   "source": [
    "from sklearn.datasets import load_wine"
   ]
  },
  {
   "cell_type": "code",
   "execution_count": 12,
   "id": "95c61d45-b1bc-4df7-858e-1e6ee5e5c4c4",
   "metadata": {},
   "outputs": [],
   "source": [
    "wine = load_wine(as_frame=True)"
   ]
  },
  {
   "cell_type": "code",
   "execution_count": 13,
   "id": "191ed986-9880-4ac2-b7f5-4efdfb2fa5d5",
   "metadata": {},
   "outputs": [],
   "source": [
    "df_wine = wine['data']\n",
    "X_wine = wine['data'].values\n",
    "y_wine = wine['target']"
   ]
  },
  {
   "cell_type": "code",
   "execution_count": 14,
   "id": "789ce361-38b5-42fd-945b-1c872e218e80",
   "metadata": {},
   "outputs": [],
   "source": [
    "# wine['feature_names']"
   ]
  },
  {
   "cell_type": "code",
   "execution_count": 15,
   "id": "4bc0baac-c001-4cbf-b505-000abe019c7a",
   "metadata": {},
   "outputs": [
    {
     "data": {
      "text/html": [
       "<div>\n",
       "<style scoped>\n",
       "    .dataframe tbody tr th:only-of-type {\n",
       "        vertical-align: middle;\n",
       "    }\n",
       "\n",
       "    .dataframe tbody tr th {\n",
       "        vertical-align: top;\n",
       "    }\n",
       "\n",
       "    .dataframe thead th {\n",
       "        text-align: right;\n",
       "    }\n",
       "</style>\n",
       "<table border=\"1\" class=\"dataframe\">\n",
       "  <thead>\n",
       "    <tr style=\"text-align: right;\">\n",
       "      <th></th>\n",
       "      <th>alcohol</th>\n",
       "      <th>malic_acid</th>\n",
       "      <th>ash</th>\n",
       "      <th>alcalinity_of_ash</th>\n",
       "      <th>magnesium</th>\n",
       "      <th>total_phenols</th>\n",
       "      <th>flavanoids</th>\n",
       "      <th>nonflavanoid_phenols</th>\n",
       "      <th>proanthocyanins</th>\n",
       "      <th>color_intensity</th>\n",
       "      <th>hue</th>\n",
       "      <th>od280/od315_of_diluted_wines</th>\n",
       "      <th>proline</th>\n",
       "    </tr>\n",
       "  </thead>\n",
       "  <tbody>\n",
       "    <tr>\n",
       "      <th>0</th>\n",
       "      <td>14.23</td>\n",
       "      <td>1.71</td>\n",
       "      <td>2.43</td>\n",
       "      <td>15.6</td>\n",
       "      <td>127.0</td>\n",
       "      <td>2.80</td>\n",
       "      <td>3.06</td>\n",
       "      <td>0.28</td>\n",
       "      <td>2.29</td>\n",
       "      <td>5.64</td>\n",
       "      <td>1.04</td>\n",
       "      <td>3.92</td>\n",
       "      <td>1065.0</td>\n",
       "    </tr>\n",
       "    <tr>\n",
       "      <th>1</th>\n",
       "      <td>13.20</td>\n",
       "      <td>1.78</td>\n",
       "      <td>2.14</td>\n",
       "      <td>11.2</td>\n",
       "      <td>100.0</td>\n",
       "      <td>2.65</td>\n",
       "      <td>2.76</td>\n",
       "      <td>0.26</td>\n",
       "      <td>1.28</td>\n",
       "      <td>4.38</td>\n",
       "      <td>1.05</td>\n",
       "      <td>3.40</td>\n",
       "      <td>1050.0</td>\n",
       "    </tr>\n",
       "    <tr>\n",
       "      <th>2</th>\n",
       "      <td>13.16</td>\n",
       "      <td>2.36</td>\n",
       "      <td>2.67</td>\n",
       "      <td>18.6</td>\n",
       "      <td>101.0</td>\n",
       "      <td>2.80</td>\n",
       "      <td>3.24</td>\n",
       "      <td>0.30</td>\n",
       "      <td>2.81</td>\n",
       "      <td>5.68</td>\n",
       "      <td>1.03</td>\n",
       "      <td>3.17</td>\n",
       "      <td>1185.0</td>\n",
       "    </tr>\n",
       "  </tbody>\n",
       "</table>\n",
       "</div>"
      ],
      "text/plain": [
       "   alcohol  malic_acid   ash  alcalinity_of_ash  magnesium  total_phenols  \\\n",
       "0    14.23        1.71  2.43               15.6      127.0           2.80   \n",
       "1    13.20        1.78  2.14               11.2      100.0           2.65   \n",
       "2    13.16        2.36  2.67               18.6      101.0           2.80   \n",
       "\n",
       "   flavanoids  nonflavanoid_phenols  proanthocyanins  color_intensity   hue  \\\n",
       "0        3.06                  0.28             2.29             5.64  1.04   \n",
       "1        2.76                  0.26             1.28             4.38  1.05   \n",
       "2        3.24                  0.30             2.81             5.68  1.03   \n",
       "\n",
       "   od280/od315_of_diluted_wines  proline  \n",
       "0                          3.92   1065.0  \n",
       "1                          3.40   1050.0  \n",
       "2                          3.17   1185.0  "
      ]
     },
     "execution_count": 15,
     "metadata": {},
     "output_type": "execute_result"
    }
   ],
   "source": [
    "df_wine[:3]"
   ]
  },
  {
   "cell_type": "code",
   "execution_count": 16,
   "id": "bf3ef967-f805-492e-9681-590e6fa32054",
   "metadata": {},
   "outputs": [
    {
     "data": {
      "text/plain": [
       "array([[1.423e+01, 1.710e+00, 2.430e+00, 1.560e+01, 1.270e+02, 2.800e+00,\n",
       "        3.060e+00, 2.800e-01, 2.290e+00, 5.640e+00, 1.040e+00, 3.920e+00,\n",
       "        1.065e+03],\n",
       "       [1.320e+01, 1.780e+00, 2.140e+00, 1.120e+01, 1.000e+02, 2.650e+00,\n",
       "        2.760e+00, 2.600e-01, 1.280e+00, 4.380e+00, 1.050e+00, 3.400e+00,\n",
       "        1.050e+03],\n",
       "       [1.316e+01, 2.360e+00, 2.670e+00, 1.860e+01, 1.010e+02, 2.800e+00,\n",
       "        3.240e+00, 3.000e-01, 2.810e+00, 5.680e+00, 1.030e+00, 3.170e+00,\n",
       "        1.185e+03]])"
      ]
     },
     "execution_count": 16,
     "metadata": {},
     "output_type": "execute_result"
    }
   ],
   "source": [
    "X_wine[:3]"
   ]
  },
  {
   "cell_type": "code",
   "execution_count": 17,
   "id": "b80a2f6e-1e40-426b-a5f4-a6eb6c524f17",
   "metadata": {},
   "outputs": [
    {
     "data": {
      "text/plain": [
       "0.9943820224719101"
      ]
     },
     "execution_count": 17,
     "metadata": {},
     "output_type": "execute_result"
    }
   ],
   "source": [
    "model_lr = LogisticRegression(max_iter=5_000)\n",
    "model_lr.fit(X_wine, y_wine)\n",
    "model_lr.score(X_wine, y_wine)"
   ]
  },
  {
   "cell_type": "code",
   "execution_count": 18,
   "id": "c0c539c2-cdb0-4483-b811-9f2c211f9166",
   "metadata": {},
   "outputs": [
    {
     "data": {
      "text/plain": [
       "0.8820224719101124"
      ]
     },
     "execution_count": 18,
     "metadata": {},
     "output_type": "execute_result"
    }
   ],
   "source": [
    "net = MLPClassifier(hidden_layer_sizes=(100,), learning_rate_init=0.01, max_iter=1000, random_state=7)\n",
    "net.fit(X_wine, y_wine)\n",
    "net.score(X_wine, y_wine)"
   ]
  },
  {
   "cell_type": "code",
   "execution_count": 19,
   "id": "08e81577-c456-40c1-94b3-18eca895f60c",
   "metadata": {},
   "outputs": [
    {
     "data": {
      "text/plain": [
       "array([[9.99997359e-01, 1.74069242e-06, 9.00339952e-07],\n",
       "       [9.99999998e-01, 1.14744691e-09, 4.92073562e-10],\n",
       "       [1.00000000e+00, 1.53418384e-11, 2.32317785e-11],\n",
       "       [1.00000000e+00, 3.20726835e-19, 3.52267199e-17],\n",
       "       [9.35703608e-01, 5.87869811e-02, 5.50941106e-03],\n",
       "       [1.00000000e+00, 8.85365192e-19, 4.49256502e-17],\n",
       "       [1.00000000e+00, 1.93530313e-16, 8.48028138e-16],\n",
       "       [1.00000000e+00, 4.77580015e-12, 8.62673306e-11],\n",
       "       [9.99999990e-01, 7.44782829e-09, 2.49191611e-09],\n",
       "       [9.99999958e-01, 9.93821203e-09, 3.16033288e-08]])"
      ]
     },
     "execution_count": 19,
     "metadata": {},
     "output_type": "execute_result"
    }
   ],
   "source": [
    "forward_pass(net, X_wine)[:10]"
   ]
  },
  {
   "cell_type": "code",
   "execution_count": 20,
   "id": "5c3cb0bf-374f-465e-9506-ec37555c5ae9",
   "metadata": {},
   "outputs": [
    {
     "data": {
      "text/plain": [
       "array([[9.99997359e-01, 1.74069242e-06, 9.00339952e-07],\n",
       "       [9.99999998e-01, 1.14744691e-09, 4.92073562e-10],\n",
       "       [1.00000000e+00, 1.53418384e-11, 2.32317785e-11],\n",
       "       [1.00000000e+00, 3.20726835e-19, 3.52267199e-17],\n",
       "       [9.35703608e-01, 5.87869811e-02, 5.50941106e-03],\n",
       "       [1.00000000e+00, 8.85365192e-19, 4.49256502e-17],\n",
       "       [1.00000000e+00, 1.93530313e-16, 8.48028138e-16],\n",
       "       [1.00000000e+00, 4.77580015e-12, 8.62673306e-11],\n",
       "       [9.99999990e-01, 7.44782829e-09, 2.49191611e-09],\n",
       "       [9.99999958e-01, 9.93821203e-09, 3.16033288e-08]])"
      ]
     },
     "execution_count": 20,
     "metadata": {},
     "output_type": "execute_result"
    }
   ],
   "source": [
    "net.predict_proba(X_wine)[:10]"
   ]
  },
  {
   "cell_type": "code",
   "execution_count": 21,
   "id": "4dff7109-f957-41c7-b0b0-f4a32345ee87",
   "metadata": {},
   "outputs": [],
   "source": [
    "# net.predict_log_proba(X_wine[:10])"
   ]
  },
  {
   "cell_type": "code",
   "execution_count": 22,
   "id": "ba3473c3-b8e2-4512-93fe-2c8e787a52b3",
   "metadata": {},
   "outputs": [],
   "source": [
    "# net.predict_proba(X_wine[:10])"
   ]
  },
  {
   "cell_type": "markdown",
   "id": "e92d6a7b-c7e9-4add-aed2-45d62a9ca17f",
   "metadata": {},
   "source": [
    "#### Now define a sampler"
   ]
  },
  {
   "cell_type": "code",
   "execution_count": 23,
   "id": "f205faa2-9b76-4567-a41b-1678d0a2f6c5",
   "metadata": {},
   "outputs": [],
   "source": [
    "# auxiliary = scipy.stats.uniform(-0.2, 1.2)   # i.e. from -0.2 to 1.0\n",
    "\n",
    "# sampler = maxentropy.utils.auxiliary_sampler_scipy(auxiliary, n_samples=10_000)"
   ]
  },
  {
   "cell_type": "code",
   "execution_count": 86,
   "id": "b8288f57-d1fa-49ac-bbf4-fa48a8088d12",
   "metadata": {},
   "outputs": [],
   "source": [
    "stretched_minima, stretched_maxima = utils.bounds_stretched(X_wine, 10.0)\n",
    "uniform_dist = scipy.stats.uniform(\n",
    "    stretched_minima, stretched_maxima - stretched_minima\n",
    ")\n",
    "sampler = utils.auxiliary_sampler_scipy(\n",
    "    uniform_dist, n_dims=len(wine[\"feature_names\"]), n_samples=100_000\n",
    ")"
   ]
  },
  {
   "cell_type": "code",
   "execution_count": 87,
   "id": "dda7469a-3a6e-41c9-b628-0129cc45e849",
   "metadata": {},
   "outputs": [
    {
     "data": {
      "text/plain": [
       "0.4060492307692308"
      ]
     },
     "execution_count": 87,
     "metadata": {},
     "output_type": "execute_result"
    }
   ],
   "source": [
    "np.mean(next(sampler)[0] < 0)"
   ]
  },
  {
   "cell_type": "code",
   "execution_count": 88,
   "id": "925c16dd-a7ca-4e7f-9010-d9b124c859a5",
   "metadata": {},
   "outputs": [],
   "source": [
    "@tz.curry\n",
    "def non_neg(column, x):\n",
    "    return x[:, column] >= 0"
   ]
  },
  {
   "cell_type": "code",
   "execution_count": 89,
   "id": "a19f1d19-8f0b-449f-9828-aa58c524f1da",
   "metadata": {},
   "outputs": [],
   "source": [
    "# def non_neg(x):\n",
    "#     return x >= 0"
   ]
  },
  {
   "cell_type": "code",
   "execution_count": 90,
   "id": "d68902b8-c8f6-4c01-b8d6-5c08015fac7a",
   "metadata": {},
   "outputs": [],
   "source": [
    "def scalar(x):\n",
    "    return 1.0"
   ]
  },
  {
   "cell_type": "code",
   "execution_count": 91,
   "id": "0ae604de-b2a9-4e0d-86da-c61388ea7241",
   "metadata": {},
   "outputs": [],
   "source": [
    "feature_functions = [non_neg(i) for i in range(len(wine['feature_names']))]"
   ]
  },
  {
   "cell_type": "code",
   "execution_count": 92,
   "id": "b4652af9-8114-4313-87a1-0911fbe6b852",
   "metadata": {},
   "outputs": [],
   "source": [
    "from maxentropy.utils import feature_sampler"
   ]
  },
  {
   "cell_type": "code",
   "execution_count": 93,
   "id": "91c3c3f8-e9d7-4499-9599-eb97feb2782a",
   "metadata": {},
   "outputs": [],
   "source": [
    "sampleFgen = feature_sampler(\n",
    "            feature_functions,\n",
    "            sampler,\n",
    "            vectorized=True,\n",
    "            matrix_format='ndarray',\n",
    "        )"
   ]
  },
  {
   "cell_type": "code",
   "execution_count": 94,
   "id": "ed6129b7-061e-4cc7-8e17-46939bfb470c",
   "metadata": {},
   "outputs": [
    {
     "data": {
      "text/plain": [
       "(100000, 13)"
      ]
     },
     "execution_count": 94,
     "metadata": {},
     "output_type": "execute_result"
    }
   ],
   "source": [
    "next(sampleFgen)[0].shape"
   ]
  },
  {
   "cell_type": "code",
   "execution_count": 95,
   "id": "0d912a39-3258-4cca-b26f-7c60f12d656c",
   "metadata": {},
   "outputs": [
    {
     "data": {
      "text/plain": [
       "0.5951792307692307"
      ]
     },
     "execution_count": 95,
     "metadata": {},
     "output_type": "execute_result"
    }
   ],
   "source": [
    "next(sampleFgen)[0].mean()"
   ]
  },
  {
   "cell_type": "code",
   "execution_count": 96,
   "id": "02b987fd-29e0-49b6-b6bb-6ddac8434341",
   "metadata": {},
   "outputs": [
    {
     "data": {
      "text/plain": [
       "(100000,)"
      ]
     },
     "execution_count": 96,
     "metadata": {},
     "output_type": "execute_result"
    }
   ],
   "source": [
    "next(sampleFgen)[1].shape"
   ]
  },
  {
   "cell_type": "code",
   "execution_count": 97,
   "id": "12b39c4a-7eff-41c4-aa38-b0c0821dd0f3",
   "metadata": {},
   "outputs": [
    {
     "data": {
      "text/plain": [
       "(100000, 13)"
      ]
     },
     "execution_count": 97,
     "metadata": {},
     "output_type": "execute_result"
    }
   ],
   "source": [
    "next(sampleFgen)[2].shape"
   ]
  },
  {
   "cell_type": "markdown",
   "id": "aef30367-74c4-4b06-bb7a-f3d4f302b1c3",
   "metadata": {},
   "source": [
    "#### The neural network has fit K different models for the K different target classes.\n",
    "\n",
    "Here we just twiddle the density for the first target class:"
   ]
  },
  {
   "cell_type": "code",
   "execution_count": 98,
   "id": "d28cd81a-6f84-4931-b1e0-c57fd1e43277",
   "metadata": {},
   "outputs": [
    {
     "data": {
      "text/plain": [
       "array([[9.99997359e-01, 1.74069242e-06, 9.00339952e-07],\n",
       "       [9.99999998e-01, 1.14744691e-09, 4.92073562e-10],\n",
       "       [1.00000000e+00, 1.53418384e-11, 2.32317785e-11]])"
      ]
     },
     "execution_count": 98,
     "metadata": {},
     "output_type": "execute_result"
    }
   ],
   "source": [
    "outputs = forward_pass(net, X_wine)\n",
    "outputs[:3]"
   ]
  },
  {
   "cell_type": "code",
   "execution_count": 162,
   "id": "2506b77b-109a-4ef1-8bd5-d87eb4c091fb",
   "metadata": {},
   "outputs": [
    {
     "data": {
      "text/plain": [
       "array([[9.99997359e-01, 1.74069242e-06, 9.00339952e-07],\n",
       "       [9.99999998e-01, 1.14744691e-09, 4.92073562e-10],\n",
       "       [1.00000000e+00, 1.53418384e-11, 2.32317785e-11]])"
      ]
     },
     "execution_count": 162,
     "metadata": {},
     "output_type": "execute_result"
    }
   ],
   "source": [
    "outputs = net.predict_proba(X_wine)\n",
    "outputs[:3]"
   ]
  },
  {
   "cell_type": "code",
   "execution_count": 163,
   "id": "f8707745-c7ca-41f6-a986-c7445133dc59",
   "metadata": {},
   "outputs": [
    {
     "data": {
      "text/plain": [
       "array([0.42208937, 0.28603808, 0.29187255])"
      ]
     },
     "execution_count": 163,
     "metadata": {},
     "output_type": "execute_result"
    }
   ],
   "source": [
    "outputs.mean(axis=0)"
   ]
  },
  {
   "cell_type": "code",
   "execution_count": 171,
   "id": "4c8e21b7-2a50-42ca-94bb-6293972a51a9",
   "metadata": {},
   "outputs": [
    {
     "data": {
      "text/plain": [
       "array([59, 71, 48])"
      ]
     },
     "execution_count": 171,
     "metadata": {},
     "output_type": "execute_result"
    }
   ],
   "source": [
    "np.unique(y_wine, return_counts=True)[1]"
   ]
  },
  {
   "cell_type": "code",
   "execution_count": 173,
   "id": "08499cc3-1594-4da9-bf8a-4a0f4c192345",
   "metadata": {},
   "outputs": [
    {
     "data": {
      "text/plain": [
       "array([59, 71, 48])"
      ]
     },
     "execution_count": 173,
     "metadata": {},
     "output_type": "execute_result"
    }
   ],
   "source": [
    "np.bincount(y_wine)"
   ]
  },
  {
   "cell_type": "code",
   "execution_count": 164,
   "id": "12ce5d44-b008-4df2-a5af-861715a86d53",
   "metadata": {},
   "outputs": [],
   "source": [
    "centered_outputs = outputs - outputs.mean(axis=0)"
   ]
  },
  {
   "cell_type": "code",
   "execution_count": 165,
   "id": "640c27ec-48b7-4af1-b8c9-3d85c0ff0ae9",
   "metadata": {},
   "outputs": [
    {
     "data": {
      "text/plain": [
       "array([0.42, 0.29, 0.29])"
      ]
     },
     "execution_count": 165,
     "metadata": {},
     "output_type": "execute_result"
    }
   ],
   "source": [
    "np.round(outputs.mean(axis=0), 2)"
   ]
  },
  {
   "cell_type": "code",
   "execution_count": 166,
   "id": "eb33873d-eb92-4d1d-81ef-3dc8e64d4e4c",
   "metadata": {},
   "outputs": [
    {
     "data": {
      "text/plain": [
       "array([[ 0.57790799, -0.28603634, -0.29187165],\n",
       "       [ 0.57791063, -0.28603808, -0.29187255],\n",
       "       [ 0.57791063, -0.28603808, -0.29187255]])"
      ]
     },
     "execution_count": 166,
     "metadata": {},
     "output_type": "execute_result"
    }
   ],
   "source": [
    "centered_outputs[:3]"
   ]
  },
  {
   "cell_type": "code",
   "execution_count": 167,
   "id": "17b05c35-108a-4c1b-99bf-4d7ce52860a8",
   "metadata": {},
   "outputs": [],
   "source": [
    "@tz.curry\n",
    "def forward_pass_centered(net, target_class, xs):\n",
    "    # return forward_pass_without_output_layer(net, xs)[:, target_class] - outputs[:, target_class].mean()\n",
    "    output = net.predict_proba(xs)[:, target_class] - outputs[:, target_class].mean()\n",
    "    return output"
   ]
  },
  {
   "cell_type": "markdown",
   "id": "2ff54721-ba90-42fe-a7ac-7eeee93f37d5",
   "metadata": {},
   "source": [
    "The above seems to work, but the logic is wrong ..."
   ]
  },
  {
   "cell_type": "markdown",
   "id": "f1e35dc2-8e36-4d8e-bb2f-b92253ce9672",
   "metadata": {},
   "source": [
    "#### Now do the sensible thing."
   ]
  },
  {
   "cell_type": "code",
   "execution_count": 128,
   "id": "95ccc0d7-0055-4e4a-a612-dcd5e9552334",
   "metadata": {},
   "outputs": [],
   "source": [
    "@tz.curry\n",
    "def log_p_x_given_k(net, class_probabilities, target_class, xs):\n",
    "    \"\"\"\n",
    "    This calculates the log of p(x | k = target_class) up to an additive constant (independent of k).\n",
    "\n",
    "    Since:\n",
    "    \n",
    "        p(x | k) = p(k | x) / p(k) * p(x)\n",
    "\n",
    "    we have:\n",
    "\n",
    "        log p(x | k) = log p(k | x) - log p(k) + additive_constant_indep_of_k\n",
    "\n",
    "    \"\"\"\n",
    "    import pdb\n",
    "    pdb.set_trace()\n",
    "    # return forward_pass_without_output_layer(net, xs)[:, target_class] - outputs[:, target_class].mean()\n",
    "    output = net.predict_log_proba(xs)[:, target_class] - np.log(class_probabilities) outputs[:, target_class].mean()\n",
    "    return output"
   ]
  },
  {
   "cell_type": "code",
   "execution_count": null,
   "id": "bd593e0f-6184-4cc3-ae9e-a6f0e2b30d05",
   "metadata": {},
   "outputs": [],
   "source": []
  },
  {
   "cell_type": "code",
   "execution_count": 131,
   "id": "378f818b-047d-4ae0-bf7d-81e604cfb5c3",
   "metadata": {},
   "outputs": [
    {
     "name": "stdout",
     "output_type": "stream",
     "text": [
      "> \u001b[0;32m/var/folders/yv/wb9c1bwx4r91d458q1c8ybhm0000gn/T/ipykernel_79125/3802623020.py\u001b[0m(6)\u001b[0;36mforward_pass_centered\u001b[0;34m()\u001b[0m\n",
      "\u001b[0;32m      4 \u001b[0;31m    \u001b[0mpdb\u001b[0m\u001b[0;34m.\u001b[0m\u001b[0mset_trace\u001b[0m\u001b[0;34m(\u001b[0m\u001b[0;34m)\u001b[0m\u001b[0;34m\u001b[0m\u001b[0;34m\u001b[0m\u001b[0m\n",
      "\u001b[0m\u001b[0;32m      5 \u001b[0;31m    \u001b[0;31m# return forward_pass_without_output_layer(net, xs)[:, target_class] - outputs[:, target_class].mean()\u001b[0m\u001b[0;34m\u001b[0m\u001b[0;34m\u001b[0m\u001b[0m\n",
      "\u001b[0m\u001b[0;32m----> 6 \u001b[0;31m    \u001b[0moutput1\u001b[0m \u001b[0;34m=\u001b[0m \u001b[0mnet\u001b[0m\u001b[0;34m.\u001b[0m\u001b[0mpredict_proba\u001b[0m\u001b[0;34m(\u001b[0m\u001b[0mxs\u001b[0m\u001b[0;34m)\u001b[0m\u001b[0;34m[\u001b[0m\u001b[0;34m:\u001b[0m\u001b[0;34m,\u001b[0m \u001b[0mtarget_class\u001b[0m\u001b[0;34m]\u001b[0m \u001b[0;34m-\u001b[0m \u001b[0moutputs\u001b[0m\u001b[0;34m[\u001b[0m\u001b[0;34m:\u001b[0m\u001b[0;34m,\u001b[0m \u001b[0mtarget_class\u001b[0m\u001b[0;34m]\u001b[0m\u001b[0;34m.\u001b[0m\u001b[0mmean\u001b[0m\u001b[0;34m(\u001b[0m\u001b[0;34m)\u001b[0m\u001b[0;34m\u001b[0m\u001b[0;34m\u001b[0m\u001b[0m\n",
      "\u001b[0m\u001b[0;32m      7 \u001b[0;31m    \u001b[0moutput2\u001b[0m \u001b[0;34m=\u001b[0m \u001b[0mnet\u001b[0m\u001b[0;34m.\u001b[0m\u001b[0mpredict_proba\u001b[0m\u001b[0;34m(\u001b[0m\u001b[0mxs\u001b[0m\u001b[0;34m)\u001b[0m\u001b[0;34m[\u001b[0m\u001b[0;34m:\u001b[0m\u001b[0;34m,\u001b[0m \u001b[0mtarget_class\u001b[0m\u001b[0;34m]\u001b[0m\u001b[0;34m\u001b[0m\u001b[0;34m\u001b[0m\u001b[0m\n",
      "\u001b[0m\u001b[0;32m      8 \u001b[0;31m    \u001b[0;32mreturn\u001b[0m \u001b[0moutput2\u001b[0m\u001b[0;34m\u001b[0m\u001b[0;34m\u001b[0m\u001b[0m\n",
      "\u001b[0m\n"
     ]
    },
    {
     "name": "stdin",
     "output_type": "stream",
     "text": [
      "ipdb>  c\n"
     ]
    },
    {
     "data": {
      "text/plain": [
       "array([0.99999736, 1.        , 1.        ])"
      ]
     },
     "execution_count": 131,
     "metadata": {},
     "output_type": "execute_result"
    }
   ],
   "source": [
    "forward_pass_centered(net, 0, X_wine)[:3]"
   ]
  },
  {
   "cell_type": "code",
   "execution_count": 132,
   "id": "e7af0521-b0ad-4bda-806d-4cfd1db9f7a8",
   "metadata": {},
   "outputs": [
    {
     "name": "stdout",
     "output_type": "stream",
     "text": [
      "> \u001b[0;32m/var/folders/yv/wb9c1bwx4r91d458q1c8ybhm0000gn/T/ipykernel_79125/3802623020.py\u001b[0m(6)\u001b[0;36mforward_pass_centered\u001b[0;34m()\u001b[0m\n",
      "\u001b[0;32m      4 \u001b[0;31m    \u001b[0mpdb\u001b[0m\u001b[0;34m.\u001b[0m\u001b[0mset_trace\u001b[0m\u001b[0;34m(\u001b[0m\u001b[0;34m)\u001b[0m\u001b[0;34m\u001b[0m\u001b[0;34m\u001b[0m\u001b[0m\n",
      "\u001b[0m\u001b[0;32m      5 \u001b[0;31m    \u001b[0;31m# return forward_pass_without_output_layer(net, xs)[:, target_class] - outputs[:, target_class].mean()\u001b[0m\u001b[0;34m\u001b[0m\u001b[0;34m\u001b[0m\u001b[0m\n",
      "\u001b[0m\u001b[0;32m----> 6 \u001b[0;31m    \u001b[0moutput1\u001b[0m \u001b[0;34m=\u001b[0m \u001b[0mnet\u001b[0m\u001b[0;34m.\u001b[0m\u001b[0mpredict_proba\u001b[0m\u001b[0;34m(\u001b[0m\u001b[0mxs\u001b[0m\u001b[0;34m)\u001b[0m\u001b[0;34m[\u001b[0m\u001b[0;34m:\u001b[0m\u001b[0;34m,\u001b[0m \u001b[0mtarget_class\u001b[0m\u001b[0;34m]\u001b[0m \u001b[0;34m-\u001b[0m \u001b[0moutputs\u001b[0m\u001b[0;34m[\u001b[0m\u001b[0;34m:\u001b[0m\u001b[0;34m,\u001b[0m \u001b[0mtarget_class\u001b[0m\u001b[0;34m]\u001b[0m\u001b[0;34m.\u001b[0m\u001b[0mmean\u001b[0m\u001b[0;34m(\u001b[0m\u001b[0;34m)\u001b[0m\u001b[0;34m\u001b[0m\u001b[0;34m\u001b[0m\u001b[0m\n",
      "\u001b[0m\u001b[0;32m      7 \u001b[0;31m    \u001b[0moutput2\u001b[0m \u001b[0;34m=\u001b[0m \u001b[0mnet\u001b[0m\u001b[0;34m.\u001b[0m\u001b[0mpredict_proba\u001b[0m\u001b[0;34m(\u001b[0m\u001b[0mxs\u001b[0m\u001b[0;34m)\u001b[0m\u001b[0;34m[\u001b[0m\u001b[0;34m:\u001b[0m\u001b[0;34m,\u001b[0m \u001b[0mtarget_class\u001b[0m\u001b[0;34m]\u001b[0m\u001b[0;34m\u001b[0m\u001b[0;34m\u001b[0m\u001b[0m\n",
      "\u001b[0m\u001b[0;32m      8 \u001b[0;31m    \u001b[0;32mreturn\u001b[0m \u001b[0moutput2\u001b[0m\u001b[0;34m\u001b[0m\u001b[0;34m\u001b[0m\u001b[0m\n",
      "\u001b[0m\n"
     ]
    },
    {
     "name": "stdin",
     "output_type": "stream",
     "text": [
      "ipdb>  c\n"
     ]
    }
   ],
   "source": [
    "target_class = 0\n",
    "\n",
    "model0 = maxentropy.SamplingMinKLDensity(\n",
    "    feature_functions,\n",
    "    sampler,\n",
    "    prior_log_pdf = forward_pass_centered(net, target_class),\n",
    "    matrix_format='ndarray',\n",
    "    vectorized=True\n",
    ")"
   ]
  },
  {
   "cell_type": "code",
   "execution_count": 133,
   "id": "f63dd1ef-36a4-402e-8dea-ed56497fc2db",
   "metadata": {},
   "outputs": [
    {
     "data": {
      "text/plain": [
       "array([69.13366292])"
      ]
     },
     "execution_count": 133,
     "metadata": {},
     "output_type": "execute_result"
    }
   ],
   "source": [
    "np.array([X_wine.mean()])"
   ]
  },
  {
   "cell_type": "code",
   "execution_count": 134,
   "id": "b2df39a6-d94d-49a7-8f1f-c89f1228013c",
   "metadata": {},
   "outputs": [],
   "source": [
    "# X_wine[y_wine==target_class]"
   ]
  },
  {
   "cell_type": "code",
   "execution_count": 135,
   "id": "fd64bd3c-d8f3-432a-a0bb-cc960f3c53d0",
   "metadata": {},
   "outputs": [
    {
     "data": {
      "text/plain": [
       "(59, 13)"
      ]
     },
     "execution_count": 135,
     "metadata": {},
     "output_type": "execute_result"
    }
   ],
   "source": [
    "X_wine_subset = X_wine[y_wine == target_class]\n",
    "X_wine_subset.shape"
   ]
  },
  {
   "cell_type": "code",
   "execution_count": 136,
   "id": "31e84721-f229-4316-9ba2-0bd54cafc5a5",
   "metadata": {},
   "outputs": [],
   "source": [
    "k = model0.features(X_wine_subset).mean(axis=0)"
   ]
  },
  {
   "cell_type": "code",
   "execution_count": 137,
   "id": "90a0fafc-f4ea-45ff-ba2d-f14537d7832f",
   "metadata": {},
   "outputs": [
    {
     "data": {
      "text/html": [
       "<style>#sk-container-id-5 {\n",
       "  /* Definition of color scheme common for light and dark mode */\n",
       "  --sklearn-color-text: black;\n",
       "  --sklearn-color-line: gray;\n",
       "  /* Definition of color scheme for unfitted estimators */\n",
       "  --sklearn-color-unfitted-level-0: #fff5e6;\n",
       "  --sklearn-color-unfitted-level-1: #f6e4d2;\n",
       "  --sklearn-color-unfitted-level-2: #ffe0b3;\n",
       "  --sklearn-color-unfitted-level-3: chocolate;\n",
       "  /* Definition of color scheme for fitted estimators */\n",
       "  --sklearn-color-fitted-level-0: #f0f8ff;\n",
       "  --sklearn-color-fitted-level-1: #d4ebff;\n",
       "  --sklearn-color-fitted-level-2: #b3dbfd;\n",
       "  --sklearn-color-fitted-level-3: cornflowerblue;\n",
       "\n",
       "  /* Specific color for light theme */\n",
       "  --sklearn-color-text-on-default-background: var(--sg-text-color, var(--theme-code-foreground, var(--jp-content-font-color1, black)));\n",
       "  --sklearn-color-background: var(--sg-background-color, var(--theme-background, var(--jp-layout-color0, white)));\n",
       "  --sklearn-color-border-box: var(--sg-text-color, var(--theme-code-foreground, var(--jp-content-font-color1, black)));\n",
       "  --sklearn-color-icon: #696969;\n",
       "\n",
       "  @media (prefers-color-scheme: dark) {\n",
       "    /* Redefinition of color scheme for dark theme */\n",
       "    --sklearn-color-text-on-default-background: var(--sg-text-color, var(--theme-code-foreground, var(--jp-content-font-color1, white)));\n",
       "    --sklearn-color-background: var(--sg-background-color, var(--theme-background, var(--jp-layout-color0, #111)));\n",
       "    --sklearn-color-border-box: var(--sg-text-color, var(--theme-code-foreground, var(--jp-content-font-color1, white)));\n",
       "    --sklearn-color-icon: #878787;\n",
       "  }\n",
       "}\n",
       "\n",
       "#sk-container-id-5 {\n",
       "  color: var(--sklearn-color-text);\n",
       "}\n",
       "\n",
       "#sk-container-id-5 pre {\n",
       "  padding: 0;\n",
       "}\n",
       "\n",
       "#sk-container-id-5 input.sk-hidden--visually {\n",
       "  border: 0;\n",
       "  clip: rect(1px 1px 1px 1px);\n",
       "  clip: rect(1px, 1px, 1px, 1px);\n",
       "  height: 1px;\n",
       "  margin: -1px;\n",
       "  overflow: hidden;\n",
       "  padding: 0;\n",
       "  position: absolute;\n",
       "  width: 1px;\n",
       "}\n",
       "\n",
       "#sk-container-id-5 div.sk-dashed-wrapped {\n",
       "  border: 1px dashed var(--sklearn-color-line);\n",
       "  margin: 0 0.4em 0.5em 0.4em;\n",
       "  box-sizing: border-box;\n",
       "  padding-bottom: 0.4em;\n",
       "  background-color: var(--sklearn-color-background);\n",
       "}\n",
       "\n",
       "#sk-container-id-5 div.sk-container {\n",
       "  /* jupyter's `normalize.less` sets `[hidden] { display: none; }`\n",
       "     but bootstrap.min.css set `[hidden] { display: none !important; }`\n",
       "     so we also need the `!important` here to be able to override the\n",
       "     default hidden behavior on the sphinx rendered scikit-learn.org.\n",
       "     See: https://github.com/scikit-learn/scikit-learn/issues/21755 */\n",
       "  display: inline-block !important;\n",
       "  position: relative;\n",
       "}\n",
       "\n",
       "#sk-container-id-5 div.sk-text-repr-fallback {\n",
       "  display: none;\n",
       "}\n",
       "\n",
       "div.sk-parallel-item,\n",
       "div.sk-serial,\n",
       "div.sk-item {\n",
       "  /* draw centered vertical line to link estimators */\n",
       "  background-image: linear-gradient(var(--sklearn-color-text-on-default-background), var(--sklearn-color-text-on-default-background));\n",
       "  background-size: 2px 100%;\n",
       "  background-repeat: no-repeat;\n",
       "  background-position: center center;\n",
       "}\n",
       "\n",
       "/* Parallel-specific style estimator block */\n",
       "\n",
       "#sk-container-id-5 div.sk-parallel-item::after {\n",
       "  content: \"\";\n",
       "  width: 100%;\n",
       "  border-bottom: 2px solid var(--sklearn-color-text-on-default-background);\n",
       "  flex-grow: 1;\n",
       "}\n",
       "\n",
       "#sk-container-id-5 div.sk-parallel {\n",
       "  display: flex;\n",
       "  align-items: stretch;\n",
       "  justify-content: center;\n",
       "  background-color: var(--sklearn-color-background);\n",
       "  position: relative;\n",
       "}\n",
       "\n",
       "#sk-container-id-5 div.sk-parallel-item {\n",
       "  display: flex;\n",
       "  flex-direction: column;\n",
       "}\n",
       "\n",
       "#sk-container-id-5 div.sk-parallel-item:first-child::after {\n",
       "  align-self: flex-end;\n",
       "  width: 50%;\n",
       "}\n",
       "\n",
       "#sk-container-id-5 div.sk-parallel-item:last-child::after {\n",
       "  align-self: flex-start;\n",
       "  width: 50%;\n",
       "}\n",
       "\n",
       "#sk-container-id-5 div.sk-parallel-item:only-child::after {\n",
       "  width: 0;\n",
       "}\n",
       "\n",
       "/* Serial-specific style estimator block */\n",
       "\n",
       "#sk-container-id-5 div.sk-serial {\n",
       "  display: flex;\n",
       "  flex-direction: column;\n",
       "  align-items: center;\n",
       "  background-color: var(--sklearn-color-background);\n",
       "  padding-right: 1em;\n",
       "  padding-left: 1em;\n",
       "}\n",
       "\n",
       "\n",
       "/* Toggleable style: style used for estimator/Pipeline/ColumnTransformer box that is\n",
       "clickable and can be expanded/collapsed.\n",
       "- Pipeline and ColumnTransformer use this feature and define the default style\n",
       "- Estimators will overwrite some part of the style using the `sk-estimator` class\n",
       "*/\n",
       "\n",
       "/* Pipeline and ColumnTransformer style (default) */\n",
       "\n",
       "#sk-container-id-5 div.sk-toggleable {\n",
       "  /* Default theme specific background. It is overwritten whether we have a\n",
       "  specific estimator or a Pipeline/ColumnTransformer */\n",
       "  background-color: var(--sklearn-color-background);\n",
       "}\n",
       "\n",
       "/* Toggleable label */\n",
       "#sk-container-id-5 label.sk-toggleable__label {\n",
       "  cursor: pointer;\n",
       "  display: block;\n",
       "  width: 100%;\n",
       "  margin-bottom: 0;\n",
       "  padding: 0.5em;\n",
       "  box-sizing: border-box;\n",
       "  text-align: center;\n",
       "}\n",
       "\n",
       "#sk-container-id-5 label.sk-toggleable__label-arrow:before {\n",
       "  /* Arrow on the left of the label */\n",
       "  content: \"▸\";\n",
       "  float: left;\n",
       "  margin-right: 0.25em;\n",
       "  color: var(--sklearn-color-icon);\n",
       "}\n",
       "\n",
       "#sk-container-id-5 label.sk-toggleable__label-arrow:hover:before {\n",
       "  color: var(--sklearn-color-text);\n",
       "}\n",
       "\n",
       "/* Toggleable content - dropdown */\n",
       "\n",
       "#sk-container-id-5 div.sk-toggleable__content {\n",
       "  max-height: 0;\n",
       "  max-width: 0;\n",
       "  overflow: hidden;\n",
       "  text-align: left;\n",
       "  /* unfitted */\n",
       "  background-color: var(--sklearn-color-unfitted-level-0);\n",
       "}\n",
       "\n",
       "#sk-container-id-5 div.sk-toggleable__content.fitted {\n",
       "  /* fitted */\n",
       "  background-color: var(--sklearn-color-fitted-level-0);\n",
       "}\n",
       "\n",
       "#sk-container-id-5 div.sk-toggleable__content pre {\n",
       "  margin: 0.2em;\n",
       "  border-radius: 0.25em;\n",
       "  color: var(--sklearn-color-text);\n",
       "  /* unfitted */\n",
       "  background-color: var(--sklearn-color-unfitted-level-0);\n",
       "}\n",
       "\n",
       "#sk-container-id-5 div.sk-toggleable__content.fitted pre {\n",
       "  /* unfitted */\n",
       "  background-color: var(--sklearn-color-fitted-level-0);\n",
       "}\n",
       "\n",
       "#sk-container-id-5 input.sk-toggleable__control:checked~div.sk-toggleable__content {\n",
       "  /* Expand drop-down */\n",
       "  max-height: 200px;\n",
       "  max-width: 100%;\n",
       "  overflow: auto;\n",
       "}\n",
       "\n",
       "#sk-container-id-5 input.sk-toggleable__control:checked~label.sk-toggleable__label-arrow:before {\n",
       "  content: \"▾\";\n",
       "}\n",
       "\n",
       "/* Pipeline/ColumnTransformer-specific style */\n",
       "\n",
       "#sk-container-id-5 div.sk-label input.sk-toggleable__control:checked~label.sk-toggleable__label {\n",
       "  color: var(--sklearn-color-text);\n",
       "  background-color: var(--sklearn-color-unfitted-level-2);\n",
       "}\n",
       "\n",
       "#sk-container-id-5 div.sk-label.fitted input.sk-toggleable__control:checked~label.sk-toggleable__label {\n",
       "  background-color: var(--sklearn-color-fitted-level-2);\n",
       "}\n",
       "\n",
       "/* Estimator-specific style */\n",
       "\n",
       "/* Colorize estimator box */\n",
       "#sk-container-id-5 div.sk-estimator input.sk-toggleable__control:checked~label.sk-toggleable__label {\n",
       "  /* unfitted */\n",
       "  background-color: var(--sklearn-color-unfitted-level-2);\n",
       "}\n",
       "\n",
       "#sk-container-id-5 div.sk-estimator.fitted input.sk-toggleable__control:checked~label.sk-toggleable__label {\n",
       "  /* fitted */\n",
       "  background-color: var(--sklearn-color-fitted-level-2);\n",
       "}\n",
       "\n",
       "#sk-container-id-5 div.sk-label label.sk-toggleable__label,\n",
       "#sk-container-id-5 div.sk-label label {\n",
       "  /* The background is the default theme color */\n",
       "  color: var(--sklearn-color-text-on-default-background);\n",
       "}\n",
       "\n",
       "/* On hover, darken the color of the background */\n",
       "#sk-container-id-5 div.sk-label:hover label.sk-toggleable__label {\n",
       "  color: var(--sklearn-color-text);\n",
       "  background-color: var(--sklearn-color-unfitted-level-2);\n",
       "}\n",
       "\n",
       "/* Label box, darken color on hover, fitted */\n",
       "#sk-container-id-5 div.sk-label.fitted:hover label.sk-toggleable__label.fitted {\n",
       "  color: var(--sklearn-color-text);\n",
       "  background-color: var(--sklearn-color-fitted-level-2);\n",
       "}\n",
       "\n",
       "/* Estimator label */\n",
       "\n",
       "#sk-container-id-5 div.sk-label label {\n",
       "  font-family: monospace;\n",
       "  font-weight: bold;\n",
       "  display: inline-block;\n",
       "  line-height: 1.2em;\n",
       "}\n",
       "\n",
       "#sk-container-id-5 div.sk-label-container {\n",
       "  text-align: center;\n",
       "}\n",
       "\n",
       "/* Estimator-specific */\n",
       "#sk-container-id-5 div.sk-estimator {\n",
       "  font-family: monospace;\n",
       "  border: 1px dotted var(--sklearn-color-border-box);\n",
       "  border-radius: 0.25em;\n",
       "  box-sizing: border-box;\n",
       "  margin-bottom: 0.5em;\n",
       "  /* unfitted */\n",
       "  background-color: var(--sklearn-color-unfitted-level-0);\n",
       "}\n",
       "\n",
       "#sk-container-id-5 div.sk-estimator.fitted {\n",
       "  /* fitted */\n",
       "  background-color: var(--sklearn-color-fitted-level-0);\n",
       "}\n",
       "\n",
       "/* on hover */\n",
       "#sk-container-id-5 div.sk-estimator:hover {\n",
       "  /* unfitted */\n",
       "  background-color: var(--sklearn-color-unfitted-level-2);\n",
       "}\n",
       "\n",
       "#sk-container-id-5 div.sk-estimator.fitted:hover {\n",
       "  /* fitted */\n",
       "  background-color: var(--sklearn-color-fitted-level-2);\n",
       "}\n",
       "\n",
       "/* Specification for estimator info (e.g. \"i\" and \"?\") */\n",
       "\n",
       "/* Common style for \"i\" and \"?\" */\n",
       "\n",
       ".sk-estimator-doc-link,\n",
       "a:link.sk-estimator-doc-link,\n",
       "a:visited.sk-estimator-doc-link {\n",
       "  float: right;\n",
       "  font-size: smaller;\n",
       "  line-height: 1em;\n",
       "  font-family: monospace;\n",
       "  background-color: var(--sklearn-color-background);\n",
       "  border-radius: 1em;\n",
       "  height: 1em;\n",
       "  width: 1em;\n",
       "  text-decoration: none !important;\n",
       "  margin-left: 1ex;\n",
       "  /* unfitted */\n",
       "  border: var(--sklearn-color-unfitted-level-1) 1pt solid;\n",
       "  color: var(--sklearn-color-unfitted-level-1);\n",
       "}\n",
       "\n",
       ".sk-estimator-doc-link.fitted,\n",
       "a:link.sk-estimator-doc-link.fitted,\n",
       "a:visited.sk-estimator-doc-link.fitted {\n",
       "  /* fitted */\n",
       "  border: var(--sklearn-color-fitted-level-1) 1pt solid;\n",
       "  color: var(--sklearn-color-fitted-level-1);\n",
       "}\n",
       "\n",
       "/* On hover */\n",
       "div.sk-estimator:hover .sk-estimator-doc-link:hover,\n",
       ".sk-estimator-doc-link:hover,\n",
       "div.sk-label-container:hover .sk-estimator-doc-link:hover,\n",
       ".sk-estimator-doc-link:hover {\n",
       "  /* unfitted */\n",
       "  background-color: var(--sklearn-color-unfitted-level-3);\n",
       "  color: var(--sklearn-color-background);\n",
       "  text-decoration: none;\n",
       "}\n",
       "\n",
       "div.sk-estimator.fitted:hover .sk-estimator-doc-link.fitted:hover,\n",
       ".sk-estimator-doc-link.fitted:hover,\n",
       "div.sk-label-container:hover .sk-estimator-doc-link.fitted:hover,\n",
       ".sk-estimator-doc-link.fitted:hover {\n",
       "  /* fitted */\n",
       "  background-color: var(--sklearn-color-fitted-level-3);\n",
       "  color: var(--sklearn-color-background);\n",
       "  text-decoration: none;\n",
       "}\n",
       "\n",
       "/* Span, style for the box shown on hovering the info icon */\n",
       ".sk-estimator-doc-link span {\n",
       "  display: none;\n",
       "  z-index: 9999;\n",
       "  position: relative;\n",
       "  font-weight: normal;\n",
       "  right: .2ex;\n",
       "  padding: .5ex;\n",
       "  margin: .5ex;\n",
       "  width: min-content;\n",
       "  min-width: 20ex;\n",
       "  max-width: 50ex;\n",
       "  color: var(--sklearn-color-text);\n",
       "  box-shadow: 2pt 2pt 4pt #999;\n",
       "  /* unfitted */\n",
       "  background: var(--sklearn-color-unfitted-level-0);\n",
       "  border: .5pt solid var(--sklearn-color-unfitted-level-3);\n",
       "}\n",
       "\n",
       ".sk-estimator-doc-link.fitted span {\n",
       "  /* fitted */\n",
       "  background: var(--sklearn-color-fitted-level-0);\n",
       "  border: var(--sklearn-color-fitted-level-3);\n",
       "}\n",
       "\n",
       ".sk-estimator-doc-link:hover span {\n",
       "  display: block;\n",
       "}\n",
       "\n",
       "/* \"?\"-specific style due to the `<a>` HTML tag */\n",
       "\n",
       "#sk-container-id-5 a.estimator_doc_link {\n",
       "  float: right;\n",
       "  font-size: 1rem;\n",
       "  line-height: 1em;\n",
       "  font-family: monospace;\n",
       "  background-color: var(--sklearn-color-background);\n",
       "  border-radius: 1rem;\n",
       "  height: 1rem;\n",
       "  width: 1rem;\n",
       "  text-decoration: none;\n",
       "  /* unfitted */\n",
       "  color: var(--sklearn-color-unfitted-level-1);\n",
       "  border: var(--sklearn-color-unfitted-level-1) 1pt solid;\n",
       "}\n",
       "\n",
       "#sk-container-id-5 a.estimator_doc_link.fitted {\n",
       "  /* fitted */\n",
       "  border: var(--sklearn-color-fitted-level-1) 1pt solid;\n",
       "  color: var(--sklearn-color-fitted-level-1);\n",
       "}\n",
       "\n",
       "/* On hover */\n",
       "#sk-container-id-5 a.estimator_doc_link:hover {\n",
       "  /* unfitted */\n",
       "  background-color: var(--sklearn-color-unfitted-level-3);\n",
       "  color: var(--sklearn-color-background);\n",
       "  text-decoration: none;\n",
       "}\n",
       "\n",
       "#sk-container-id-5 a.estimator_doc_link.fitted:hover {\n",
       "  /* fitted */\n",
       "  background-color: var(--sklearn-color-fitted-level-3);\n",
       "}\n",
       "</style><div id=\"sk-container-id-5\" class=\"sk-top-container\"><div class=\"sk-text-repr-fallback\"><pre>SamplingMinKLDensity(auxiliary_sampler=&lt;generator object auxiliary_sampler_scipy at 0x178c75d40&gt;,\n",
       "                     feature_functions=[&lt;function non_neg at 0x178f414e0&gt;,\n",
       "                                        &lt;function non_neg at 0x178f414e0&gt;,\n",
       "                                        &lt;function non_neg at 0x178f414e0&gt;,\n",
       "                                        &lt;function non_neg at 0x178f414e0&gt;,\n",
       "                                        &lt;function non_neg at 0x178f414e0&gt;,\n",
       "                                        &lt;function non_neg at 0x178f414e0&gt;,\n",
       "                                        &lt;function non_neg at 0x178f414e0&gt;,\n",
       "                                        &lt;function non_neg at 0x178f414e0&gt;,\n",
       "                                        &lt;function non_neg at 0x178f414e0&gt;,\n",
       "                                        &lt;function non_neg at 0x178f414e0&gt;,\n",
       "                                        &lt;function non_neg at 0x178f414e0&gt;,\n",
       "                                        &lt;function non_neg at 0x178f414e0&gt;,\n",
       "                                        &lt;function non_neg at 0x178f414e0&gt;],\n",
       "                     matrix_format=&#x27;ndarray&#x27;,\n",
       "                     prior_log_pdf=&lt;function forward_pass_centered at 0x178f40b80&gt;)</pre><b>In a Jupyter environment, please rerun this cell to show the HTML representation or trust the notebook. <br />On GitHub, the HTML representation is unable to render, please try loading this page with nbviewer.org.</b></div><div class=\"sk-container\" hidden><div class=\"sk-item\"><div class=\"sk-estimator fitted sk-toggleable\"><input class=\"sk-toggleable__control sk-hidden--visually\" id=\"sk-estimator-id-5\" type=\"checkbox\" checked><label for=\"sk-estimator-id-5\" class=\"sk-toggleable__label fitted sk-toggleable__label-arrow fitted\">&nbsp;SamplingMinKLDensity<span class=\"sk-estimator-doc-link fitted\">i<span>Fitted</span></span></label><div class=\"sk-toggleable__content fitted\"><pre>SamplingMinKLDensity(auxiliary_sampler=&lt;generator object auxiliary_sampler_scipy at 0x178c75d40&gt;,\n",
       "                     feature_functions=[&lt;function non_neg at 0x178f414e0&gt;,\n",
       "                                        &lt;function non_neg at 0x178f414e0&gt;,\n",
       "                                        &lt;function non_neg at 0x178f414e0&gt;,\n",
       "                                        &lt;function non_neg at 0x178f414e0&gt;,\n",
       "                                        &lt;function non_neg at 0x178f414e0&gt;,\n",
       "                                        &lt;function non_neg at 0x178f414e0&gt;,\n",
       "                                        &lt;function non_neg at 0x178f414e0&gt;,\n",
       "                                        &lt;function non_neg at 0x178f414e0&gt;,\n",
       "                                        &lt;function non_neg at 0x178f414e0&gt;,\n",
       "                                        &lt;function non_neg at 0x178f414e0&gt;,\n",
       "                                        &lt;function non_neg at 0x178f414e0&gt;,\n",
       "                                        &lt;function non_neg at 0x178f414e0&gt;,\n",
       "                                        &lt;function non_neg at 0x178f414e0&gt;],\n",
       "                     matrix_format=&#x27;ndarray&#x27;,\n",
       "                     prior_log_pdf=&lt;function forward_pass_centered at 0x178f40b80&gt;)</pre></div> </div></div></div></div>"
      ],
      "text/plain": [
       "SamplingMinKLDensity(auxiliary_sampler=<generator object auxiliary_sampler_scipy at 0x178c75d40>,\n",
       "                     feature_functions=[<function non_neg at 0x178f414e0>,\n",
       "                                        <function non_neg at 0x178f414e0>,\n",
       "                                        <function non_neg at 0x178f414e0>,\n",
       "                                        <function non_neg at 0x178f414e0>,\n",
       "                                        <function non_neg at 0x178f414e0>,\n",
       "                                        <function non_neg at 0x178f414e0>,\n",
       "                                        <function non_neg at 0x178f414e0>,\n",
       "                                        <function non_neg at 0x178f414e0>,\n",
       "                                        <function non_neg at 0x178f414e0>,\n",
       "                                        <function non_neg at 0x178f414e0>,\n",
       "                                        <function non_neg at 0x178f414e0>,\n",
       "                                        <function non_neg at 0x178f414e0>,\n",
       "                                        <function non_neg at 0x178f414e0>],\n",
       "                     matrix_format='ndarray',\n",
       "                     prior_log_pdf=<function forward_pass_centered at 0x178f40b80>)"
      ]
     },
     "execution_count": 137,
     "metadata": {},
     "output_type": "execute_result"
    }
   ],
   "source": [
    "model0.fit(k)"
   ]
  },
  {
   "cell_type": "code",
   "execution_count": 138,
   "id": "4ec0717e-5cec-455f-800e-76f2a10cb262",
   "metadata": {},
   "outputs": [
    {
     "data": {
      "text/plain": [
       "array([1., 1., 1., 1., 1., 1., 1., 1., 1., 1., 1., 1., 1.])"
      ]
     },
     "execution_count": 138,
     "metadata": {},
     "output_type": "execute_result"
    }
   ],
   "source": [
    "model0.feature_expectations()"
   ]
  },
  {
   "cell_type": "code",
   "execution_count": 139,
   "id": "dcde6fac-6bf3-4acd-946f-aa4106c42c7c",
   "metadata": {},
   "outputs": [
    {
     "data": {
      "text/plain": [
       "array([18.04244082, 18.88670615, 18.81037928, 19.03515928, 18.82852139,\n",
       "       18.86219035, 18.84327364, 19.02970859, 19.12122566, 18.89553858,\n",
       "       18.93644025, 18.67136627, 19.1651229 ])"
      ]
     },
     "execution_count": 139,
     "metadata": {},
     "output_type": "execute_result"
    }
   ],
   "source": [
    "model0.params"
   ]
  },
  {
   "cell_type": "code",
   "execution_count": 140,
   "id": "1a55f62e-da74-46c9-95d1-aa5277aab861",
   "metadata": {},
   "outputs": [
    {
     "name": "stdout",
     "output_type": "stream",
     "text": [
      "> \u001b[0;32m/var/folders/yv/wb9c1bwx4r91d458q1c8ybhm0000gn/T/ipykernel_79125/3802623020.py\u001b[0m(6)\u001b[0;36mforward_pass_centered\u001b[0;34m()\u001b[0m\n",
      "\u001b[0;32m      4 \u001b[0;31m    \u001b[0mpdb\u001b[0m\u001b[0;34m.\u001b[0m\u001b[0mset_trace\u001b[0m\u001b[0;34m(\u001b[0m\u001b[0;34m)\u001b[0m\u001b[0;34m\u001b[0m\u001b[0;34m\u001b[0m\u001b[0m\n",
      "\u001b[0m\u001b[0;32m      5 \u001b[0;31m    \u001b[0;31m# return forward_pass_without_output_layer(net, xs)[:, target_class] - outputs[:, target_class].mean()\u001b[0m\u001b[0;34m\u001b[0m\u001b[0;34m\u001b[0m\u001b[0m\n",
      "\u001b[0m\u001b[0;32m----> 6 \u001b[0;31m    \u001b[0moutput1\u001b[0m \u001b[0;34m=\u001b[0m \u001b[0mnet\u001b[0m\u001b[0;34m.\u001b[0m\u001b[0mpredict_proba\u001b[0m\u001b[0;34m(\u001b[0m\u001b[0mxs\u001b[0m\u001b[0;34m)\u001b[0m\u001b[0;34m[\u001b[0m\u001b[0;34m:\u001b[0m\u001b[0;34m,\u001b[0m \u001b[0mtarget_class\u001b[0m\u001b[0;34m]\u001b[0m \u001b[0;34m-\u001b[0m \u001b[0moutputs\u001b[0m\u001b[0;34m[\u001b[0m\u001b[0;34m:\u001b[0m\u001b[0;34m,\u001b[0m \u001b[0mtarget_class\u001b[0m\u001b[0;34m]\u001b[0m\u001b[0;34m.\u001b[0m\u001b[0mmean\u001b[0m\u001b[0;34m(\u001b[0m\u001b[0;34m)\u001b[0m\u001b[0;34m\u001b[0m\u001b[0;34m\u001b[0m\u001b[0m\n",
      "\u001b[0m\u001b[0;32m      7 \u001b[0;31m    \u001b[0moutput2\u001b[0m \u001b[0;34m=\u001b[0m \u001b[0mnet\u001b[0m\u001b[0;34m.\u001b[0m\u001b[0mpredict_proba\u001b[0m\u001b[0;34m(\u001b[0m\u001b[0mxs\u001b[0m\u001b[0;34m)\u001b[0m\u001b[0;34m[\u001b[0m\u001b[0;34m:\u001b[0m\u001b[0;34m,\u001b[0m \u001b[0mtarget_class\u001b[0m\u001b[0;34m]\u001b[0m\u001b[0;34m\u001b[0m\u001b[0;34m\u001b[0m\u001b[0m\n",
      "\u001b[0m\u001b[0;32m      8 \u001b[0;31m    \u001b[0;32mreturn\u001b[0m \u001b[0moutput2\u001b[0m\u001b[0;34m\u001b[0m\u001b[0;34m\u001b[0m\u001b[0m\n",
      "\u001b[0m\n"
     ]
    },
    {
     "name": "stdin",
     "output_type": "stream",
     "text": [
      "ipdb>  c\n"
     ]
    },
    {
     "data": {
      "text/plain": [
       "array([-49.50167847, -49.50167583, -49.50167583, -49.50167583,\n",
       "       -49.56597222])"
      ]
     },
     "execution_count": 140,
     "metadata": {},
     "output_type": "execute_result"
    }
   ],
   "source": [
    "model0.predict_log_proba(X_wine)[:5]"
   ]
  },
  {
   "cell_type": "markdown",
   "id": "7b45589f-5c3f-496f-9228-43ccbc13e76e",
   "metadata": {},
   "source": [
    "#### Very low values! Let's proceed anyway. These will be compared against other very low values (for the other classes)."
   ]
  },
  {
   "cell_type": "code",
   "execution_count": 143,
   "id": "1dfe78f8-5ed1-41ce-a76d-b0a25ec0f8d8",
   "metadata": {},
   "outputs": [
    {
     "name": "stdout",
     "output_type": "stream",
     "text": [
      "> \u001b[0;32m/var/folders/yv/wb9c1bwx4r91d458q1c8ybhm0000gn/T/ipykernel_79125/3802623020.py\u001b[0m(6)\u001b[0;36mforward_pass_centered\u001b[0;34m()\u001b[0m\n",
      "\u001b[0;32m      4 \u001b[0;31m    \u001b[0mpdb\u001b[0m\u001b[0;34m.\u001b[0m\u001b[0mset_trace\u001b[0m\u001b[0;34m(\u001b[0m\u001b[0;34m)\u001b[0m\u001b[0;34m\u001b[0m\u001b[0;34m\u001b[0m\u001b[0m\n",
      "\u001b[0m\u001b[0;32m      5 \u001b[0;31m    \u001b[0;31m# return forward_pass_without_output_layer(net, xs)[:, target_class] - outputs[:, target_class].mean()\u001b[0m\u001b[0;34m\u001b[0m\u001b[0;34m\u001b[0m\u001b[0m\n",
      "\u001b[0m\u001b[0;32m----> 6 \u001b[0;31m    \u001b[0moutput1\u001b[0m \u001b[0;34m=\u001b[0m \u001b[0mnet\u001b[0m\u001b[0;34m.\u001b[0m\u001b[0mpredict_proba\u001b[0m\u001b[0;34m(\u001b[0m\u001b[0mxs\u001b[0m\u001b[0;34m)\u001b[0m\u001b[0;34m[\u001b[0m\u001b[0;34m:\u001b[0m\u001b[0;34m,\u001b[0m \u001b[0mtarget_class\u001b[0m\u001b[0;34m]\u001b[0m \u001b[0;34m-\u001b[0m \u001b[0moutputs\u001b[0m\u001b[0;34m[\u001b[0m\u001b[0;34m:\u001b[0m\u001b[0;34m,\u001b[0m \u001b[0mtarget_class\u001b[0m\u001b[0;34m]\u001b[0m\u001b[0;34m.\u001b[0m\u001b[0mmean\u001b[0m\u001b[0;34m(\u001b[0m\u001b[0;34m)\u001b[0m\u001b[0;34m\u001b[0m\u001b[0;34m\u001b[0m\u001b[0m\n",
      "\u001b[0m\u001b[0;32m      7 \u001b[0;31m    \u001b[0moutput2\u001b[0m \u001b[0;34m=\u001b[0m \u001b[0mnet\u001b[0m\u001b[0;34m.\u001b[0m\u001b[0mpredict_proba\u001b[0m\u001b[0;34m(\u001b[0m\u001b[0mxs\u001b[0m\u001b[0;34m)\u001b[0m\u001b[0;34m[\u001b[0m\u001b[0;34m:\u001b[0m\u001b[0;34m,\u001b[0m \u001b[0mtarget_class\u001b[0m\u001b[0;34m]\u001b[0m\u001b[0;34m\u001b[0m\u001b[0;34m\u001b[0m\u001b[0m\n",
      "\u001b[0m\u001b[0;32m      8 \u001b[0;31m    \u001b[0;32mreturn\u001b[0m \u001b[0moutput2\u001b[0m\u001b[0;34m\u001b[0m\u001b[0;34m\u001b[0m\u001b[0m\n",
      "\u001b[0m\n"
     ]
    },
    {
     "name": "stdin",
     "output_type": "stream",
     "text": [
      "ipdb>  c\n"
     ]
    },
    {
     "name": "stdout",
     "output_type": "stream",
     "text": [
      "> \u001b[0;32m/var/folders/yv/wb9c1bwx4r91d458q1c8ybhm0000gn/T/ipykernel_79125/3802623020.py\u001b[0m(6)\u001b[0;36mforward_pass_centered\u001b[0;34m()\u001b[0m\n",
      "\u001b[0;32m      4 \u001b[0;31m    \u001b[0mpdb\u001b[0m\u001b[0;34m.\u001b[0m\u001b[0mset_trace\u001b[0m\u001b[0;34m(\u001b[0m\u001b[0;34m)\u001b[0m\u001b[0;34m\u001b[0m\u001b[0;34m\u001b[0m\u001b[0m\n",
      "\u001b[0m\u001b[0;32m      5 \u001b[0;31m    \u001b[0;31m# return forward_pass_without_output_layer(net, xs)[:, target_class] - outputs[:, target_class].mean()\u001b[0m\u001b[0;34m\u001b[0m\u001b[0;34m\u001b[0m\u001b[0m\n",
      "\u001b[0m\u001b[0;32m----> 6 \u001b[0;31m    \u001b[0moutput1\u001b[0m \u001b[0;34m=\u001b[0m \u001b[0mnet\u001b[0m\u001b[0;34m.\u001b[0m\u001b[0mpredict_proba\u001b[0m\u001b[0;34m(\u001b[0m\u001b[0mxs\u001b[0m\u001b[0;34m)\u001b[0m\u001b[0;34m[\u001b[0m\u001b[0;34m:\u001b[0m\u001b[0;34m,\u001b[0m \u001b[0mtarget_class\u001b[0m\u001b[0;34m]\u001b[0m \u001b[0;34m-\u001b[0m \u001b[0moutputs\u001b[0m\u001b[0;34m[\u001b[0m\u001b[0;34m:\u001b[0m\u001b[0;34m,\u001b[0m \u001b[0mtarget_class\u001b[0m\u001b[0;34m]\u001b[0m\u001b[0;34m.\u001b[0m\u001b[0mmean\u001b[0m\u001b[0;34m(\u001b[0m\u001b[0;34m)\u001b[0m\u001b[0;34m\u001b[0m\u001b[0;34m\u001b[0m\u001b[0m\n",
      "\u001b[0m\u001b[0;32m      7 \u001b[0;31m    \u001b[0moutput2\u001b[0m \u001b[0;34m=\u001b[0m \u001b[0mnet\u001b[0m\u001b[0;34m.\u001b[0m\u001b[0mpredict_proba\u001b[0m\u001b[0;34m(\u001b[0m\u001b[0mxs\u001b[0m\u001b[0;34m)\u001b[0m\u001b[0;34m[\u001b[0m\u001b[0;34m:\u001b[0m\u001b[0;34m,\u001b[0m \u001b[0mtarget_class\u001b[0m\u001b[0;34m]\u001b[0m\u001b[0;34m\u001b[0m\u001b[0;34m\u001b[0m\u001b[0m\n",
      "\u001b[0m\u001b[0;32m      8 \u001b[0;31m    \u001b[0;32mreturn\u001b[0m \u001b[0moutput2\u001b[0m\u001b[0;34m\u001b[0m\u001b[0;34m\u001b[0m\u001b[0m\n",
      "\u001b[0m\n"
     ]
    },
    {
     "name": "stdin",
     "output_type": "stream",
     "text": [
      "ipdb>  c\n"
     ]
    },
    {
     "data": {
      "text/html": [
       "<style>#sk-container-id-8 {\n",
       "  /* Definition of color scheme common for light and dark mode */\n",
       "  --sklearn-color-text: black;\n",
       "  --sklearn-color-line: gray;\n",
       "  /* Definition of color scheme for unfitted estimators */\n",
       "  --sklearn-color-unfitted-level-0: #fff5e6;\n",
       "  --sklearn-color-unfitted-level-1: #f6e4d2;\n",
       "  --sklearn-color-unfitted-level-2: #ffe0b3;\n",
       "  --sklearn-color-unfitted-level-3: chocolate;\n",
       "  /* Definition of color scheme for fitted estimators */\n",
       "  --sklearn-color-fitted-level-0: #f0f8ff;\n",
       "  --sklearn-color-fitted-level-1: #d4ebff;\n",
       "  --sklearn-color-fitted-level-2: #b3dbfd;\n",
       "  --sklearn-color-fitted-level-3: cornflowerblue;\n",
       "\n",
       "  /* Specific color for light theme */\n",
       "  --sklearn-color-text-on-default-background: var(--sg-text-color, var(--theme-code-foreground, var(--jp-content-font-color1, black)));\n",
       "  --sklearn-color-background: var(--sg-background-color, var(--theme-background, var(--jp-layout-color0, white)));\n",
       "  --sklearn-color-border-box: var(--sg-text-color, var(--theme-code-foreground, var(--jp-content-font-color1, black)));\n",
       "  --sklearn-color-icon: #696969;\n",
       "\n",
       "  @media (prefers-color-scheme: dark) {\n",
       "    /* Redefinition of color scheme for dark theme */\n",
       "    --sklearn-color-text-on-default-background: var(--sg-text-color, var(--theme-code-foreground, var(--jp-content-font-color1, white)));\n",
       "    --sklearn-color-background: var(--sg-background-color, var(--theme-background, var(--jp-layout-color0, #111)));\n",
       "    --sklearn-color-border-box: var(--sg-text-color, var(--theme-code-foreground, var(--jp-content-font-color1, white)));\n",
       "    --sklearn-color-icon: #878787;\n",
       "  }\n",
       "}\n",
       "\n",
       "#sk-container-id-8 {\n",
       "  color: var(--sklearn-color-text);\n",
       "}\n",
       "\n",
       "#sk-container-id-8 pre {\n",
       "  padding: 0;\n",
       "}\n",
       "\n",
       "#sk-container-id-8 input.sk-hidden--visually {\n",
       "  border: 0;\n",
       "  clip: rect(1px 1px 1px 1px);\n",
       "  clip: rect(1px, 1px, 1px, 1px);\n",
       "  height: 1px;\n",
       "  margin: -1px;\n",
       "  overflow: hidden;\n",
       "  padding: 0;\n",
       "  position: absolute;\n",
       "  width: 1px;\n",
       "}\n",
       "\n",
       "#sk-container-id-8 div.sk-dashed-wrapped {\n",
       "  border: 1px dashed var(--sklearn-color-line);\n",
       "  margin: 0 0.4em 0.5em 0.4em;\n",
       "  box-sizing: border-box;\n",
       "  padding-bottom: 0.4em;\n",
       "  background-color: var(--sklearn-color-background);\n",
       "}\n",
       "\n",
       "#sk-container-id-8 div.sk-container {\n",
       "  /* jupyter's `normalize.less` sets `[hidden] { display: none; }`\n",
       "     but bootstrap.min.css set `[hidden] { display: none !important; }`\n",
       "     so we also need the `!important` here to be able to override the\n",
       "     default hidden behavior on the sphinx rendered scikit-learn.org.\n",
       "     See: https://github.com/scikit-learn/scikit-learn/issues/21755 */\n",
       "  display: inline-block !important;\n",
       "  position: relative;\n",
       "}\n",
       "\n",
       "#sk-container-id-8 div.sk-text-repr-fallback {\n",
       "  display: none;\n",
       "}\n",
       "\n",
       "div.sk-parallel-item,\n",
       "div.sk-serial,\n",
       "div.sk-item {\n",
       "  /* draw centered vertical line to link estimators */\n",
       "  background-image: linear-gradient(var(--sklearn-color-text-on-default-background), var(--sklearn-color-text-on-default-background));\n",
       "  background-size: 2px 100%;\n",
       "  background-repeat: no-repeat;\n",
       "  background-position: center center;\n",
       "}\n",
       "\n",
       "/* Parallel-specific style estimator block */\n",
       "\n",
       "#sk-container-id-8 div.sk-parallel-item::after {\n",
       "  content: \"\";\n",
       "  width: 100%;\n",
       "  border-bottom: 2px solid var(--sklearn-color-text-on-default-background);\n",
       "  flex-grow: 1;\n",
       "}\n",
       "\n",
       "#sk-container-id-8 div.sk-parallel {\n",
       "  display: flex;\n",
       "  align-items: stretch;\n",
       "  justify-content: center;\n",
       "  background-color: var(--sklearn-color-background);\n",
       "  position: relative;\n",
       "}\n",
       "\n",
       "#sk-container-id-8 div.sk-parallel-item {\n",
       "  display: flex;\n",
       "  flex-direction: column;\n",
       "}\n",
       "\n",
       "#sk-container-id-8 div.sk-parallel-item:first-child::after {\n",
       "  align-self: flex-end;\n",
       "  width: 50%;\n",
       "}\n",
       "\n",
       "#sk-container-id-8 div.sk-parallel-item:last-child::after {\n",
       "  align-self: flex-start;\n",
       "  width: 50%;\n",
       "}\n",
       "\n",
       "#sk-container-id-8 div.sk-parallel-item:only-child::after {\n",
       "  width: 0;\n",
       "}\n",
       "\n",
       "/* Serial-specific style estimator block */\n",
       "\n",
       "#sk-container-id-8 div.sk-serial {\n",
       "  display: flex;\n",
       "  flex-direction: column;\n",
       "  align-items: center;\n",
       "  background-color: var(--sklearn-color-background);\n",
       "  padding-right: 1em;\n",
       "  padding-left: 1em;\n",
       "}\n",
       "\n",
       "\n",
       "/* Toggleable style: style used for estimator/Pipeline/ColumnTransformer box that is\n",
       "clickable and can be expanded/collapsed.\n",
       "- Pipeline and ColumnTransformer use this feature and define the default style\n",
       "- Estimators will overwrite some part of the style using the `sk-estimator` class\n",
       "*/\n",
       "\n",
       "/* Pipeline and ColumnTransformer style (default) */\n",
       "\n",
       "#sk-container-id-8 div.sk-toggleable {\n",
       "  /* Default theme specific background. It is overwritten whether we have a\n",
       "  specific estimator or a Pipeline/ColumnTransformer */\n",
       "  background-color: var(--sklearn-color-background);\n",
       "}\n",
       "\n",
       "/* Toggleable label */\n",
       "#sk-container-id-8 label.sk-toggleable__label {\n",
       "  cursor: pointer;\n",
       "  display: block;\n",
       "  width: 100%;\n",
       "  margin-bottom: 0;\n",
       "  padding: 0.5em;\n",
       "  box-sizing: border-box;\n",
       "  text-align: center;\n",
       "}\n",
       "\n",
       "#sk-container-id-8 label.sk-toggleable__label-arrow:before {\n",
       "  /* Arrow on the left of the label */\n",
       "  content: \"▸\";\n",
       "  float: left;\n",
       "  margin-right: 0.25em;\n",
       "  color: var(--sklearn-color-icon);\n",
       "}\n",
       "\n",
       "#sk-container-id-8 label.sk-toggleable__label-arrow:hover:before {\n",
       "  color: var(--sklearn-color-text);\n",
       "}\n",
       "\n",
       "/* Toggleable content - dropdown */\n",
       "\n",
       "#sk-container-id-8 div.sk-toggleable__content {\n",
       "  max-height: 0;\n",
       "  max-width: 0;\n",
       "  overflow: hidden;\n",
       "  text-align: left;\n",
       "  /* unfitted */\n",
       "  background-color: var(--sklearn-color-unfitted-level-0);\n",
       "}\n",
       "\n",
       "#sk-container-id-8 div.sk-toggleable__content.fitted {\n",
       "  /* fitted */\n",
       "  background-color: var(--sklearn-color-fitted-level-0);\n",
       "}\n",
       "\n",
       "#sk-container-id-8 div.sk-toggleable__content pre {\n",
       "  margin: 0.2em;\n",
       "  border-radius: 0.25em;\n",
       "  color: var(--sklearn-color-text);\n",
       "  /* unfitted */\n",
       "  background-color: var(--sklearn-color-unfitted-level-0);\n",
       "}\n",
       "\n",
       "#sk-container-id-8 div.sk-toggleable__content.fitted pre {\n",
       "  /* unfitted */\n",
       "  background-color: var(--sklearn-color-fitted-level-0);\n",
       "}\n",
       "\n",
       "#sk-container-id-8 input.sk-toggleable__control:checked~div.sk-toggleable__content {\n",
       "  /* Expand drop-down */\n",
       "  max-height: 200px;\n",
       "  max-width: 100%;\n",
       "  overflow: auto;\n",
       "}\n",
       "\n",
       "#sk-container-id-8 input.sk-toggleable__control:checked~label.sk-toggleable__label-arrow:before {\n",
       "  content: \"▾\";\n",
       "}\n",
       "\n",
       "/* Pipeline/ColumnTransformer-specific style */\n",
       "\n",
       "#sk-container-id-8 div.sk-label input.sk-toggleable__control:checked~label.sk-toggleable__label {\n",
       "  color: var(--sklearn-color-text);\n",
       "  background-color: var(--sklearn-color-unfitted-level-2);\n",
       "}\n",
       "\n",
       "#sk-container-id-8 div.sk-label.fitted input.sk-toggleable__control:checked~label.sk-toggleable__label {\n",
       "  background-color: var(--sklearn-color-fitted-level-2);\n",
       "}\n",
       "\n",
       "/* Estimator-specific style */\n",
       "\n",
       "/* Colorize estimator box */\n",
       "#sk-container-id-8 div.sk-estimator input.sk-toggleable__control:checked~label.sk-toggleable__label {\n",
       "  /* unfitted */\n",
       "  background-color: var(--sklearn-color-unfitted-level-2);\n",
       "}\n",
       "\n",
       "#sk-container-id-8 div.sk-estimator.fitted input.sk-toggleable__control:checked~label.sk-toggleable__label {\n",
       "  /* fitted */\n",
       "  background-color: var(--sklearn-color-fitted-level-2);\n",
       "}\n",
       "\n",
       "#sk-container-id-8 div.sk-label label.sk-toggleable__label,\n",
       "#sk-container-id-8 div.sk-label label {\n",
       "  /* The background is the default theme color */\n",
       "  color: var(--sklearn-color-text-on-default-background);\n",
       "}\n",
       "\n",
       "/* On hover, darken the color of the background */\n",
       "#sk-container-id-8 div.sk-label:hover label.sk-toggleable__label {\n",
       "  color: var(--sklearn-color-text);\n",
       "  background-color: var(--sklearn-color-unfitted-level-2);\n",
       "}\n",
       "\n",
       "/* Label box, darken color on hover, fitted */\n",
       "#sk-container-id-8 div.sk-label.fitted:hover label.sk-toggleable__label.fitted {\n",
       "  color: var(--sklearn-color-text);\n",
       "  background-color: var(--sklearn-color-fitted-level-2);\n",
       "}\n",
       "\n",
       "/* Estimator label */\n",
       "\n",
       "#sk-container-id-8 div.sk-label label {\n",
       "  font-family: monospace;\n",
       "  font-weight: bold;\n",
       "  display: inline-block;\n",
       "  line-height: 1.2em;\n",
       "}\n",
       "\n",
       "#sk-container-id-8 div.sk-label-container {\n",
       "  text-align: center;\n",
       "}\n",
       "\n",
       "/* Estimator-specific */\n",
       "#sk-container-id-8 div.sk-estimator {\n",
       "  font-family: monospace;\n",
       "  border: 1px dotted var(--sklearn-color-border-box);\n",
       "  border-radius: 0.25em;\n",
       "  box-sizing: border-box;\n",
       "  margin-bottom: 0.5em;\n",
       "  /* unfitted */\n",
       "  background-color: var(--sklearn-color-unfitted-level-0);\n",
       "}\n",
       "\n",
       "#sk-container-id-8 div.sk-estimator.fitted {\n",
       "  /* fitted */\n",
       "  background-color: var(--sklearn-color-fitted-level-0);\n",
       "}\n",
       "\n",
       "/* on hover */\n",
       "#sk-container-id-8 div.sk-estimator:hover {\n",
       "  /* unfitted */\n",
       "  background-color: var(--sklearn-color-unfitted-level-2);\n",
       "}\n",
       "\n",
       "#sk-container-id-8 div.sk-estimator.fitted:hover {\n",
       "  /* fitted */\n",
       "  background-color: var(--sklearn-color-fitted-level-2);\n",
       "}\n",
       "\n",
       "/* Specification for estimator info (e.g. \"i\" and \"?\") */\n",
       "\n",
       "/* Common style for \"i\" and \"?\" */\n",
       "\n",
       ".sk-estimator-doc-link,\n",
       "a:link.sk-estimator-doc-link,\n",
       "a:visited.sk-estimator-doc-link {\n",
       "  float: right;\n",
       "  font-size: smaller;\n",
       "  line-height: 1em;\n",
       "  font-family: monospace;\n",
       "  background-color: var(--sklearn-color-background);\n",
       "  border-radius: 1em;\n",
       "  height: 1em;\n",
       "  width: 1em;\n",
       "  text-decoration: none !important;\n",
       "  margin-left: 1ex;\n",
       "  /* unfitted */\n",
       "  border: var(--sklearn-color-unfitted-level-1) 1pt solid;\n",
       "  color: var(--sklearn-color-unfitted-level-1);\n",
       "}\n",
       "\n",
       ".sk-estimator-doc-link.fitted,\n",
       "a:link.sk-estimator-doc-link.fitted,\n",
       "a:visited.sk-estimator-doc-link.fitted {\n",
       "  /* fitted */\n",
       "  border: var(--sklearn-color-fitted-level-1) 1pt solid;\n",
       "  color: var(--sklearn-color-fitted-level-1);\n",
       "}\n",
       "\n",
       "/* On hover */\n",
       "div.sk-estimator:hover .sk-estimator-doc-link:hover,\n",
       ".sk-estimator-doc-link:hover,\n",
       "div.sk-label-container:hover .sk-estimator-doc-link:hover,\n",
       ".sk-estimator-doc-link:hover {\n",
       "  /* unfitted */\n",
       "  background-color: var(--sklearn-color-unfitted-level-3);\n",
       "  color: var(--sklearn-color-background);\n",
       "  text-decoration: none;\n",
       "}\n",
       "\n",
       "div.sk-estimator.fitted:hover .sk-estimator-doc-link.fitted:hover,\n",
       ".sk-estimator-doc-link.fitted:hover,\n",
       "div.sk-label-container:hover .sk-estimator-doc-link.fitted:hover,\n",
       ".sk-estimator-doc-link.fitted:hover {\n",
       "  /* fitted */\n",
       "  background-color: var(--sklearn-color-fitted-level-3);\n",
       "  color: var(--sklearn-color-background);\n",
       "  text-decoration: none;\n",
       "}\n",
       "\n",
       "/* Span, style for the box shown on hovering the info icon */\n",
       ".sk-estimator-doc-link span {\n",
       "  display: none;\n",
       "  z-index: 9999;\n",
       "  position: relative;\n",
       "  font-weight: normal;\n",
       "  right: .2ex;\n",
       "  padding: .5ex;\n",
       "  margin: .5ex;\n",
       "  width: min-content;\n",
       "  min-width: 20ex;\n",
       "  max-width: 50ex;\n",
       "  color: var(--sklearn-color-text);\n",
       "  box-shadow: 2pt 2pt 4pt #999;\n",
       "  /* unfitted */\n",
       "  background: var(--sklearn-color-unfitted-level-0);\n",
       "  border: .5pt solid var(--sklearn-color-unfitted-level-3);\n",
       "}\n",
       "\n",
       ".sk-estimator-doc-link.fitted span {\n",
       "  /* fitted */\n",
       "  background: var(--sklearn-color-fitted-level-0);\n",
       "  border: var(--sklearn-color-fitted-level-3);\n",
       "}\n",
       "\n",
       ".sk-estimator-doc-link:hover span {\n",
       "  display: block;\n",
       "}\n",
       "\n",
       "/* \"?\"-specific style due to the `<a>` HTML tag */\n",
       "\n",
       "#sk-container-id-8 a.estimator_doc_link {\n",
       "  float: right;\n",
       "  font-size: 1rem;\n",
       "  line-height: 1em;\n",
       "  font-family: monospace;\n",
       "  background-color: var(--sklearn-color-background);\n",
       "  border-radius: 1rem;\n",
       "  height: 1rem;\n",
       "  width: 1rem;\n",
       "  text-decoration: none;\n",
       "  /* unfitted */\n",
       "  color: var(--sklearn-color-unfitted-level-1);\n",
       "  border: var(--sklearn-color-unfitted-level-1) 1pt solid;\n",
       "}\n",
       "\n",
       "#sk-container-id-8 a.estimator_doc_link.fitted {\n",
       "  /* fitted */\n",
       "  border: var(--sklearn-color-fitted-level-1) 1pt solid;\n",
       "  color: var(--sklearn-color-fitted-level-1);\n",
       "}\n",
       "\n",
       "/* On hover */\n",
       "#sk-container-id-8 a.estimator_doc_link:hover {\n",
       "  /* unfitted */\n",
       "  background-color: var(--sklearn-color-unfitted-level-3);\n",
       "  color: var(--sklearn-color-background);\n",
       "  text-decoration: none;\n",
       "}\n",
       "\n",
       "#sk-container-id-8 a.estimator_doc_link.fitted:hover {\n",
       "  /* fitted */\n",
       "  background-color: var(--sklearn-color-fitted-level-3);\n",
       "}\n",
       "</style><div id=\"sk-container-id-8\" class=\"sk-top-container\"><div class=\"sk-text-repr-fallback\"><pre>SamplingMinKLDensity(auxiliary_sampler=&lt;generator object auxiliary_sampler_scipy at 0x178c75d40&gt;,\n",
       "                     feature_functions=[&lt;function non_neg at 0x178f414e0&gt;,\n",
       "                                        &lt;function non_neg at 0x178f414e0&gt;,\n",
       "                                        &lt;function non_neg at 0x178f414e0&gt;,\n",
       "                                        &lt;function non_neg at 0x178f414e0&gt;,\n",
       "                                        &lt;function non_neg at 0x178f414e0&gt;,\n",
       "                                        &lt;function non_neg at 0x178f414e0&gt;,\n",
       "                                        &lt;function non_neg at 0x178f414e0&gt;,\n",
       "                                        &lt;function non_neg at 0x178f414e0&gt;,\n",
       "                                        &lt;function non_neg at 0x178f414e0&gt;,\n",
       "                                        &lt;function non_neg at 0x178f414e0&gt;,\n",
       "                                        &lt;function non_neg at 0x178f414e0&gt;,\n",
       "                                        &lt;function non_neg at 0x178f414e0&gt;,\n",
       "                                        &lt;function non_neg at 0x178f414e0&gt;],\n",
       "                     matrix_format=&#x27;ndarray&#x27;,\n",
       "                     prior_log_pdf=&lt;function forward_pass_centered at 0x178f40b80&gt;)</pre><b>In a Jupyter environment, please rerun this cell to show the HTML representation or trust the notebook. <br />On GitHub, the HTML representation is unable to render, please try loading this page with nbviewer.org.</b></div><div class=\"sk-container\" hidden><div class=\"sk-item\"><div class=\"sk-estimator fitted sk-toggleable\"><input class=\"sk-toggleable__control sk-hidden--visually\" id=\"sk-estimator-id-8\" type=\"checkbox\" checked><label for=\"sk-estimator-id-8\" class=\"sk-toggleable__label fitted sk-toggleable__label-arrow fitted\">&nbsp;SamplingMinKLDensity<span class=\"sk-estimator-doc-link fitted\">i<span>Fitted</span></span></label><div class=\"sk-toggleable__content fitted\"><pre>SamplingMinKLDensity(auxiliary_sampler=&lt;generator object auxiliary_sampler_scipy at 0x178c75d40&gt;,\n",
       "                     feature_functions=[&lt;function non_neg at 0x178f414e0&gt;,\n",
       "                                        &lt;function non_neg at 0x178f414e0&gt;,\n",
       "                                        &lt;function non_neg at 0x178f414e0&gt;,\n",
       "                                        &lt;function non_neg at 0x178f414e0&gt;,\n",
       "                                        &lt;function non_neg at 0x178f414e0&gt;,\n",
       "                                        &lt;function non_neg at 0x178f414e0&gt;,\n",
       "                                        &lt;function non_neg at 0x178f414e0&gt;,\n",
       "                                        &lt;function non_neg at 0x178f414e0&gt;,\n",
       "                                        &lt;function non_neg at 0x178f414e0&gt;,\n",
       "                                        &lt;function non_neg at 0x178f414e0&gt;,\n",
       "                                        &lt;function non_neg at 0x178f414e0&gt;,\n",
       "                                        &lt;function non_neg at 0x178f414e0&gt;,\n",
       "                                        &lt;function non_neg at 0x178f414e0&gt;],\n",
       "                     matrix_format=&#x27;ndarray&#x27;,\n",
       "                     prior_log_pdf=&lt;function forward_pass_centered at 0x178f40b80&gt;)</pre></div> </div></div></div></div>"
      ],
      "text/plain": [
       "SamplingMinKLDensity(auxiliary_sampler=<generator object auxiliary_sampler_scipy at 0x178c75d40>,\n",
       "                     feature_functions=[<function non_neg at 0x178f414e0>,\n",
       "                                        <function non_neg at 0x178f414e0>,\n",
       "                                        <function non_neg at 0x178f414e0>,\n",
       "                                        <function non_neg at 0x178f414e0>,\n",
       "                                        <function non_neg at 0x178f414e0>,\n",
       "                                        <function non_neg at 0x178f414e0>,\n",
       "                                        <function non_neg at 0x178f414e0>,\n",
       "                                        <function non_neg at 0x178f414e0>,\n",
       "                                        <function non_neg at 0x178f414e0>,\n",
       "                                        <function non_neg at 0x178f414e0>,\n",
       "                                        <function non_neg at 0x178f414e0>,\n",
       "                                        <function non_neg at 0x178f414e0>,\n",
       "                                        <function non_neg at 0x178f414e0>],\n",
       "                     matrix_format='ndarray',\n",
       "                     prior_log_pdf=<function forward_pass_centered at 0x178f40b80>)"
      ]
     },
     "execution_count": 143,
     "metadata": {},
     "output_type": "execute_result"
    }
   ],
   "source": [
    "target_class = 1\n",
    "\n",
    "model1 = maxentropy.SamplingMinKLDensity(\n",
    "    feature_functions,\n",
    "    sampler,\n",
    "    prior_log_pdf = forward_pass_centered(net, target_class),\n",
    "    matrix_format='ndarray',\n",
    "    vectorized=True\n",
    ")\n",
    "X_wine_subset = X_wine[y_wine == target_class]\n",
    "k1 = model0.features(X_wine_subset).mean(axis=0)\n",
    "model1.fit(k1)\n",
    "\n",
    "target_class = 2\n",
    "\n",
    "model2 = maxentropy.SamplingMinKLDensity(\n",
    "    feature_functions,\n",
    "    sampler,\n",
    "    prior_log_pdf = forward_pass_centered(net, target_class),\n",
    "    matrix_format='ndarray',\n",
    "    vectorized=True\n",
    ")\n",
    "X_wine_subset = X_wine[y_wine == target_class]\n",
    "k2 = model0.features(X_wine_subset).mean(axis=0)\n",
    "model2.fit(k2)"
   ]
  },
  {
   "cell_type": "code",
   "execution_count": 145,
   "id": "3888e4b4-e573-406a-815c-ef72c25a9349",
   "metadata": {},
   "outputs": [
    {
     "name": "stdout",
     "output_type": "stream",
     "text": [
      "> \u001b[0;32m/var/folders/yv/wb9c1bwx4r91d458q1c8ybhm0000gn/T/ipykernel_79125/3802623020.py\u001b[0m(6)\u001b[0;36mforward_pass_centered\u001b[0;34m()\u001b[0m\n",
      "\u001b[0;32m      4 \u001b[0;31m    \u001b[0mpdb\u001b[0m\u001b[0;34m.\u001b[0m\u001b[0mset_trace\u001b[0m\u001b[0;34m(\u001b[0m\u001b[0;34m)\u001b[0m\u001b[0;34m\u001b[0m\u001b[0;34m\u001b[0m\u001b[0m\n",
      "\u001b[0m\u001b[0;32m      5 \u001b[0;31m    \u001b[0;31m# return forward_pass_without_output_layer(net, xs)[:, target_class] - outputs[:, target_class].mean()\u001b[0m\u001b[0;34m\u001b[0m\u001b[0;34m\u001b[0m\u001b[0m\n",
      "\u001b[0m\u001b[0;32m----> 6 \u001b[0;31m    \u001b[0moutput1\u001b[0m \u001b[0;34m=\u001b[0m \u001b[0mnet\u001b[0m\u001b[0;34m.\u001b[0m\u001b[0mpredict_proba\u001b[0m\u001b[0;34m(\u001b[0m\u001b[0mxs\u001b[0m\u001b[0;34m)\u001b[0m\u001b[0;34m[\u001b[0m\u001b[0;34m:\u001b[0m\u001b[0;34m,\u001b[0m \u001b[0mtarget_class\u001b[0m\u001b[0;34m]\u001b[0m \u001b[0;34m-\u001b[0m \u001b[0moutputs\u001b[0m\u001b[0;34m[\u001b[0m\u001b[0;34m:\u001b[0m\u001b[0;34m,\u001b[0m \u001b[0mtarget_class\u001b[0m\u001b[0;34m]\u001b[0m\u001b[0;34m.\u001b[0m\u001b[0mmean\u001b[0m\u001b[0;34m(\u001b[0m\u001b[0;34m)\u001b[0m\u001b[0;34m\u001b[0m\u001b[0;34m\u001b[0m\u001b[0m\n",
      "\u001b[0m\u001b[0;32m      7 \u001b[0;31m    \u001b[0moutput2\u001b[0m \u001b[0;34m=\u001b[0m \u001b[0mnet\u001b[0m\u001b[0;34m.\u001b[0m\u001b[0mpredict_proba\u001b[0m\u001b[0;34m(\u001b[0m\u001b[0mxs\u001b[0m\u001b[0;34m)\u001b[0m\u001b[0;34m[\u001b[0m\u001b[0;34m:\u001b[0m\u001b[0;34m,\u001b[0m \u001b[0mtarget_class\u001b[0m\u001b[0;34m]\u001b[0m\u001b[0;34m\u001b[0m\u001b[0;34m\u001b[0m\u001b[0m\n",
      "\u001b[0m\u001b[0;32m      8 \u001b[0;31m    \u001b[0;32mreturn\u001b[0m \u001b[0moutput2\u001b[0m\u001b[0;34m\u001b[0m\u001b[0;34m\u001b[0m\u001b[0m\n",
      "\u001b[0m\n"
     ]
    },
    {
     "name": "stdin",
     "output_type": "stream",
     "text": [
      "ipdb>  c\n"
     ]
    },
    {
     "name": "stdout",
     "output_type": "stream",
     "text": [
      "> \u001b[0;32m/var/folders/yv/wb9c1bwx4r91d458q1c8ybhm0000gn/T/ipykernel_79125/3802623020.py\u001b[0m(6)\u001b[0;36mforward_pass_centered\u001b[0;34m()\u001b[0m\n",
      "\u001b[0;32m      4 \u001b[0;31m    \u001b[0mpdb\u001b[0m\u001b[0;34m.\u001b[0m\u001b[0mset_trace\u001b[0m\u001b[0;34m(\u001b[0m\u001b[0;34m)\u001b[0m\u001b[0;34m\u001b[0m\u001b[0;34m\u001b[0m\u001b[0m\n",
      "\u001b[0m\u001b[0;32m      5 \u001b[0;31m    \u001b[0;31m# return forward_pass_without_output_layer(net, xs)[:, target_class] - outputs[:, target_class].mean()\u001b[0m\u001b[0;34m\u001b[0m\u001b[0;34m\u001b[0m\u001b[0m\n",
      "\u001b[0m\u001b[0;32m----> 6 \u001b[0;31m    \u001b[0moutput1\u001b[0m \u001b[0;34m=\u001b[0m \u001b[0mnet\u001b[0m\u001b[0;34m.\u001b[0m\u001b[0mpredict_proba\u001b[0m\u001b[0;34m(\u001b[0m\u001b[0mxs\u001b[0m\u001b[0;34m)\u001b[0m\u001b[0;34m[\u001b[0m\u001b[0;34m:\u001b[0m\u001b[0;34m,\u001b[0m \u001b[0mtarget_class\u001b[0m\u001b[0;34m]\u001b[0m \u001b[0;34m-\u001b[0m \u001b[0moutputs\u001b[0m\u001b[0;34m[\u001b[0m\u001b[0;34m:\u001b[0m\u001b[0;34m,\u001b[0m \u001b[0mtarget_class\u001b[0m\u001b[0;34m]\u001b[0m\u001b[0;34m.\u001b[0m\u001b[0mmean\u001b[0m\u001b[0;34m(\u001b[0m\u001b[0;34m)\u001b[0m\u001b[0;34m\u001b[0m\u001b[0;34m\u001b[0m\u001b[0m\n",
      "\u001b[0m\u001b[0;32m      7 \u001b[0;31m    \u001b[0moutput2\u001b[0m \u001b[0;34m=\u001b[0m \u001b[0mnet\u001b[0m\u001b[0;34m.\u001b[0m\u001b[0mpredict_proba\u001b[0m\u001b[0;34m(\u001b[0m\u001b[0mxs\u001b[0m\u001b[0;34m)\u001b[0m\u001b[0;34m[\u001b[0m\u001b[0;34m:\u001b[0m\u001b[0;34m,\u001b[0m \u001b[0mtarget_class\u001b[0m\u001b[0;34m]\u001b[0m\u001b[0;34m\u001b[0m\u001b[0;34m\u001b[0m\u001b[0m\n",
      "\u001b[0m\u001b[0;32m      8 \u001b[0;31m    \u001b[0;32mreturn\u001b[0m \u001b[0moutput2\u001b[0m\u001b[0;34m\u001b[0m\u001b[0;34m\u001b[0m\u001b[0m\n",
      "\u001b[0m\n"
     ]
    },
    {
     "name": "stdin",
     "output_type": "stream",
     "text": [
      "ipdb>  c\n"
     ]
    },
    {
     "name": "stdout",
     "output_type": "stream",
     "text": [
      "> \u001b[0;32m/var/folders/yv/wb9c1bwx4r91d458q1c8ybhm0000gn/T/ipykernel_79125/3802623020.py\u001b[0m(6)\u001b[0;36mforward_pass_centered\u001b[0;34m()\u001b[0m\n",
      "\u001b[0;32m      4 \u001b[0;31m    \u001b[0mpdb\u001b[0m\u001b[0;34m.\u001b[0m\u001b[0mset_trace\u001b[0m\u001b[0;34m(\u001b[0m\u001b[0;34m)\u001b[0m\u001b[0;34m\u001b[0m\u001b[0;34m\u001b[0m\u001b[0m\n",
      "\u001b[0m\u001b[0;32m      5 \u001b[0;31m    \u001b[0;31m# return forward_pass_without_output_layer(net, xs)[:, target_class] - outputs[:, target_class].mean()\u001b[0m\u001b[0;34m\u001b[0m\u001b[0;34m\u001b[0m\u001b[0m\n",
      "\u001b[0m\u001b[0;32m----> 6 \u001b[0;31m    \u001b[0moutput1\u001b[0m \u001b[0;34m=\u001b[0m \u001b[0mnet\u001b[0m\u001b[0;34m.\u001b[0m\u001b[0mpredict_proba\u001b[0m\u001b[0;34m(\u001b[0m\u001b[0mxs\u001b[0m\u001b[0;34m)\u001b[0m\u001b[0;34m[\u001b[0m\u001b[0;34m:\u001b[0m\u001b[0;34m,\u001b[0m \u001b[0mtarget_class\u001b[0m\u001b[0;34m]\u001b[0m \u001b[0;34m-\u001b[0m \u001b[0moutputs\u001b[0m\u001b[0;34m[\u001b[0m\u001b[0;34m:\u001b[0m\u001b[0;34m,\u001b[0m \u001b[0mtarget_class\u001b[0m\u001b[0;34m]\u001b[0m\u001b[0;34m.\u001b[0m\u001b[0mmean\u001b[0m\u001b[0;34m(\u001b[0m\u001b[0;34m)\u001b[0m\u001b[0;34m\u001b[0m\u001b[0;34m\u001b[0m\u001b[0m\n",
      "\u001b[0m\u001b[0;32m      7 \u001b[0;31m    \u001b[0moutput2\u001b[0m \u001b[0;34m=\u001b[0m \u001b[0mnet\u001b[0m\u001b[0;34m.\u001b[0m\u001b[0mpredict_proba\u001b[0m\u001b[0;34m(\u001b[0m\u001b[0mxs\u001b[0m\u001b[0;34m)\u001b[0m\u001b[0;34m[\u001b[0m\u001b[0;34m:\u001b[0m\u001b[0;34m,\u001b[0m \u001b[0mtarget_class\u001b[0m\u001b[0;34m]\u001b[0m\u001b[0;34m\u001b[0m\u001b[0;34m\u001b[0m\u001b[0m\n",
      "\u001b[0m\u001b[0;32m      8 \u001b[0;31m    \u001b[0;32mreturn\u001b[0m \u001b[0moutput2\u001b[0m\u001b[0;34m\u001b[0m\u001b[0;34m\u001b[0m\u001b[0m\n",
      "\u001b[0m\n"
     ]
    },
    {
     "name": "stdin",
     "output_type": "stream",
     "text": [
      "ipdb>  c\n"
     ]
    },
    {
     "data": {
      "text/plain": [
       "(178, 3)"
      ]
     },
     "execution_count": 145,
     "metadata": {},
     "output_type": "execute_result"
    }
   ],
   "source": [
    "log_scores = np.array([\n",
    "    model0.predict_log_proba(X_wine),\n",
    "    model1.predict_log_proba(X_wine),\n",
    "    model2.predict_log_proba(X_wine)\n",
    "]).T\n",
    "log_scores.shape"
   ]
  },
  {
   "cell_type": "code",
   "execution_count": 146,
   "id": "40b878e8-5182-4b7d-94a9-80533ee40f64",
   "metadata": {},
   "outputs": [],
   "source": [
    "from scipy.special import softmax"
   ]
  },
  {
   "cell_type": "code",
   "execution_count": 147,
   "id": "84d133c8-3ae7-4d61-a3ca-af158313ab9f",
   "metadata": {},
   "outputs": [],
   "source": [
    "log_proba = softmax(log_scores, axis=1)"
   ]
  },
  {
   "cell_type": "code",
   "execution_count": 148,
   "id": "3733cbb7-96c3-4e85-94f1-6748a6823987",
   "metadata": {},
   "outputs": [
    {
     "data": {
      "text/plain": [
       "array([[0.31708033, 0.39567387, 0.28724581],\n",
       "       [0.3170812 , 0.39567322, 0.28724558],\n",
       "       [0.3170812 , 0.39567322, 0.28724558],\n",
       "       [0.3170812 , 0.39567322, 0.28724558],\n",
       "       [0.29562128, 0.41721152, 0.2871672 ]])"
      ]
     },
     "execution_count": 148,
     "metadata": {},
     "output_type": "execute_result"
    }
   ],
   "source": [
    "log_proba[:5]"
   ]
  },
  {
   "cell_type": "code",
   "execution_count": 149,
   "id": "92f325b6-91d7-495b-abfa-d21bac9ccff8",
   "metadata": {},
   "outputs": [
    {
     "data": {
      "text/plain": [
       "3"
      ]
     },
     "execution_count": 149,
     "metadata": {},
     "output_type": "execute_result"
    }
   ],
   "source": [
    "net.n_outputs_"
   ]
  },
  {
   "cell_type": "code",
   "execution_count": 150,
   "id": "a830cfdb-d8df-431e-b90e-2b1bc1ebdc1b",
   "metadata": {},
   "outputs": [
    {
     "data": {
      "text/plain": [
       "array([1, 1, 1, 1, 1, 1, 1, 1, 1, 1, 1, 1, 1, 1, 1, 1, 1, 1, 1, 1, 1, 1,\n",
       "       1, 1, 1, 1, 1, 1, 1, 1, 1, 1, 1, 1, 1, 1, 1, 1, 1, 1, 1, 1, 1, 1,\n",
       "       1, 1, 1, 1, 1, 1, 1, 1, 1, 1, 1, 1, 1, 1, 1, 1, 1, 2, 1, 1, 1, 1,\n",
       "       1, 1, 1, 1, 2, 1, 1, 1, 1, 1, 1, 1, 1, 1, 1, 1, 1, 2, 1, 1, 1, 1,\n",
       "       1, 1, 1, 1, 1, 1, 1, 1, 1, 1, 1, 1, 1, 1, 1, 1, 1, 1, 1, 1, 1, 1,\n",
       "       1, 1, 1, 1, 1, 1, 1, 1, 1, 1, 1, 1, 1, 1, 1, 1, 1, 1, 1, 1, 2, 2,\n",
       "       2, 2, 2, 2, 2, 2, 2, 2, 2, 2, 2, 2, 2, 2, 2, 2, 2, 2, 2, 2, 2, 2,\n",
       "       2, 2, 2, 2, 2, 2, 2, 2, 2, 2, 2, 2, 2, 2, 2, 2, 2, 2, 2, 2, 2, 2,\n",
       "       2, 2])"
      ]
     },
     "execution_count": 150,
     "metadata": {},
     "output_type": "execute_result"
    }
   ],
   "source": [
    "pred = net._label_binarizer.inverse_transform(log_proba)\n",
    "pred"
   ]
  },
  {
   "cell_type": "code",
   "execution_count": 151,
   "id": "ea579f40-5453-4a86-b9f5-6bc42968f6c3",
   "metadata": {},
   "outputs": [],
   "source": [
    "from sklearn.metrics import accuracy_score"
   ]
  },
  {
   "cell_type": "code",
   "execution_count": 152,
   "id": "34d82f1b-fd29-42f8-8c53-9e90b81f40a3",
   "metadata": {},
   "outputs": [
    {
     "data": {
      "text/plain": [
       "0.651685393258427"
      ]
     },
     "execution_count": 152,
     "metadata": {},
     "output_type": "execute_result"
    }
   ],
   "source": [
    "accuracy_score(y_wine, pred)"
   ]
  },
  {
   "cell_type": "markdown",
   "id": "2d5b8cbd-5fe8-43b2-8c56-5404bbe710ab",
   "metadata": {},
   "source": [
    "### Can we do it just using the neural network's `predict_proba` outputs?"
   ]
  },
  {
   "cell_type": "code",
   "execution_count": 153,
   "id": "6d23ffb9-9354-4e12-a523-a8cda719fc54",
   "metadata": {},
   "outputs": [
    {
     "data": {
      "text/plain": [
       "array([1, 2, 3, 4])"
      ]
     },
     "execution_count": 153,
     "metadata": {},
     "output_type": "execute_result"
    }
   ],
   "source": [
    "np.sort([4, 1, 2, 3])"
   ]
  },
  {
   "cell_type": "code",
   "execution_count": 154,
   "id": "62ec9838-a292-4aea-9b48-16de5477b3ee",
   "metadata": {},
   "outputs": [],
   "source": [
    "def thing1(xs):\n",
    "    return forward_pass_centered(net, 0)(xs)"
   ]
  },
  {
   "cell_type": "code",
   "execution_count": 155,
   "id": "c58d6c0d-3622-44c5-98ea-2e8087036939",
   "metadata": {},
   "outputs": [
    {
     "name": "stdout",
     "output_type": "stream",
     "text": [
      "> \u001b[0;32m/var/folders/yv/wb9c1bwx4r91d458q1c8ybhm0000gn/T/ipykernel_79125/3802623020.py\u001b[0m(6)\u001b[0;36mforward_pass_centered\u001b[0;34m()\u001b[0m\n",
      "\u001b[0;32m      4 \u001b[0;31m    \u001b[0mpdb\u001b[0m\u001b[0;34m.\u001b[0m\u001b[0mset_trace\u001b[0m\u001b[0;34m(\u001b[0m\u001b[0;34m)\u001b[0m\u001b[0;34m\u001b[0m\u001b[0;34m\u001b[0m\u001b[0m\n",
      "\u001b[0m\u001b[0;32m      5 \u001b[0;31m    \u001b[0;31m# return forward_pass_without_output_layer(net, xs)[:, target_class] - outputs[:, target_class].mean()\u001b[0m\u001b[0;34m\u001b[0m\u001b[0;34m\u001b[0m\u001b[0m\n",
      "\u001b[0m\u001b[0;32m----> 6 \u001b[0;31m    \u001b[0moutput1\u001b[0m \u001b[0;34m=\u001b[0m \u001b[0mnet\u001b[0m\u001b[0;34m.\u001b[0m\u001b[0mpredict_proba\u001b[0m\u001b[0;34m(\u001b[0m\u001b[0mxs\u001b[0m\u001b[0;34m)\u001b[0m\u001b[0;34m[\u001b[0m\u001b[0;34m:\u001b[0m\u001b[0;34m,\u001b[0m \u001b[0mtarget_class\u001b[0m\u001b[0;34m]\u001b[0m \u001b[0;34m-\u001b[0m \u001b[0moutputs\u001b[0m\u001b[0;34m[\u001b[0m\u001b[0;34m:\u001b[0m\u001b[0;34m,\u001b[0m \u001b[0mtarget_class\u001b[0m\u001b[0;34m]\u001b[0m\u001b[0;34m.\u001b[0m\u001b[0mmean\u001b[0m\u001b[0;34m(\u001b[0m\u001b[0;34m)\u001b[0m\u001b[0;34m\u001b[0m\u001b[0;34m\u001b[0m\u001b[0m\n",
      "\u001b[0m\u001b[0;32m      7 \u001b[0;31m    \u001b[0moutput2\u001b[0m \u001b[0;34m=\u001b[0m \u001b[0mnet\u001b[0m\u001b[0;34m.\u001b[0m\u001b[0mpredict_proba\u001b[0m\u001b[0;34m(\u001b[0m\u001b[0mxs\u001b[0m\u001b[0;34m)\u001b[0m\u001b[0;34m[\u001b[0m\u001b[0;34m:\u001b[0m\u001b[0;34m,\u001b[0m \u001b[0mtarget_class\u001b[0m\u001b[0;34m]\u001b[0m\u001b[0;34m\u001b[0m\u001b[0;34m\u001b[0m\u001b[0m\n",
      "\u001b[0m\u001b[0;32m      8 \u001b[0;31m    \u001b[0;32mreturn\u001b[0m \u001b[0moutput2\u001b[0m\u001b[0;34m\u001b[0m\u001b[0;34m\u001b[0m\u001b[0m\n",
      "\u001b[0m\n"
     ]
    },
    {
     "name": "stdin",
     "output_type": "stream",
     "text": [
      "ipdb>  n\n"
     ]
    },
    {
     "name": "stdout",
     "output_type": "stream",
     "text": [
      "> \u001b[0;32m/var/folders/yv/wb9c1bwx4r91d458q1c8ybhm0000gn/T/ipykernel_79125/3802623020.py\u001b[0m(7)\u001b[0;36mforward_pass_centered\u001b[0;34m()\u001b[0m\n",
      "\u001b[0;32m      4 \u001b[0;31m    \u001b[0mpdb\u001b[0m\u001b[0;34m.\u001b[0m\u001b[0mset_trace\u001b[0m\u001b[0;34m(\u001b[0m\u001b[0;34m)\u001b[0m\u001b[0;34m\u001b[0m\u001b[0;34m\u001b[0m\u001b[0m\n",
      "\u001b[0m\u001b[0;32m      5 \u001b[0;31m    \u001b[0;31m# return forward_pass_without_output_layer(net, xs)[:, target_class] - outputs[:, target_class].mean()\u001b[0m\u001b[0;34m\u001b[0m\u001b[0;34m\u001b[0m\u001b[0m\n",
      "\u001b[0m\u001b[0;32m      6 \u001b[0;31m    \u001b[0moutput1\u001b[0m \u001b[0;34m=\u001b[0m \u001b[0mnet\u001b[0m\u001b[0;34m.\u001b[0m\u001b[0mpredict_proba\u001b[0m\u001b[0;34m(\u001b[0m\u001b[0mxs\u001b[0m\u001b[0;34m)\u001b[0m\u001b[0;34m[\u001b[0m\u001b[0;34m:\u001b[0m\u001b[0;34m,\u001b[0m \u001b[0mtarget_class\u001b[0m\u001b[0;34m]\u001b[0m \u001b[0;34m-\u001b[0m \u001b[0moutputs\u001b[0m\u001b[0;34m[\u001b[0m\u001b[0;34m:\u001b[0m\u001b[0;34m,\u001b[0m \u001b[0mtarget_class\u001b[0m\u001b[0;34m]\u001b[0m\u001b[0;34m.\u001b[0m\u001b[0mmean\u001b[0m\u001b[0;34m(\u001b[0m\u001b[0;34m)\u001b[0m\u001b[0;34m\u001b[0m\u001b[0;34m\u001b[0m\u001b[0m\n",
      "\u001b[0m\u001b[0;32m----> 7 \u001b[0;31m    \u001b[0moutput2\u001b[0m \u001b[0;34m=\u001b[0m \u001b[0mnet\u001b[0m\u001b[0;34m.\u001b[0m\u001b[0mpredict_proba\u001b[0m\u001b[0;34m(\u001b[0m\u001b[0mxs\u001b[0m\u001b[0;34m)\u001b[0m\u001b[0;34m[\u001b[0m\u001b[0;34m:\u001b[0m\u001b[0;34m,\u001b[0m \u001b[0mtarget_class\u001b[0m\u001b[0;34m]\u001b[0m\u001b[0;34m\u001b[0m\u001b[0;34m\u001b[0m\u001b[0m\n",
      "\u001b[0m\u001b[0;32m      8 \u001b[0;31m    \u001b[0;32mreturn\u001b[0m \u001b[0moutput2\u001b[0m\u001b[0;34m\u001b[0m\u001b[0;34m\u001b[0m\u001b[0m\n",
      "\u001b[0m\n"
     ]
    },
    {
     "name": "stdin",
     "output_type": "stream",
     "text": [
      "ipdb>  n\n"
     ]
    },
    {
     "name": "stdout",
     "output_type": "stream",
     "text": [
      "> \u001b[0;32m/var/folders/yv/wb9c1bwx4r91d458q1c8ybhm0000gn/T/ipykernel_79125/3802623020.py\u001b[0m(8)\u001b[0;36mforward_pass_centered\u001b[0;34m()\u001b[0m\n",
      "\u001b[0;32m      4 \u001b[0;31m    \u001b[0mpdb\u001b[0m\u001b[0;34m.\u001b[0m\u001b[0mset_trace\u001b[0m\u001b[0;34m(\u001b[0m\u001b[0;34m)\u001b[0m\u001b[0;34m\u001b[0m\u001b[0;34m\u001b[0m\u001b[0m\n",
      "\u001b[0m\u001b[0;32m      5 \u001b[0;31m    \u001b[0;31m# return forward_pass_without_output_layer(net, xs)[:, target_class] - outputs[:, target_class].mean()\u001b[0m\u001b[0;34m\u001b[0m\u001b[0;34m\u001b[0m\u001b[0m\n",
      "\u001b[0m\u001b[0;32m      6 \u001b[0;31m    \u001b[0moutput1\u001b[0m \u001b[0;34m=\u001b[0m \u001b[0mnet\u001b[0m\u001b[0;34m.\u001b[0m\u001b[0mpredict_proba\u001b[0m\u001b[0;34m(\u001b[0m\u001b[0mxs\u001b[0m\u001b[0;34m)\u001b[0m\u001b[0;34m[\u001b[0m\u001b[0;34m:\u001b[0m\u001b[0;34m,\u001b[0m \u001b[0mtarget_class\u001b[0m\u001b[0;34m]\u001b[0m \u001b[0;34m-\u001b[0m \u001b[0moutputs\u001b[0m\u001b[0;34m[\u001b[0m\u001b[0;34m:\u001b[0m\u001b[0;34m,\u001b[0m \u001b[0mtarget_class\u001b[0m\u001b[0;34m]\u001b[0m\u001b[0;34m.\u001b[0m\u001b[0mmean\u001b[0m\u001b[0;34m(\u001b[0m\u001b[0;34m)\u001b[0m\u001b[0;34m\u001b[0m\u001b[0;34m\u001b[0m\u001b[0m\n",
      "\u001b[0m\u001b[0;32m      7 \u001b[0;31m    \u001b[0moutput2\u001b[0m \u001b[0;34m=\u001b[0m \u001b[0mnet\u001b[0m\u001b[0;34m.\u001b[0m\u001b[0mpredict_proba\u001b[0m\u001b[0;34m(\u001b[0m\u001b[0mxs\u001b[0m\u001b[0;34m)\u001b[0m\u001b[0;34m[\u001b[0m\u001b[0;34m:\u001b[0m\u001b[0;34m,\u001b[0m \u001b[0mtarget_class\u001b[0m\u001b[0;34m]\u001b[0m\u001b[0;34m\u001b[0m\u001b[0;34m\u001b[0m\u001b[0m\n",
      "\u001b[0m\u001b[0;32m----> 8 \u001b[0;31m    \u001b[0;32mreturn\u001b[0m \u001b[0moutput2\u001b[0m\u001b[0;34m\u001b[0m\u001b[0;34m\u001b[0m\u001b[0m\n",
      "\u001b[0m\n"
     ]
    },
    {
     "name": "stdin",
     "output_type": "stream",
     "text": [
      "ipdb>  output1\n"
     ]
    },
    {
     "name": "stdout",
     "output_type": "stream",
     "text": [
      "array([-1.76012888e-06,  8.79263968e-07,  8.80864915e-07,  8.80903489e-07,\n",
      "       -6.42955113e-02,  8.80903489e-07,  8.80903488e-07,  8.80812446e-07,\n",
      "        8.70963744e-07,  8.39361948e-07,  8.80903489e-07,  8.80903480e-07,\n",
      "        8.80903489e-07,  8.80903235e-07,  8.80903489e-07,  8.80898807e-07,\n",
      "        8.79823998e-07, -8.89184092e-07,  8.80903489e-07, -3.15174551e-05,\n",
      "       -2.25735595e-03, -8.13690342e-04,  5.40839582e-07,  6.79175969e-07,\n",
      "       -5.79020039e-03, -2.35278079e-01,  8.80903310e-07,  8.80903486e-07,\n",
      "       -6.02173393e-04,  8.38470526e-07,  8.80902590e-07,  8.80903489e-07,\n",
      "       -3.13636539e-05, -2.33867324e-07,  1.65968950e-07, -6.99041607e-04,\n",
      "       -1.84969197e-04,  8.78467750e-07,  7.67935198e-07, -2.62857346e-05,\n",
      "       -7.15534825e-04,  8.68110801e-07,  8.79861368e-07, -2.61525700e-03,\n",
      "       -1.87494263e-04, -6.38816349e-06,  8.55978661e-07, -2.79227015e-06,\n",
      "        4.35627563e-08,  8.80873568e-07,  8.80902910e-07,  8.80903480e-07,\n",
      "        8.80826624e-07,  8.80903389e-07, -1.89037911e-05, -6.45527763e-06,\n",
      "       -3.75817301e-05,  8.80903343e-07,  8.80903092e-07, -6.76407123e-01,\n",
      "       -5.05218625e-01, -9.93338020e-01, -7.11326199e-01, -9.88598800e-01,\n",
      "       -9.98867385e-01, -1.58970401e-01, -4.20666009e-01, -9.32940973e-01,\n",
      "       -2.85288752e-01, -7.26078692e-01, -5.13645362e-01, -9.99902403e-01,\n",
      "       -9.99163598e-01, -4.89291554e-01, -1.90607009e-02, -9.62824942e-01,\n",
      "       -9.91909141e-01, -8.96173256e-01, -1.12420425e-01, -9.82954681e-01,\n",
      "       -9.99622031e-01, -4.95427172e-02, -9.91565808e-01, -9.70800218e-01,\n",
      "       -9.33359140e-01, -9.96230408e-01, -9.99176960e-01, -9.98630250e-01,\n",
      "       -4.78801041e-01, -9.80759296e-01, -9.79157242e-01, -9.98836074e-01,\n",
      "       -9.94741285e-01, -9.89716382e-01, -9.88771669e-01, -3.03991768e-02,\n",
      "       -9.82877933e-01, -9.66743899e-01, -1.01886439e-01, -9.61319987e-01,\n",
      "       -5.19542731e-02, -9.54639809e-01, -9.88289018e-01, -9.98145654e-01,\n",
      "       -4.83543661e-01, -9.98692405e-01, -9.03970644e-01, -9.96820683e-01,\n",
      "       -9.99124586e-01, -3.00209961e-01, -4.13459408e-01, -9.98799316e-01,\n",
      "       -4.20166738e-01, -9.99159986e-01, -9.99470693e-01, -9.99744683e-01,\n",
      "       -9.95135176e-01, -9.99734540e-01, -9.00823456e-01, -5.89403747e-01,\n",
      "       -1.61736115e-01, -9.91489273e-01, -9.97936261e-01, -7.99558230e-01,\n",
      "       -8.95586221e-01, -9.96431282e-01, -9.98531858e-01, -9.99892673e-01,\n",
      "       -9.99942979e-01, -3.67154609e-01, -9.81212776e-01, -9.98095344e-01,\n",
      "       -9.99933964e-01, -9.96905010e-01, -9.71478647e-01, -9.94327202e-01,\n",
      "       -9.65358915e-01, -9.99705752e-01, -9.95962878e-01, -9.99019350e-01,\n",
      "       -9.92685212e-01, -9.44866643e-01, -9.99633868e-01, -9.41647689e-01,\n",
      "       -9.64238491e-01, -9.06242382e-01, -9.99763969e-01, -9.98837745e-01,\n",
      "       -9.99599878e-01, -9.99956122e-01, -9.99992772e-01, -9.99996573e-01,\n",
      "       -9.99994807e-01, -9.99212771e-01, -9.99830178e-01, -9.97981276e-01,\n",
      "       -9.99759836e-01, -9.99376570e-01, -9.99985938e-01, -9.99945223e-01,\n",
      "       -9.99413774e-01, -9.93503298e-01, -9.99060351e-01, -9.74550680e-01,\n",
      "       -9.99976963e-01, -9.99891046e-01, -9.99967856e-01, -9.99668484e-01,\n",
      "       -9.99878952e-01, -9.99924131e-01, -9.99013416e-01, -9.99992927e-01,\n",
      "       -9.99748313e-01, -9.89910777e-01, -9.98648307e-01, -9.99252213e-01,\n",
      "       -9.98895905e-01, -9.99984478e-01])\n"
     ]
    },
    {
     "name": "stdin",
     "output_type": "stream",
     "text": [
      "ipdb>  output2\n"
     ]
    },
    {
     "name": "stdout",
     "output_type": "stream",
     "text": [
      "array([9.99997359e-01, 9.99999998e-01, 1.00000000e+00, 1.00000000e+00,\n",
      "       9.35703608e-01, 1.00000000e+00, 1.00000000e+00, 1.00000000e+00,\n",
      "       9.99999990e-01, 9.99999958e-01, 1.00000000e+00, 1.00000000e+00,\n",
      "       1.00000000e+00, 1.00000000e+00, 1.00000000e+00, 1.00000000e+00,\n",
      "       9.99999999e-01, 9.99998230e-01, 1.00000000e+00, 9.99967602e-01,\n",
      "       9.97741763e-01, 9.99185429e-01, 9.99999660e-01, 9.99999798e-01,\n",
      "       9.94208919e-01, 7.64721040e-01, 1.00000000e+00, 1.00000000e+00,\n",
      "       9.99396946e-01, 9.99999958e-01, 1.00000000e+00, 1.00000000e+00,\n",
      "       9.99967755e-01, 9.99998885e-01, 9.99999285e-01, 9.99300077e-01,\n",
      "       9.99814150e-01, 9.99999998e-01, 9.99999887e-01, 9.99972833e-01,\n",
      "       9.99283584e-01, 9.99999987e-01, 9.99999999e-01, 9.97383862e-01,\n",
      "       9.99811625e-01, 9.99992731e-01, 9.99999975e-01, 9.99996327e-01,\n",
      "       9.99999163e-01, 1.00000000e+00, 1.00000000e+00, 1.00000000e+00,\n",
      "       1.00000000e+00, 1.00000000e+00, 9.99980215e-01, 9.99992664e-01,\n",
      "       9.99961537e-01, 1.00000000e+00, 1.00000000e+00, 3.23591996e-01,\n",
      "       4.94780494e-01, 6.66109904e-03, 2.88672920e-01, 1.14003193e-02,\n",
      "       1.13173394e-03, 8.41028718e-01, 5.79333110e-01, 6.70581463e-02,\n",
      "       7.14710367e-01, 2.73920427e-01, 4.86353757e-01, 9.67163779e-05,\n",
      "       8.35520677e-04, 5.10707565e-01, 9.80938418e-01, 3.71741773e-02,\n",
      "       8.08997831e-03, 1.03825863e-01, 8.87578694e-01, 1.70444385e-02,\n",
      "       3.77088137e-04, 9.50456402e-01, 8.43331128e-03, 2.91989007e-02,\n",
      "       6.66399789e-02, 3.76871079e-03, 8.22158688e-04, 1.36886919e-03,\n",
      "       5.21198078e-01, 1.92398232e-02, 2.08418775e-02, 1.16304513e-03,\n",
      "       5.25783453e-03, 1.02827367e-02, 1.12274503e-02, 9.69599942e-01,\n",
      "       1.71211863e-02, 3.32552198e-02, 8.98112680e-01, 3.86791318e-02,\n",
      "       9.48044846e-01, 4.53593097e-02, 1.17101015e-02, 1.85346553e-03,\n",
      "       5.16455458e-01, 1.30671387e-03, 9.60284751e-02, 3.17843659e-03,\n",
      "       8.74533317e-04, 6.99789158e-01, 5.86539711e-01, 1.19980304e-03,\n",
      "       5.79832381e-01, 8.39132788e-04, 5.28425860e-04, 2.54436066e-04,\n",
      "       4.86394262e-03, 2.64579403e-04, 9.91756634e-02, 4.10595372e-01,\n",
      "       8.38263004e-01, 8.50984628e-03, 2.06285858e-03, 2.00440889e-01,\n",
      "       1.04412898e-01, 3.56783701e-03, 1.46726129e-03, 1.06445761e-04,\n",
      "       5.61400776e-05, 6.32844510e-01, 1.87863427e-02, 1.90377528e-03,\n",
      "       6.51550555e-05, 3.09410862e-03, 2.85204723e-02, 5.67191743e-03,\n",
      "       3.46402044e-02, 2.93366604e-04, 4.03624102e-03, 9.79768911e-04,\n",
      "       7.31390674e-03, 5.51324760e-02, 3.65251184e-04, 5.83514298e-02,\n",
      "       3.57606280e-02, 9.37567371e-02, 2.35150584e-04, 1.16137445e-03,\n",
      "       3.99240921e-04, 4.29975888e-05, 6.34660516e-06, 2.54611060e-06,\n",
      "       4.31173912e-06, 7.86348005e-04, 1.68940715e-04, 2.01784273e-03,\n",
      "       2.39283351e-04, 6.22548835e-04, 1.31806777e-05, 5.38964771e-05,\n",
      "       5.85344625e-04, 6.49582126e-03, 9.38768159e-04, 2.54484393e-02,\n",
      "       2.21559119e-05, 1.08072691e-04, 3.12627389e-05, 3.30635517e-04,\n",
      "       1.20166691e-04, 7.49876558e-05, 9.85702704e-04, 6.19187040e-06,\n",
      "       2.50806074e-04, 1.00883421e-02, 1.35081195e-03, 7.46906422e-04,\n",
      "       1.10321374e-03, 1.46409605e-05])\n"
     ]
    },
    {
     "name": "stdin",
     "output_type": "stream",
     "text": [
      "ipdb>  output1\n"
     ]
    },
    {
     "name": "stdout",
     "output_type": "stream",
     "text": [
      "array([-1.76012888e-06,  8.79263968e-07,  8.80864915e-07,  8.80903489e-07,\n",
      "       -6.42955113e-02,  8.80903489e-07,  8.80903488e-07,  8.80812446e-07,\n",
      "        8.70963744e-07,  8.39361948e-07,  8.80903489e-07,  8.80903480e-07,\n",
      "        8.80903489e-07,  8.80903235e-07,  8.80903489e-07,  8.80898807e-07,\n",
      "        8.79823998e-07, -8.89184092e-07,  8.80903489e-07, -3.15174551e-05,\n",
      "       -2.25735595e-03, -8.13690342e-04,  5.40839582e-07,  6.79175969e-07,\n",
      "       -5.79020039e-03, -2.35278079e-01,  8.80903310e-07,  8.80903486e-07,\n",
      "       -6.02173393e-04,  8.38470526e-07,  8.80902590e-07,  8.80903489e-07,\n",
      "       -3.13636539e-05, -2.33867324e-07,  1.65968950e-07, -6.99041607e-04,\n",
      "       -1.84969197e-04,  8.78467750e-07,  7.67935198e-07, -2.62857346e-05,\n",
      "       -7.15534825e-04,  8.68110801e-07,  8.79861368e-07, -2.61525700e-03,\n",
      "       -1.87494263e-04, -6.38816349e-06,  8.55978661e-07, -2.79227015e-06,\n",
      "        4.35627563e-08,  8.80873568e-07,  8.80902910e-07,  8.80903480e-07,\n",
      "        8.80826624e-07,  8.80903389e-07, -1.89037911e-05, -6.45527763e-06,\n",
      "       -3.75817301e-05,  8.80903343e-07,  8.80903092e-07, -6.76407123e-01,\n",
      "       -5.05218625e-01, -9.93338020e-01, -7.11326199e-01, -9.88598800e-01,\n",
      "       -9.98867385e-01, -1.58970401e-01, -4.20666009e-01, -9.32940973e-01,\n",
      "       -2.85288752e-01, -7.26078692e-01, -5.13645362e-01, -9.99902403e-01,\n",
      "       -9.99163598e-01, -4.89291554e-01, -1.90607009e-02, -9.62824942e-01,\n",
      "       -9.91909141e-01, -8.96173256e-01, -1.12420425e-01, -9.82954681e-01,\n",
      "       -9.99622031e-01, -4.95427172e-02, -9.91565808e-01, -9.70800218e-01,\n",
      "       -9.33359140e-01, -9.96230408e-01, -9.99176960e-01, -9.98630250e-01,\n",
      "       -4.78801041e-01, -9.80759296e-01, -9.79157242e-01, -9.98836074e-01,\n",
      "       -9.94741285e-01, -9.89716382e-01, -9.88771669e-01, -3.03991768e-02,\n",
      "       -9.82877933e-01, -9.66743899e-01, -1.01886439e-01, -9.61319987e-01,\n",
      "       -5.19542731e-02, -9.54639809e-01, -9.88289018e-01, -9.98145654e-01,\n",
      "       -4.83543661e-01, -9.98692405e-01, -9.03970644e-01, -9.96820683e-01,\n",
      "       -9.99124586e-01, -3.00209961e-01, -4.13459408e-01, -9.98799316e-01,\n",
      "       -4.20166738e-01, -9.99159986e-01, -9.99470693e-01, -9.99744683e-01,\n",
      "       -9.95135176e-01, -9.99734540e-01, -9.00823456e-01, -5.89403747e-01,\n",
      "       -1.61736115e-01, -9.91489273e-01, -9.97936261e-01, -7.99558230e-01,\n",
      "       -8.95586221e-01, -9.96431282e-01, -9.98531858e-01, -9.99892673e-01,\n",
      "       -9.99942979e-01, -3.67154609e-01, -9.81212776e-01, -9.98095344e-01,\n",
      "       -9.99933964e-01, -9.96905010e-01, -9.71478647e-01, -9.94327202e-01,\n",
      "       -9.65358915e-01, -9.99705752e-01, -9.95962878e-01, -9.99019350e-01,\n",
      "       -9.92685212e-01, -9.44866643e-01, -9.99633868e-01, -9.41647689e-01,\n",
      "       -9.64238491e-01, -9.06242382e-01, -9.99763969e-01, -9.98837745e-01,\n",
      "       -9.99599878e-01, -9.99956122e-01, -9.99992772e-01, -9.99996573e-01,\n",
      "       -9.99994807e-01, -9.99212771e-01, -9.99830178e-01, -9.97981276e-01,\n",
      "       -9.99759836e-01, -9.99376570e-01, -9.99985938e-01, -9.99945223e-01,\n",
      "       -9.99413774e-01, -9.93503298e-01, -9.99060351e-01, -9.74550680e-01,\n",
      "       -9.99976963e-01, -9.99891046e-01, -9.99967856e-01, -9.99668484e-01,\n",
      "       -9.99878952e-01, -9.99924131e-01, -9.99013416e-01, -9.99992927e-01,\n",
      "       -9.99748313e-01, -9.89910777e-01, -9.98648307e-01, -9.99252213e-01,\n",
      "       -9.98895905e-01, -9.99984478e-01])\n"
     ]
    },
    {
     "name": "stdin",
     "output_type": "stream",
     "text": [
      "ipdb>  q\n"
     ]
    }
   ],
   "source": [
    "thing1(X_wine)[:5]"
   ]
  },
  {
   "cell_type": "code",
   "execution_count": 158,
   "id": "df0e8c57-e8ad-42b9-815d-bc7435392e9e",
   "metadata": {},
   "outputs": [],
   "source": [
    "def thing2(xs):\n",
    "    return net.predict_proba(xs)[:, 0] - outputs[:, 0].mean()"
   ]
  },
  {
   "cell_type": "code",
   "execution_count": 159,
   "id": "51e640bb-9de7-4767-bf84-b8a0b17854ea",
   "metadata": {},
   "outputs": [
    {
     "data": {
      "text/plain": [
       "array([-1.76012888e-06,  8.79263968e-07,  8.80864915e-07,  8.80903489e-07,\n",
       "       -6.42955113e-02])"
      ]
     },
     "execution_count": 159,
     "metadata": {},
     "output_type": "execute_result"
    }
   ],
   "source": [
    "thing2(X_wine)[:5]"
   ]
  },
  {
   "cell_type": "markdown",
   "id": "4ed68b15-f6c7-46c5-99be-c4eb923efb38",
   "metadata": {},
   "source": [
    "#### By hand ..."
   ]
  },
  {
   "cell_type": "code",
   "execution_count": 66,
   "id": "bacdc1a6-51ef-414e-8e4e-8578f04d798c",
   "metadata": {},
   "outputs": [
    {
     "name": "stdout",
     "output_type": "stream",
     "text": [
      "Target class 0\n",
      "[1. 1. 1. 1. 1. 1. 1. 1. 1. 1. 1. 1. 1.]\n",
      "[7.43029761e-07 1.77536620e+01 7.43029761e-07 7.43029761e-07\n",
      " 7.43029761e-07 1.69891836e+01 1.79195615e+01 1.74790192e+01\n",
      " 1.78988756e+01 1.79444659e+01 1.64701302e+01 1.53573105e+01\n",
      " 1.77197138e+01]\n",
      "Target class 1\n",
      "[1. 1. 1. 1. 1. 1. 1. 1. 1. 1. 1. 1. 1.]\n",
      "[1.56779767e-06 1.79119799e+01 1.56779767e-06 1.56779767e-06\n",
      " 1.56779767e-06 1.69126670e+01 1.80730683e+01 1.73732919e+01\n",
      " 1.79330970e+01 1.81208369e+01 1.65728848e+01 1.53448655e+01\n",
      " 1.75967791e+01]\n",
      "Target class 2\n",
      "[1. 1. 1. 1. 1. 1. 1. 1. 1. 1. 1. 1. 1.]\n",
      "[3.75686978e-06 1.78918647e+01 3.75686978e-06 3.75686978e-06\n",
      " 3.75686978e-06 1.69863851e+01 1.83348892e+01 1.74767552e+01\n",
      " 1.79699826e+01 1.76866877e+01 1.67143691e+01 1.54995871e+01\n",
      " 1.74733545e+01]\n"
     ]
    }
   ],
   "source": [
    "models = {}\n",
    "for target_class in np.sort(np.unique(y_wine)):\n",
    "    print(f'Target class {target_class}')\n",
    "    model = maxentropy.SamplingMinKLDensity(\n",
    "        feature_functions,\n",
    "        sampler,\n",
    "        # Doesn't work:\n",
    "        # prior_log_pdf = lambda xs: net.predict_log_proba(xs)[:, target_class] - outputs[:, target_class].mean(),\n",
    "        prior_log_pdf = forward_pass_centered(net, target_class),\n",
    "        # prior_log_pdf = lambda xs: net.predict_proba(xs)[:, target_class],\n",
    "        matrix_format='ndarray',\n",
    "        vectorized=True\n",
    "    )\n",
    "    X_wine_subset = X_wine[y_wine == target_class]\n",
    "    k = model.features(X_wine_subset).mean(axis=0)\n",
    "    print(k)\n",
    "    model.fit(k)\n",
    "    print(model.params)\n",
    "    models[target_class] = model"
   ]
  },
  {
   "cell_type": "code",
   "execution_count": null,
   "id": "f099182b-6341-4b38-aa9c-b23f46df440c",
   "metadata": {},
   "outputs": [],
   "source": []
  },
  {
   "cell_type": "code",
   "execution_count": 67,
   "id": "81f40c3e-429d-4000-a2da-9c4b095a9e99",
   "metadata": {},
   "outputs": [
    {
     "data": {
      "text/plain": [
       "(178, 3)"
      ]
     },
     "execution_count": 67,
     "metadata": {},
     "output_type": "execute_result"
    }
   ],
   "source": [
    "log_scores = np.array([\n",
    "    model.predict_log_proba(X_wine)\n",
    "    for model in models.values()\n",
    "]).T\n",
    "log_scores.shape"
   ]
  },
  {
   "cell_type": "code",
   "execution_count": 68,
   "id": "f8c9223b-5b33-4a9a-9dd5-13df72a50aa6",
   "metadata": {},
   "outputs": [
    {
     "data": {
      "text/plain": [
       "array([[-32.67274158, -32.89903275, -33.03076447],\n",
       "       [-32.67273895, -32.89903449, -33.03076537],\n",
       "       [-32.67273894, -32.89903449, -33.03076537],\n",
       "       [-32.67273894, -32.89903449, -33.03076537],\n",
       "       [-32.73703534, -32.84024751, -33.02525596]])"
      ]
     },
     "execution_count": 68,
     "metadata": {},
     "output_type": "execute_result"
    }
   ],
   "source": [
    "log_scores[:5]"
   ]
  },
  {
   "cell_type": "code",
   "execution_count": 69,
   "id": "eadc4475-ddee-4078-a74c-def485b1b00d",
   "metadata": {},
   "outputs": [],
   "source": [
    "from scipy.special import logsumexp"
   ]
  },
  {
   "cell_type": "code",
   "execution_count": 70,
   "id": "7a4d5045-df99-4a85-aaac-134851db853f",
   "metadata": {},
   "outputs": [
    {
     "data": {
      "text/plain": [
       "array([[-0.91490695, -1.14119812, -1.27292984],\n",
       "       [-0.91490456, -1.14120011, -1.27293099],\n",
       "       [-0.91490456, -1.14120011, -1.27293099],\n",
       "       [-0.91490456, -1.14120011, -1.27293099],\n",
       "       [-0.9751375 , -1.07834968, -1.26335813]])"
      ]
     },
     "execution_count": 70,
     "metadata": {},
     "output_type": "execute_result"
    }
   ],
   "source": [
    "log_proba = (log_scores.T - logsumexp(log_scores, axis=1)).T\n",
    "log_proba[:5]"
   ]
  },
  {
   "cell_type": "code",
   "execution_count": 71,
   "id": "ebd000b0-fcdd-4aac-8a7a-495fc33293ed",
   "metadata": {},
   "outputs": [
    {
     "data": {
      "text/plain": [
       "array([[0.4005539 , 0.31943607, 0.28001003],\n",
       "       [0.40055485, 0.31943543, 0.28000971],\n",
       "       [0.40055485, 0.31943543, 0.28000971],\n",
       "       [0.40055485, 0.31943543, 0.28000971],\n",
       "       [0.37714049, 0.34015643, 0.28270308]])"
      ]
     },
     "execution_count": 71,
     "metadata": {},
     "output_type": "execute_result"
    }
   ],
   "source": [
    "np.exp(log_proba)[:5]"
   ]
  },
  {
   "cell_type": "code",
   "execution_count": 72,
   "id": "fc5816ad-3381-47dc-b3a6-ca6e4a28a3bc",
   "metadata": {},
   "outputs": [
    {
     "data": {
      "text/plain": [
       "array([[0.4005539 , 0.31943607, 0.28001003],\n",
       "       [0.40055485, 0.31943543, 0.28000971],\n",
       "       [0.40055485, 0.31943543, 0.28000971],\n",
       "       [0.40055485, 0.31943543, 0.28000971],\n",
       "       [0.37714049, 0.34015643, 0.28270308]])"
      ]
     },
     "execution_count": 72,
     "metadata": {},
     "output_type": "execute_result"
    }
   ],
   "source": [
    "proba = softmax(log_scores, axis=1)\n",
    "proba[:5]"
   ]
  },
  {
   "cell_type": "code",
   "execution_count": 73,
   "id": "b786de96-1e01-4f31-b57d-0e5e6618d05b",
   "metadata": {},
   "outputs": [
    {
     "data": {
      "text/plain": [
       "array([0, 0, 0, 0, 0, 0, 0, 0, 0, 0, 0, 0, 0, 0, 0, 0, 0, 0, 0, 0, 0, 0,\n",
       "       0, 0, 0, 1, 0, 0, 0, 0, 0, 0, 0, 0, 0, 0, 0, 0, 0, 0, 0, 0, 0, 0,\n",
       "       0, 0, 0, 0, 0, 0, 0, 0, 0, 0, 0, 0, 0, 0, 0, 1, 1, 2, 1, 1, 1, 1,\n",
       "       1, 1, 1, 1, 2, 1, 1, 1, 0, 1, 1, 1, 0, 1, 1, 0, 1, 2, 1, 1, 1, 1,\n",
       "       1, 1, 1, 1, 1, 1, 1, 0, 1, 1, 0, 1, 0, 1, 1, 1, 1, 1, 1, 1, 1, 1,\n",
       "       1, 1, 1, 1, 1, 1, 1, 1, 1, 1, 1, 1, 1, 1, 1, 1, 1, 1, 1, 1, 2, 2,\n",
       "       2, 2, 2, 2, 2, 2, 2, 2, 2, 2, 2, 2, 2, 2, 2, 2, 2, 2, 2, 2, 2, 2,\n",
       "       2, 2, 2, 2, 2, 2, 2, 2, 2, 2, 2, 2, 2, 2, 2, 2, 2, 2, 2, 2, 2, 2,\n",
       "       2, 2])"
      ]
     },
     "execution_count": 73,
     "metadata": {},
     "output_type": "execute_result"
    }
   ],
   "source": [
    "np.argmax(log_proba, axis=1)"
   ]
  },
  {
   "cell_type": "markdown",
   "id": "df84cfa9-c7da-491e-a11d-9ba107b166c6",
   "metadata": {},
   "source": [
    "Choose the value (25.3 below) that causes this to be roughly 1:"
   ]
  },
  {
   "cell_type": "code",
   "execution_count": 74,
   "id": "cd1891f3-4dc7-481a-a729-8cf5ea41ddf1",
   "metadata": {},
   "outputs": [],
   "source": [
    "# np.exp(log_scores + 25.3).sum(axis=1)"
   ]
  },
  {
   "cell_type": "code",
   "execution_count": 75,
   "id": "aa6e5876-279e-4bff-b4bd-1d746cbf2bf6",
   "metadata": {},
   "outputs": [
    {
     "data": {
      "text/plain": [
       "array([[0.00062814, 0.00050094, 0.00043911],\n",
       "       [0.00062815, 0.00050093, 0.00043911],\n",
       "       [0.00062815, 0.00050093, 0.00043911],\n",
       "       [0.00062815, 0.00050093, 0.00043911],\n",
       "       [0.00058903, 0.00053127, 0.00044153]])"
      ]
     },
     "execution_count": 75,
     "metadata": {},
     "output_type": "execute_result"
    }
   ],
   "source": [
    "np.exp(log_scores + 25.3)[:5]"
   ]
  },
  {
   "cell_type": "code",
   "execution_count": 76,
   "id": "0f802f15-72e6-4dd8-a365-5737162f9400",
   "metadata": {},
   "outputs": [
    {
     "data": {
      "text/plain": [
       "array([0, 0, 0, 0, 0, 0, 0, 0, 0, 0, 0, 0, 0, 0, 0, 0, 0, 0, 0, 0, 0, 0,\n",
       "       0, 0, 0, 1, 0, 0, 0, 0, 0, 0, 0, 0, 0, 0, 0, 0, 0, 0, 0, 0, 0, 0,\n",
       "       0, 0, 0, 0, 0, 0, 0, 0, 0, 0, 0, 0, 0, 0, 0, 1, 1, 2, 1, 1, 1, 1,\n",
       "       1, 1, 1, 1, 2, 1, 1, 1, 0, 1, 1, 1, 0, 1, 1, 0, 1, 2, 1, 1, 1, 1,\n",
       "       1, 1, 1, 1, 1, 1, 1, 0, 1, 1, 0, 1, 0, 1, 1, 1, 1, 1, 1, 1, 1, 1,\n",
       "       1, 1, 1, 1, 1, 1, 1, 1, 1, 1, 1, 1, 1, 1, 1, 1, 1, 1, 1, 1, 2, 2,\n",
       "       2, 2, 2, 2, 2, 2, 2, 2, 2, 2, 2, 2, 2, 2, 2, 2, 2, 2, 2, 2, 2, 2,\n",
       "       2, 2, 2, 2, 2, 2, 2, 2, 2, 2, 2, 2, 2, 2, 2, 2, 2, 2, 2, 2, 2, 2,\n",
       "       2, 2])"
      ]
     },
     "execution_count": 76,
     "metadata": {},
     "output_type": "execute_result"
    }
   ],
   "source": [
    "np.argmax(log_scores, axis=1)"
   ]
  },
  {
   "cell_type": "code",
   "execution_count": 77,
   "id": "59a1ae0b-9326-4404-ab65-71bcd7e98381",
   "metadata": {},
   "outputs": [],
   "source": [
    "# np.max(log_scores, axis=1) - np.min(log_scores, axis=1)"
   ]
  },
  {
   "cell_type": "code",
   "execution_count": 78,
   "id": "f1c3c3be-afb9-4254-96d3-963839b143c0",
   "metadata": {},
   "outputs": [],
   "source": [
    "# softmax(np.exp(log_scores + 25.3), axis=1)[:5]"
   ]
  },
  {
   "cell_type": "code",
   "execution_count": 79,
   "id": "fa4b7543-c8f5-4bd3-8b06-a2d9a95d2eb9",
   "metadata": {},
   "outputs": [],
   "source": [
    "# log_scores"
   ]
  },
  {
   "cell_type": "code",
   "execution_count": 80,
   "id": "ba2e1356-0adf-4c75-9ed9-550be71c0684",
   "metadata": {},
   "outputs": [],
   "source": [
    "# log_proba = softmax(log_scores, axis=1)\n",
    "# log_proba"
   ]
  },
  {
   "cell_type": "code",
   "execution_count": 81,
   "id": "7370732f-a59e-44aa-9f9f-7c79d5406da4",
   "metadata": {},
   "outputs": [],
   "source": [
    "pred = net._label_binarizer.inverse_transform(log_proba)"
   ]
  },
  {
   "cell_type": "code",
   "execution_count": 82,
   "id": "68db15bf-6fea-4d09-95ce-0ef7e04f5fd1",
   "metadata": {},
   "outputs": [
    {
     "data": {
      "text/plain": [
       "array([0, 0, 0, 0, 0, 0, 0, 0, 0, 0, 0, 0, 0, 0, 0, 0, 0, 0, 0, 0, 0, 0,\n",
       "       0, 0, 0, 1, 0, 0, 0, 0, 0, 0, 0, 0, 0, 0, 0, 0, 0, 0, 0, 0, 0, 0,\n",
       "       0, 0, 0, 0, 0, 0, 0, 0, 0, 0, 0, 0, 0, 0, 0, 1, 1, 2, 1, 1, 1, 1,\n",
       "       1, 1, 1, 1, 2, 1, 1, 1, 0, 1, 1, 1, 0, 1, 1, 0, 1, 2, 1, 1, 1, 1,\n",
       "       1, 1, 1, 1, 1, 1, 1, 0, 1, 1, 0, 1, 0, 1, 1, 1, 1, 1, 1, 1, 1, 1,\n",
       "       1, 1, 1, 1, 1, 1, 1, 1, 1, 1, 1, 1, 1, 1, 1, 1, 1, 1, 1, 1, 2, 2,\n",
       "       2, 2, 2, 2, 2, 2, 2, 2, 2, 2, 2, 2, 2, 2, 2, 2, 2, 2, 2, 2, 2, 2,\n",
       "       2, 2, 2, 2, 2, 2, 2, 2, 2, 2, 2, 2, 2, 2, 2, 2, 2, 2, 2, 2, 2, 2,\n",
       "       2, 2])"
      ]
     },
     "execution_count": 82,
     "metadata": {},
     "output_type": "execute_result"
    }
   ],
   "source": [
    "pred"
   ]
  },
  {
   "cell_type": "code",
   "execution_count": 83,
   "id": "8acd628a-883a-4c97-9cb5-0b6d9c206fb3",
   "metadata": {},
   "outputs": [
    {
     "data": {
      "text/plain": [
       "0.9438202247191011"
      ]
     },
     "execution_count": 83,
     "metadata": {},
     "output_type": "execute_result"
    }
   ],
   "source": [
    "accuracy_score(y_wine, pred)"
   ]
  },
  {
   "cell_type": "code",
   "execution_count": 84,
   "id": "412aaf7d-799c-4b9c-9f6c-e3e4eb0c5956",
   "metadata": {},
   "outputs": [
    {
     "data": {
      "text/plain": [
       "array([0, 0, 0, 0, 0, 0, 0, 0, 0, 0, 0, 0, 0, 0, 0, 0, 0, 0, 0, 0, 0, 0,\n",
       "       0, 0, 0, 0, 0, 0, 0, 0, 0, 0, 0, 0, 0, 0, 0, 0, 0, 0, 0, 0, 0, 0,\n",
       "       0, 0, 0, 0, 0, 0, 0, 0, 0, 0, 0, 0, 0, 0, 0, 1, 0, 2, 1, 1, 1, 0,\n",
       "       0, 1, 0, 1, 2, 1, 1, 0, 0, 1, 1, 1, 0, 1, 1, 0, 1, 2, 1, 1, 1, 1,\n",
       "       0, 1, 1, 1, 1, 1, 1, 0, 1, 1, 0, 1, 0, 1, 1, 1, 0, 1, 1, 1, 1, 0,\n",
       "       0, 1, 0, 1, 1, 1, 1, 1, 1, 1, 0, 1, 1, 1, 1, 1, 1, 1, 1, 0, 2, 2,\n",
       "       2, 2, 2, 2, 2, 2, 2, 2, 2, 2, 2, 2, 2, 2, 2, 2, 2, 2, 2, 2, 2, 2,\n",
       "       2, 2, 2, 2, 2, 2, 2, 2, 2, 2, 2, 2, 2, 2, 2, 2, 2, 2, 2, 2, 2, 2,\n",
       "       2, 2])"
      ]
     },
     "execution_count": 84,
     "metadata": {},
     "output_type": "execute_result"
    }
   ],
   "source": [
    "net.predict(X_wine)"
   ]
  },
  {
   "cell_type": "markdown",
   "id": "a440b36c-8ac2-4240-b789-fc6dc552af28",
   "metadata": {},
   "source": [
    "### Using MinKLClassifier"
   ]
  },
  {
   "cell_type": "code",
   "execution_count": 85,
   "id": "c1a206ec-ac1d-4cff-b601-a3353cc7906c",
   "metadata": {},
   "outputs": [
    {
     "ename": "AssertionError",
     "evalue": "",
     "output_type": "error",
     "traceback": [
      "\u001b[0;31m---------------------------------------------------------------------------\u001b[0m",
      "\u001b[0;31mAssertionError\u001b[0m                            Traceback (most recent call last)",
      "Cell \u001b[0;32mIn[85], line 9\u001b[0m\n\u001b[1;32m      1\u001b[0m clf \u001b[38;5;241m=\u001b[39m maxentropy\u001b[38;5;241m.\u001b[39mMinKLClassifier(\n\u001b[1;32m      2\u001b[0m     feature_functions,\n\u001b[1;32m      3\u001b[0m     sampler,\n\u001b[0;32m   (...)\u001b[0m\n\u001b[1;32m      7\u001b[0m     vectorized\u001b[38;5;241m=\u001b[39m\u001b[38;5;28;01mTrue\u001b[39;00m\n\u001b[1;32m      8\u001b[0m )\n\u001b[0;32m----> 9\u001b[0m \u001b[43mclf\u001b[49m\u001b[38;5;241;43m.\u001b[39;49m\u001b[43mfit\u001b[49m\u001b[43m(\u001b[49m\u001b[43mX_wine\u001b[49m\u001b[43m,\u001b[49m\u001b[43m \u001b[49m\u001b[43my_wine\u001b[49m\u001b[43m)\u001b[49m\n",
      "File \u001b[0;32m~/NonDropbox/Code/maxentropy/maxentropy/core.py:991\u001b[0m, in \u001b[0;36mMinKLClassifier.fit\u001b[0;34m(self, X, y, sample_weight)\u001b[0m\n\u001b[1;32m    986\u001b[0m     \u001b[38;5;28;01melse\u001b[39;00m:\n\u001b[1;32m    987\u001b[0m         prior_log_pdfs[target_class] \u001b[38;5;241m=\u001b[39m \u001b[38;5;28;01mlambda\u001b[39;00m X: (\n\u001b[1;32m    988\u001b[0m             \u001b[38;5;28mself\u001b[39m\u001b[38;5;241m.\u001b[39mprior_log_proba_fn(X)[:, target_class]\n\u001b[1;32m    989\u001b[0m         )\n\u001b[0;32m--> 991\u001b[0m     \u001b[38;5;28mself\u001b[39m\u001b[38;5;241m.\u001b[39mmodels[target_class] \u001b[38;5;241m=\u001b[39m \u001b[43mSamplingMinKLDensity\u001b[49m\u001b[43m(\u001b[49m\n\u001b[1;32m    992\u001b[0m \u001b[43m        \u001b[49m\u001b[38;5;28;43mself\u001b[39;49m\u001b[38;5;241;43m.\u001b[39;49m\u001b[43mfeature_functions\u001b[49m\u001b[43m,\u001b[49m\n\u001b[1;32m    993\u001b[0m \u001b[43m        \u001b[49m\u001b[38;5;28;43mself\u001b[39;49m\u001b[38;5;241;43m.\u001b[39;49m\u001b[43mauxiliary_sampler\u001b[49m\u001b[43m,\u001b[49m\n\u001b[1;32m    994\u001b[0m \u001b[43m        \u001b[49m\u001b[43mprior_log_pdf\u001b[49m\u001b[38;5;241;43m=\u001b[39;49m\u001b[43mprior_log_pdfs\u001b[49m\u001b[43m[\u001b[49m\u001b[43mtarget_class\u001b[49m\u001b[43m]\u001b[49m\u001b[43m,\u001b[49m\n\u001b[1;32m    995\u001b[0m \u001b[43m        \u001b[49m\u001b[43mvectorized\u001b[49m\u001b[38;5;241;43m=\u001b[39;49m\u001b[38;5;28;43mself\u001b[39;49m\u001b[38;5;241;43m.\u001b[39;49m\u001b[43mvectorized\u001b[49m\u001b[43m,\u001b[49m\n\u001b[1;32m    996\u001b[0m \u001b[43m        \u001b[49m\u001b[43mmatrix_format\u001b[49m\u001b[38;5;241;43m=\u001b[39;49m\u001b[38;5;28;43mself\u001b[39;49m\u001b[38;5;241;43m.\u001b[39;49m\u001b[43mmatrix_format\u001b[49m\u001b[43m,\u001b[49m\n\u001b[1;32m    997\u001b[0m \u001b[43m        \u001b[49m\u001b[43malgorithm\u001b[49m\u001b[38;5;241;43m=\u001b[39;49m\u001b[38;5;28;43mself\u001b[39;49m\u001b[38;5;241;43m.\u001b[39;49m\u001b[43malgorithm\u001b[49m\u001b[43m,\u001b[49m\n\u001b[1;32m    998\u001b[0m \u001b[43m        \u001b[49m\u001b[43mmax_iter\u001b[49m\u001b[38;5;241;43m=\u001b[39;49m\u001b[38;5;28;43mself\u001b[39;49m\u001b[38;5;241;43m.\u001b[39;49m\u001b[43mmax_iter\u001b[49m\u001b[43m,\u001b[49m\n\u001b[1;32m    999\u001b[0m \u001b[43m        \u001b[49m\u001b[43mwarm_start\u001b[49m\u001b[38;5;241;43m=\u001b[39;49m\u001b[38;5;28;43mself\u001b[39;49m\u001b[38;5;241;43m.\u001b[39;49m\u001b[43mwarm_start\u001b[49m\u001b[43m,\u001b[49m\n\u001b[1;32m   1000\u001b[0m \u001b[43m        \u001b[49m\u001b[43mverbose\u001b[49m\u001b[38;5;241;43m=\u001b[39;49m\u001b[38;5;28;43mself\u001b[39;49m\u001b[38;5;241;43m.\u001b[39;49m\u001b[43mverbose\u001b[49m\u001b[43m,\u001b[49m\n\u001b[1;32m   1001\u001b[0m \u001b[43m    \u001b[49m\u001b[43m)\u001b[49m\n\u001b[1;32m   1003\u001b[0m \u001b[38;5;28;01mfor\u001b[39;00m target_class, model \u001b[38;5;129;01min\u001b[39;00m \u001b[38;5;28mself\u001b[39m\u001b[38;5;241m.\u001b[39mmodels\u001b[38;5;241m.\u001b[39mitems():\n\u001b[1;32m   1004\u001b[0m     \u001b[38;5;66;03m# Filter the rows of X to those whose corresponding y matches the target class:\u001b[39;00m\n\u001b[1;32m   1005\u001b[0m     X_subset \u001b[38;5;241m=\u001b[39m X[y \u001b[38;5;241m==\u001b[39m target_class]\n",
      "File \u001b[0;32m~/NonDropbox/Code/maxentropy/maxentropy/core.py:468\u001b[0m, in \u001b[0;36mSamplingMinKLDensity.__init__\u001b[0;34m(self, feature_functions, auxiliary_sampler, prior_log_pdf, vectorized, matrix_format, algorithm, max_iter, warm_start, verbose)\u001b[0m\n\u001b[1;32m    465\u001b[0m \u001b[38;5;28mself\u001b[39m\u001b[38;5;241m.\u001b[39mauxiliary_sampler \u001b[38;5;241m=\u001b[39m auxiliary_sampler\n\u001b[1;32m    467\u001b[0m \u001b[38;5;66;03m# We require that auxiliary_sampler be a generator:\u001b[39;00m\n\u001b[0;32m--> 468\u001b[0m \u001b[38;5;28;01massert\u001b[39;00m \u001b[38;5;28misinstance\u001b[39m(auxiliary_sampler, GeneratorType)\n\u001b[1;32m    470\u001b[0m \u001b[38;5;28mself\u001b[39m\u001b[38;5;241m.\u001b[39msampleFgen \u001b[38;5;241m=\u001b[39m feature_sampler(\n\u001b[1;32m    471\u001b[0m     feature_functions,\n\u001b[1;32m    472\u001b[0m     auxiliary_sampler,\n\u001b[1;32m    473\u001b[0m     vectorized\u001b[38;5;241m=\u001b[39mvectorized,\n\u001b[1;32m    474\u001b[0m     matrix_format\u001b[38;5;241m=\u001b[39mmatrix_format,\n\u001b[1;32m    475\u001b[0m )\n\u001b[1;32m    476\u001b[0m \u001b[38;5;66;03m# Number of sample matrices to generate and use each iteration to estimate E and logZ.\u001b[39;00m\n\u001b[1;32m    477\u001b[0m \u001b[38;5;66;03m# Normally this will be 1. Setting this > 1 would be much slower but could offer\u001b[39;00m\n\u001b[1;32m    478\u001b[0m \u001b[38;5;66;03m# more accurate estimates toward the end of the fitting process, when we\u001b[39;00m\n\u001b[1;32m    479\u001b[0m \u001b[38;5;66;03m# are near convergence.\u001b[39;00m\n",
      "\u001b[0;31mAssertionError\u001b[0m: "
     ]
    }
   ],
   "source": [
    "clf = maxentropy.MinKLClassifier(\n",
    "    feature_functions,\n",
    "    sampler,\n",
    "    prior_log_proba_fn=net.predict_log_proba,\n",
    "    # prior_log_proba_fn=lambda xs: forward_pass_centered(net, slice(None), xs),\n",
    "    matrix_format='ndarray',\n",
    "    vectorized=True\n",
    ")\n",
    "clf.fit(X_wine, y_wine)"
   ]
  },
  {
   "cell_type": "code",
   "execution_count": null,
   "id": "06add3f2-014d-432b-a6ad-b91b157f4b46",
   "metadata": {},
   "outputs": [],
   "source": [
    "# clf.predict_proba(X_wine)"
   ]
  },
  {
   "cell_type": "code",
   "execution_count": null,
   "id": "049f4b89-9a97-4e1a-aacc-722cb041cfb0",
   "metadata": {},
   "outputs": [],
   "source": [
    "clf.predict(X_wine)"
   ]
  },
  {
   "cell_type": "code",
   "execution_count": null,
   "id": "fcdc5225-226b-4f20-9701-b9160557016e",
   "metadata": {},
   "outputs": [],
   "source": [
    "models = {}\n",
    "for target_class in np.sort(np.unique(y_wine)):\n",
    "    print(f'Target class {target_class}')\n",
    "    model = maxentropy.SamplingMinKLDensity(\n",
    "        feature_functions,\n",
    "        sampler,\n",
    "        # Doesn't work:\n",
    "        # prior_log_pdf = lambda xs: net.predict_log_proba(xs)[:, target_class] - outputs[:, target_class].mean(),\n",
    "        prior_log_pdf = forward_pass_centered(net, target_class),\n",
    "        # prior_log_pdf = lambda xs: net.predict_proba(xs)[:, target_class],\n",
    "        matrix_format='ndarray',\n",
    "        vectorized=True\n",
    "    )\n",
    "    X_wine_subset = X_wine[y_wine == target_class]\n",
    "    k = model.features(X_wine_subset).mean(axis=0)\n",
    "    model.fit(k)\n",
    "    models[target_class] = model"
   ]
  },
  {
   "cell_type": "markdown",
   "id": "b2e2dfde-e415-4152-854e-ca9880ffd517",
   "metadata": {},
   "source": [
    "### Ideas for improving the usability"
   ]
  },
  {
   "cell_type": "markdown",
   "id": "65e18484-5344-48c9-b87c-a2eb52d9e88b",
   "metadata": {},
   "source": [
    "##### Current API"
   ]
  },
  {
   "cell_type": "code",
   "execution_count": null,
   "id": "16356ab0-9823-4b2d-b19f-26c404103b8e",
   "metadata": {},
   "outputs": [],
   "source": [
    "BREAK"
   ]
  },
  {
   "cell_type": "code",
   "execution_count": null,
   "id": "63b23aab-4585-4ad9-b0c2-0e974d8da22f",
   "metadata": {},
   "outputs": [],
   "source": [
    "def non_neg(x):\n",
    "    return x >= 0\n",
    "\n",
    "prior_model_params = scipy.stats.norm.fit(df_cancer['mean concavity'])\n",
    "\n",
    "auxiliary = scipy.stats.uniform(-0.2, 1.2)   # i.e. from -0.2 to 1.0\n",
    "\n",
    "sampler = maxentropy.utils.auxiliary_sampler_scipy(auxiliary, n_samples=10_000)\n",
    "\n",
    "model = maxentropy.SamplingMinKLDensity(\n",
    "    [non_neg], sampler, prior_log_pdf = prior_model.logpdf, matrix_format='ndarray', \n",
    ")\n",
    "\n",
    "k = model.features(np.array([X_cancer['mean concavity'].mean()]))\n",
    "\n",
    "model.fit(k)"
   ]
  },
  {
   "cell_type": "markdown",
   "id": "9ff207d0-eca1-46b4-92cc-bbc8fbf2b364",
   "metadata": {},
   "source": [
    "##### Desired API"
   ]
  },
  {
   "cell_type": "code",
   "execution_count": null,
   "id": "cbee0158-1036-4b06-ac3f-4d86e71ee49b",
   "metadata": {},
   "outputs": [],
   "source": [
    "model = maxentropy.SamplingMinKLDensity(sampler='uniform', matrix_format='ndarray', sampling_stretch_factor=0.1, n_samples=10_000)"
   ]
  },
  {
   "cell_type": "code",
   "execution_count": null,
   "id": "15d70e2e-33b9-4be8-b6cf-faa2752ea6fa",
   "metadata": {},
   "outputs": [],
   "source": [
    "feature_functions = [non_neg] * X_cancer.shape[1]\n",
    "\n",
    "model.fit(X_cancer, feature_functions=feature_functions)"
   ]
  },
  {
   "cell_type": "code",
   "execution_count": null,
   "id": "6a80917a-f3e9-4a48-a5dd-341cc40cde5b",
   "metadata": {},
   "outputs": [],
   "source": [
    "def non_neg(x):\n",
    "    return x >= 0"
   ]
  },
  {
   "cell_type": "code",
   "execution_count": null,
   "id": "9d4d08b7-5643-4a1e-b595-32c079e5a498",
   "metadata": {},
   "outputs": [],
   "source": []
  },
  {
   "cell_type": "code",
   "execution_count": null,
   "id": "106bd456-7322-4d49-827a-fd4c9a14f295",
   "metadata": {},
   "outputs": [],
   "source": []
  },
  {
   "cell_type": "code",
   "execution_count": null,
   "id": "56667832-ef43-427e-9aab-7fe7d855cad0",
   "metadata": {},
   "outputs": [],
   "source": []
  }
 ],
 "metadata": {
  "kernelspec": {
   "display_name": "Python 3 (ipykernel)",
   "language": "python",
   "name": "python3"
  },
  "language_info": {
   "codemirror_mode": {
    "name": "ipython",
    "version": 3
   },
   "file_extension": ".py",
   "mimetype": "text/x-python",
   "name": "python",
   "nbconvert_exporter": "python",
   "pygments_lexer": "ipython3",
   "version": "3.11.8"
  }
 },
 "nbformat": 4,
 "nbformat_minor": 5
}
