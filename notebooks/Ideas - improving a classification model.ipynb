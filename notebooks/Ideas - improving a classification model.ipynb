{
 "cells": [
  {
   "cell_type": "markdown",
   "id": "832dc45c-4796-4368-b070-0920a2389236",
   "metadata": {},
   "source": [
    "## Reranking an existing model"
   ]
  },
  {
   "cell_type": "markdown",
   "id": "04c1a879-4965-4a6a-965c-2c50faa969ef",
   "metadata": {},
   "source": [
    "Can we improve on the existing LR model?"
   ]
  },
  {
   "cell_type": "markdown",
   "id": "90bc78dd-98fc-46f3-8a52-486bbbdd154e",
   "metadata": {},
   "source": [
    "Ideally we'd first now how it's poor, then impose constraints to correct for that."
   ]
  },
  {
   "cell_type": "code",
   "execution_count": 1,
   "id": "55424d19-6180-4cd8-ac22-73411219ee3e",
   "metadata": {},
   "outputs": [],
   "source": [
    "import numpy as np\n",
    "import scipy.stats\n",
    "import pandas as pd\n",
    "import matplotlib.pyplot as plt\n",
    "import plotly.express as px\n",
    "from sklearn.linear_model import LogisticRegression\n",
    "import maxentropy\n",
    "import maxentropy.utils as utils\n",
    "\n",
    "import plotly.io as pio\n",
    "pio.renderers.default = 'plotly_mimetype'\n",
    "\n",
    "import plotly.express as px\n",
    "\n",
    "from sklearn.datasets import load_iris, load_breast_cancer\n",
    "\n",
    "iris = load_iris()\n",
    "cancer = load_breast_cancer(as_frame=True)"
   ]
  },
  {
   "cell_type": "markdown",
   "id": "0ba9baa7-2a76-4585-9b34-90d8b2eecd6b",
   "metadata": {},
   "source": [
    "## First example: find the model with minimum relative entropy to some prior model subject to a non-negativity constraint"
   ]
  },
  {
   "cell_type": "code",
   "execution_count": 2,
   "id": "cdd2a129-3e44-4d8b-89d4-39c356331970",
   "metadata": {},
   "outputs": [
    {
     "data": {
      "text/plain": [
       "array(['mean radius', 'mean texture', 'mean perimeter', 'mean area',\n",
       "       'mean smoothness', 'mean compactness', 'mean concavity',\n",
       "       'mean concave points', 'mean symmetry', 'mean fractal dimension',\n",
       "       'radius error', 'texture error', 'perimeter error', 'area error',\n",
       "       'smoothness error', 'compactness error', 'concavity error',\n",
       "       'concave points error', 'symmetry error',\n",
       "       'fractal dimension error', 'worst radius', 'worst texture',\n",
       "       'worst perimeter', 'worst area', 'worst smoothness',\n",
       "       'worst compactness', 'worst concavity', 'worst concave points',\n",
       "       'worst symmetry', 'worst fractal dimension'], dtype='<U23')"
      ]
     },
     "execution_count": 2,
     "metadata": {},
     "output_type": "execute_result"
    }
   ],
   "source": [
    "cancer['feature_names']"
   ]
  },
  {
   "cell_type": "code",
   "execution_count": 3,
   "id": "b07049f9-59cf-4dfd-95a7-5e823266d106",
   "metadata": {},
   "outputs": [],
   "source": [
    "df_cancer = cancer['data']\n",
    "X_cancer = cancer['data'].values\n",
    "y_cancer = cancer['target']"
   ]
  },
  {
   "cell_type": "markdown",
   "id": "102be6aa-2557-4d18-9e69-60914ec896b0",
   "metadata": {},
   "source": [
    "### Question: Can we fit a neural network for classification, remove the final softmax layer, and then apply this?"
   ]
  },
  {
   "cell_type": "code",
   "execution_count": null,
   "id": "4b0520b3-fcfa-4e76-9f05-a2313b9f6ce4",
   "metadata": {},
   "outputs": [],
   "source": [
    "from sklearn.neural_network import MLPClassifier\n",
    "\n",
    "net = MLPClassifier(hidden_layer_sizes=(100,))\n",
    "\n",
    "net.fit(X_cancer, y_cancer)\n",
    "\n",
    "net.score(X_cancer, y_cancer)"
   ]
  },
  {
   "cell_type": "code",
   "execution_count": 6,
   "id": "e76deabd-4100-42b4-a109-7ed3d33a36ac",
   "metadata": {},
   "outputs": [
    {
     "data": {
      "text/plain": [
       "\u001b[0;31mSignature:\u001b[0m \u001b[0mnet\u001b[0m\u001b[0;34m.\u001b[0m\u001b[0m_predict\u001b[0m\u001b[0;34m(\u001b[0m\u001b[0mX\u001b[0m\u001b[0;34m,\u001b[0m \u001b[0mcheck_input\u001b[0m\u001b[0;34m=\u001b[0m\u001b[0;32mTrue\u001b[0m\u001b[0;34m)\u001b[0m\u001b[0;34m\u001b[0m\u001b[0;34m\u001b[0m\u001b[0m\n",
       "\u001b[0;31mSource:\u001b[0m   \n",
       "    \u001b[0;32mdef\u001b[0m \u001b[0m_predict\u001b[0m\u001b[0;34m(\u001b[0m\u001b[0mself\u001b[0m\u001b[0;34m,\u001b[0m \u001b[0mX\u001b[0m\u001b[0;34m,\u001b[0m \u001b[0mcheck_input\u001b[0m\u001b[0;34m=\u001b[0m\u001b[0;32mTrue\u001b[0m\u001b[0;34m)\u001b[0m\u001b[0;34m:\u001b[0m\u001b[0;34m\u001b[0m\n",
       "\u001b[0;34m\u001b[0m        \u001b[0;34m\"\"\"Private predict method with optional input validation\"\"\"\u001b[0m\u001b[0;34m\u001b[0m\n",
       "\u001b[0;34m\u001b[0m        \u001b[0my_pred\u001b[0m \u001b[0;34m=\u001b[0m \u001b[0mself\u001b[0m\u001b[0;34m.\u001b[0m\u001b[0m_forward_pass_fast\u001b[0m\u001b[0;34m(\u001b[0m\u001b[0mX\u001b[0m\u001b[0;34m,\u001b[0m \u001b[0mcheck_input\u001b[0m\u001b[0;34m=\u001b[0m\u001b[0mcheck_input\u001b[0m\u001b[0;34m)\u001b[0m\u001b[0;34m\u001b[0m\n",
       "\u001b[0;34m\u001b[0m\u001b[0;34m\u001b[0m\n",
       "\u001b[0;34m\u001b[0m        \u001b[0;32mif\u001b[0m \u001b[0mself\u001b[0m\u001b[0;34m.\u001b[0m\u001b[0mn_outputs_\u001b[0m \u001b[0;34m==\u001b[0m \u001b[0;36m1\u001b[0m\u001b[0;34m:\u001b[0m\u001b[0;34m\u001b[0m\n",
       "\u001b[0;34m\u001b[0m            \u001b[0my_pred\u001b[0m \u001b[0;34m=\u001b[0m \u001b[0my_pred\u001b[0m\u001b[0;34m.\u001b[0m\u001b[0mravel\u001b[0m\u001b[0;34m(\u001b[0m\u001b[0;34m)\u001b[0m\u001b[0;34m\u001b[0m\n",
       "\u001b[0;34m\u001b[0m\u001b[0;34m\u001b[0m\n",
       "\u001b[0;34m\u001b[0m        \u001b[0;32mreturn\u001b[0m \u001b[0mself\u001b[0m\u001b[0;34m.\u001b[0m\u001b[0m_label_binarizer\u001b[0m\u001b[0;34m.\u001b[0m\u001b[0minverse_transform\u001b[0m\u001b[0;34m(\u001b[0m\u001b[0my_pred\u001b[0m\u001b[0;34m)\u001b[0m\u001b[0;34m\u001b[0m\u001b[0;34m\u001b[0m\u001b[0m\n",
       "\u001b[0;31mFile:\u001b[0m      ~/anaconda/envs/maxentropy/lib/python3.11/site-packages/sklearn/neural_network/_multilayer_perceptron.py\n",
       "\u001b[0;31mType:\u001b[0m      method"
      ]
     },
     "metadata": {},
     "output_type": "display_data"
    }
   ],
   "source": [
    "net._predict??"
   ]
  },
  {
   "cell_type": "code",
   "execution_count": 7,
   "id": "66dd4da3-d8c8-46a3-947a-8f13c0397c7e",
   "metadata": {},
   "outputs": [],
   "source": [
    "# outputs = net._forward_pass_fast(X_cancer, check_input=True)"
   ]
  },
  {
   "cell_type": "code",
   "execution_count": null,
   "id": "aceaedbd-f768-46d2-895d-17fe97f0e8dc",
   "metadata": {},
   "outputs": [],
   "source": []
  },
  {
   "cell_type": "code",
   "execution_count": 8,
   "id": "1c8feeb3-7ea9-443e-a583-8cbb8d5d590c",
   "metadata": {},
   "outputs": [],
   "source": [
    "import toolz as tz"
   ]
  },
  {
   "cell_type": "code",
   "execution_count": 9,
   "id": "c67cf710-88ed-4274-8785-2c59f587d924",
   "metadata": {},
   "outputs": [],
   "source": [
    "@tz.curry\n",
    "# def forward_pass_without_output_layer(net, target=slice(None)):\n",
    "def forward_pass(net, X, target=slice(None)):\n",
    "    from sklearn.neural_network._base import ACTIVATIONS\n",
    "    from sklearn.utils.extmath import safe_sparse_dot\n",
    "    \n",
    "    # Initialize first layer\n",
    "    activation = X\n",
    "\n",
    "    # Forward propagate\n",
    "    hidden_activation = ACTIVATIONS[net.activation]\n",
    "    for i in range(net.n_layers_ - 1):\n",
    "        activation = safe_sparse_dot(activation, net.coefs_[i])\n",
    "        activation += net.intercepts_[i]\n",
    "        if i != net.n_layers_ - 2:\n",
    "            hidden_activation(activation)\n",
    "    # Should we really apply the logistic function in the output layer?\n",
    "    # print(net.out_activation_)\n",
    "    output_activation = ACTIVATIONS[net.out_activation_]\n",
    "    output_activation(activation)\n",
    "    return activation[:, target]"
   ]
  },
  {
   "cell_type": "code",
   "execution_count": 10,
   "id": "1cdb523d-ecc9-4191-9005-8d458c737fe6",
   "metadata": {},
   "outputs": [
    {
     "data": {
      "text/plain": [
       "array([1.51656078e-16, 2.32867637e-10, 9.29204775e-08, 6.32877304e-01,\n",
       "       1.79076208e-02, 2.80405857e-02, 3.44312011e-08, 1.32751855e-03,\n",
       "       2.30689234e-01, 4.01083480e-03])"
      ]
     },
     "execution_count": 10,
     "metadata": {},
     "output_type": "execute_result"
    }
   ],
   "source": [
    "forward_pass(net, X_cancer, 0)[:10]"
   ]
  },
  {
   "cell_type": "markdown",
   "id": "5696b067-ff04-4d6d-ba2f-898e1c478703",
   "metadata": {},
   "source": [
    "## Now: apply it to a multi-class classification problem (n_classes > 2)"
   ]
  },
  {
   "cell_type": "code",
   "execution_count": null,
   "id": "70caca83-263b-4901-a6a2-3adb5a373907",
   "metadata": {},
   "outputs": [],
   "source": [
    "from sklearn.datasets import load_wine\n",
    "\n",
    "wine = load_wine(as_frame=True)\n",
    "\n",
    "df_wine = wine['data']\n",
    "X_wine = wine['data'].values\n",
    "y_wine = wine['target']"
   ]
  },
  {
   "cell_type": "code",
   "execution_count": 14,
   "id": "789ce361-38b5-42fd-945b-1c872e218e80",
   "metadata": {},
   "outputs": [],
   "source": [
    "# wine['feature_names']"
   ]
  },
  {
   "cell_type": "code",
   "execution_count": 15,
   "id": "4bc0baac-c001-4cbf-b505-000abe019c7a",
   "metadata": {},
   "outputs": [
    {
     "data": {
      "text/html": [
       "<div>\n",
       "<style scoped>\n",
       "    .dataframe tbody tr th:only-of-type {\n",
       "        vertical-align: middle;\n",
       "    }\n",
       "\n",
       "    .dataframe tbody tr th {\n",
       "        vertical-align: top;\n",
       "    }\n",
       "\n",
       "    .dataframe thead th {\n",
       "        text-align: right;\n",
       "    }\n",
       "</style>\n",
       "<table border=\"1\" class=\"dataframe\">\n",
       "  <thead>\n",
       "    <tr style=\"text-align: right;\">\n",
       "      <th></th>\n",
       "      <th>alcohol</th>\n",
       "      <th>malic_acid</th>\n",
       "      <th>ash</th>\n",
       "      <th>alcalinity_of_ash</th>\n",
       "      <th>magnesium</th>\n",
       "      <th>total_phenols</th>\n",
       "      <th>flavanoids</th>\n",
       "      <th>nonflavanoid_phenols</th>\n",
       "      <th>proanthocyanins</th>\n",
       "      <th>color_intensity</th>\n",
       "      <th>hue</th>\n",
       "      <th>od280/od315_of_diluted_wines</th>\n",
       "      <th>proline</th>\n",
       "    </tr>\n",
       "  </thead>\n",
       "  <tbody>\n",
       "    <tr>\n",
       "      <th>0</th>\n",
       "      <td>14.23</td>\n",
       "      <td>1.71</td>\n",
       "      <td>2.43</td>\n",
       "      <td>15.6</td>\n",
       "      <td>127.0</td>\n",
       "      <td>2.80</td>\n",
       "      <td>3.06</td>\n",
       "      <td>0.28</td>\n",
       "      <td>2.29</td>\n",
       "      <td>5.64</td>\n",
       "      <td>1.04</td>\n",
       "      <td>3.92</td>\n",
       "      <td>1065.0</td>\n",
       "    </tr>\n",
       "    <tr>\n",
       "      <th>1</th>\n",
       "      <td>13.20</td>\n",
       "      <td>1.78</td>\n",
       "      <td>2.14</td>\n",
       "      <td>11.2</td>\n",
       "      <td>100.0</td>\n",
       "      <td>2.65</td>\n",
       "      <td>2.76</td>\n",
       "      <td>0.26</td>\n",
       "      <td>1.28</td>\n",
       "      <td>4.38</td>\n",
       "      <td>1.05</td>\n",
       "      <td>3.40</td>\n",
       "      <td>1050.0</td>\n",
       "    </tr>\n",
       "    <tr>\n",
       "      <th>2</th>\n",
       "      <td>13.16</td>\n",
       "      <td>2.36</td>\n",
       "      <td>2.67</td>\n",
       "      <td>18.6</td>\n",
       "      <td>101.0</td>\n",
       "      <td>2.80</td>\n",
       "      <td>3.24</td>\n",
       "      <td>0.30</td>\n",
       "      <td>2.81</td>\n",
       "      <td>5.68</td>\n",
       "      <td>1.03</td>\n",
       "      <td>3.17</td>\n",
       "      <td>1185.0</td>\n",
       "    </tr>\n",
       "  </tbody>\n",
       "</table>\n",
       "</div>"
      ],
      "text/plain": [
       "   alcohol  malic_acid   ash  alcalinity_of_ash  magnesium  total_phenols  \\\n",
       "0    14.23        1.71  2.43               15.6      127.0           2.80   \n",
       "1    13.20        1.78  2.14               11.2      100.0           2.65   \n",
       "2    13.16        2.36  2.67               18.6      101.0           2.80   \n",
       "\n",
       "   flavanoids  nonflavanoid_phenols  proanthocyanins  color_intensity   hue  \\\n",
       "0        3.06                  0.28             2.29             5.64  1.04   \n",
       "1        2.76                  0.26             1.28             4.38  1.05   \n",
       "2        3.24                  0.30             2.81             5.68  1.03   \n",
       "\n",
       "   od280/od315_of_diluted_wines  proline  \n",
       "0                          3.92   1065.0  \n",
       "1                          3.40   1050.0  \n",
       "2                          3.17   1185.0  "
      ]
     },
     "execution_count": 15,
     "metadata": {},
     "output_type": "execute_result"
    }
   ],
   "source": [
    "df_wine[:3]"
   ]
  },
  {
   "cell_type": "code",
   "execution_count": 16,
   "id": "bf3ef967-f805-492e-9681-590e6fa32054",
   "metadata": {},
   "outputs": [
    {
     "data": {
      "text/plain": [
       "array([[1.423e+01, 1.710e+00, 2.430e+00, 1.560e+01, 1.270e+02, 2.800e+00,\n",
       "        3.060e+00, 2.800e-01, 2.290e+00, 5.640e+00, 1.040e+00, 3.920e+00,\n",
       "        1.065e+03],\n",
       "       [1.320e+01, 1.780e+00, 2.140e+00, 1.120e+01, 1.000e+02, 2.650e+00,\n",
       "        2.760e+00, 2.600e-01, 1.280e+00, 4.380e+00, 1.050e+00, 3.400e+00,\n",
       "        1.050e+03],\n",
       "       [1.316e+01, 2.360e+00, 2.670e+00, 1.860e+01, 1.010e+02, 2.800e+00,\n",
       "        3.240e+00, 3.000e-01, 2.810e+00, 5.680e+00, 1.030e+00, 3.170e+00,\n",
       "        1.185e+03]])"
      ]
     },
     "execution_count": 16,
     "metadata": {},
     "output_type": "execute_result"
    }
   ],
   "source": [
    "X_wine[:3]"
   ]
  },
  {
   "cell_type": "code",
   "execution_count": 17,
   "id": "b80a2f6e-1e40-426b-a5f4-a6eb6c524f17",
   "metadata": {},
   "outputs": [
    {
     "data": {
      "text/plain": [
       "0.9943820224719101"
      ]
     },
     "execution_count": 17,
     "metadata": {},
     "output_type": "execute_result"
    }
   ],
   "source": [
    "model_lr = LogisticRegression(max_iter=5_000)\n",
    "model_lr.fit(X_wine, y_wine)\n",
    "model_lr.score(X_wine, y_wine)"
   ]
  },
  {
   "cell_type": "code",
   "execution_count": 18,
   "id": "c0c539c2-cdb0-4483-b811-9f2c211f9166",
   "metadata": {},
   "outputs": [
    {
     "data": {
      "text/plain": [
       "0.8820224719101124"
      ]
     },
     "execution_count": 18,
     "metadata": {},
     "output_type": "execute_result"
    }
   ],
   "source": [
    "net = MLPClassifier(hidden_layer_sizes=(100,), learning_rate_init=0.01, max_iter=1000, random_state=7)\n",
    "net.fit(X_wine, y_wine)\n",
    "net.score(X_wine, y_wine)"
   ]
  },
  {
   "cell_type": "code",
   "execution_count": 19,
   "id": "08e81577-c456-40c1-94b3-18eca895f60c",
   "metadata": {},
   "outputs": [
    {
     "data": {
      "text/plain": [
       "array([[9.99997359e-01, 1.74069242e-06, 9.00339952e-07],\n",
       "       [9.99999998e-01, 1.14744691e-09, 4.92073562e-10],\n",
       "       [1.00000000e+00, 1.53418384e-11, 2.32317785e-11],\n",
       "       [1.00000000e+00, 3.20726835e-19, 3.52267199e-17],\n",
       "       [9.35703608e-01, 5.87869811e-02, 5.50941106e-03],\n",
       "       [1.00000000e+00, 8.85365192e-19, 4.49256502e-17],\n",
       "       [1.00000000e+00, 1.93530313e-16, 8.48028138e-16],\n",
       "       [1.00000000e+00, 4.77580015e-12, 8.62673306e-11],\n",
       "       [9.99999990e-01, 7.44782829e-09, 2.49191611e-09],\n",
       "       [9.99999958e-01, 9.93821203e-09, 3.16033288e-08]])"
      ]
     },
     "execution_count": 19,
     "metadata": {},
     "output_type": "execute_result"
    }
   ],
   "source": [
    "forward_pass(net, X_wine)[:10]"
   ]
  },
  {
   "cell_type": "code",
   "execution_count": 20,
   "id": "5c3cb0bf-374f-465e-9506-ec37555c5ae9",
   "metadata": {},
   "outputs": [
    {
     "data": {
      "text/plain": [
       "array([[9.99997359e-01, 1.74069242e-06, 9.00339952e-07],\n",
       "       [9.99999998e-01, 1.14744691e-09, 4.92073562e-10],\n",
       "       [1.00000000e+00, 1.53418384e-11, 2.32317785e-11],\n",
       "       [1.00000000e+00, 3.20726835e-19, 3.52267199e-17],\n",
       "       [9.35703608e-01, 5.87869811e-02, 5.50941106e-03],\n",
       "       [1.00000000e+00, 8.85365192e-19, 4.49256502e-17],\n",
       "       [1.00000000e+00, 1.93530313e-16, 8.48028138e-16],\n",
       "       [1.00000000e+00, 4.77580015e-12, 8.62673306e-11],\n",
       "       [9.99999990e-01, 7.44782829e-09, 2.49191611e-09],\n",
       "       [9.99999958e-01, 9.93821203e-09, 3.16033288e-08]])"
      ]
     },
     "execution_count": 20,
     "metadata": {},
     "output_type": "execute_result"
    }
   ],
   "source": [
    "net.predict_proba(X_wine)[:10]"
   ]
  },
  {
   "cell_type": "code",
   "execution_count": 21,
   "id": "4dff7109-f957-41c7-b0b0-f4a32345ee87",
   "metadata": {},
   "outputs": [],
   "source": [
    "# net.predict_log_proba(X_wine[:10])"
   ]
  },
  {
   "cell_type": "code",
   "execution_count": 22,
   "id": "ba3473c3-b8e2-4512-93fe-2c8e787a52b3",
   "metadata": {},
   "outputs": [],
   "source": [
    "# net.predict_proba(X_wine[:10])"
   ]
  },
  {
   "cell_type": "markdown",
   "id": "e92d6a7b-c7e9-4add-aed2-45d62a9ca17f",
   "metadata": {},
   "source": [
    "#### Now define a sampler"
   ]
  },
  {
   "cell_type": "code",
   "execution_count": 23,
   "id": "f205faa2-9b76-4567-a41b-1678d0a2f6c5",
   "metadata": {},
   "outputs": [],
   "source": [
    "# auxiliary = scipy.stats.uniform(-0.2, 1.2)   # i.e. from -0.2 to 1.0\n",
    "\n",
    "# sampler = maxentropy.utils.auxiliary_sampler_scipy(auxiliary, n_samples=10_000)"
   ]
  },
  {
   "cell_type": "code",
   "execution_count": 24,
   "id": "b8288f57-d1fa-49ac-bbf4-fa48a8088d12",
   "metadata": {},
   "outputs": [],
   "source": [
    "stretched_minima, stretched_maxima = utils.bounds_stretched(X_wine, 10.0)\n",
    "uniform_dist = scipy.stats.uniform(\n",
    "    stretched_minima, stretched_maxima - stretched_minima\n",
    ")\n",
    "sampler = utils.auxiliary_sampler_scipy(\n",
    "    uniform_dist, n_dims=len(wine[\"feature_names\"]), n_samples=100_000\n",
    ")"
   ]
  },
  {
   "cell_type": "code",
   "execution_count": 25,
   "id": "dda7469a-3a6e-41c9-b628-0129cc45e849",
   "metadata": {},
   "outputs": [
    {
     "data": {
      "text/plain": [
       "0.4059430769230769"
      ]
     },
     "execution_count": 25,
     "metadata": {},
     "output_type": "execute_result"
    }
   ],
   "source": [
    "np.mean(next(sampler)[0] < 0)"
   ]
  },
  {
   "cell_type": "code",
   "execution_count": 26,
   "id": "925c16dd-a7ca-4e7f-9010-d9b124c859a5",
   "metadata": {},
   "outputs": [],
   "source": [
    "@tz.curry\n",
    "def non_neg(column, x):\n",
    "    return x[:, column] >= 0"
   ]
  },
  {
   "cell_type": "code",
   "execution_count": 27,
   "id": "a19f1d19-8f0b-449f-9828-aa58c524f1da",
   "metadata": {},
   "outputs": [],
   "source": [
    "# def non_neg(x):\n",
    "#     return x >= 0"
   ]
  },
  {
   "cell_type": "code",
   "execution_count": 28,
   "id": "d68902b8-c8f6-4c01-b8d6-5c08015fac7a",
   "metadata": {},
   "outputs": [],
   "source": [
    "def scalar(x):\n",
    "    return 1.0"
   ]
  },
  {
   "cell_type": "code",
   "execution_count": 29,
   "id": "0ae604de-b2a9-4e0d-86da-c61388ea7241",
   "metadata": {},
   "outputs": [],
   "source": [
    "feature_functions = [non_neg(i) for i in range(len(wine['feature_names']))]"
   ]
  },
  {
   "cell_type": "code",
   "execution_count": 30,
   "id": "b4652af9-8114-4313-87a1-0911fbe6b852",
   "metadata": {},
   "outputs": [],
   "source": [
    "from maxentropy.utils import feature_sampler"
   ]
  },
  {
   "cell_type": "code",
   "execution_count": 31,
   "id": "91c3c3f8-e9d7-4499-9599-eb97feb2782a",
   "metadata": {},
   "outputs": [],
   "source": [
    "sampleFgen = feature_sampler(\n",
    "            feature_functions,\n",
    "            sampler,\n",
    "            vectorized=True,\n",
    "            matrix_format='ndarray',\n",
    "        )"
   ]
  },
  {
   "cell_type": "code",
   "execution_count": 32,
   "id": "ed6129b7-061e-4cc7-8e17-46939bfb470c",
   "metadata": {},
   "outputs": [
    {
     "data": {
      "text/plain": [
       "(100000, 13)"
      ]
     },
     "execution_count": 32,
     "metadata": {},
     "output_type": "execute_result"
    }
   ],
   "source": [
    "next(sampleFgen)[0].shape"
   ]
  },
  {
   "cell_type": "code",
   "execution_count": 33,
   "id": "0d912a39-3258-4cca-b26f-7c60f12d656c",
   "metadata": {},
   "outputs": [
    {
     "data": {
      "text/plain": [
       "0.5944407692307693"
      ]
     },
     "execution_count": 33,
     "metadata": {},
     "output_type": "execute_result"
    }
   ],
   "source": [
    "next(sampleFgen)[0].mean()"
   ]
  },
  {
   "cell_type": "code",
   "execution_count": 34,
   "id": "02b987fd-29e0-49b6-b6bb-6ddac8434341",
   "metadata": {},
   "outputs": [
    {
     "data": {
      "text/plain": [
       "(100000,)"
      ]
     },
     "execution_count": 34,
     "metadata": {},
     "output_type": "execute_result"
    }
   ],
   "source": [
    "next(sampleFgen)[1].shape"
   ]
  },
  {
   "cell_type": "code",
   "execution_count": 35,
   "id": "12b39c4a-7eff-41c4-aa38-b0c0821dd0f3",
   "metadata": {},
   "outputs": [
    {
     "data": {
      "text/plain": [
       "(100000, 13)"
      ]
     },
     "execution_count": 35,
     "metadata": {},
     "output_type": "execute_result"
    }
   ],
   "source": [
    "next(sampleFgen)[2].shape"
   ]
  },
  {
   "cell_type": "markdown",
   "id": "aef30367-74c4-4b06-bb7a-f3d4f302b1c3",
   "metadata": {},
   "source": [
    "#### The neural network has fit K different models for the K different target classes.\n",
    "\n",
    "Here we just twiddle the density for the first target class:"
   ]
  },
  {
   "cell_type": "code",
   "execution_count": 36,
   "id": "d28cd81a-6f84-4931-b1e0-c57fd1e43277",
   "metadata": {},
   "outputs": [
    {
     "data": {
      "text/plain": [
       "array([[9.99997359e-01, 1.74069242e-06, 9.00339952e-07],\n",
       "       [9.99999998e-01, 1.14744691e-09, 4.92073562e-10],\n",
       "       [1.00000000e+00, 1.53418384e-11, 2.32317785e-11]])"
      ]
     },
     "execution_count": 36,
     "metadata": {},
     "output_type": "execute_result"
    }
   ],
   "source": [
    "outputs = forward_pass(net, X_wine)\n",
    "outputs[:3]"
   ]
  },
  {
   "cell_type": "code",
   "execution_count": 37,
   "id": "2506b77b-109a-4ef1-8bd5-d87eb4c091fb",
   "metadata": {},
   "outputs": [
    {
     "data": {
      "text/plain": [
       "array([[9.99997359e-01, 1.74069242e-06, 9.00339952e-07],\n",
       "       [9.99999998e-01, 1.14744691e-09, 4.92073562e-10],\n",
       "       [1.00000000e+00, 1.53418384e-11, 2.32317785e-11]])"
      ]
     },
     "execution_count": 37,
     "metadata": {},
     "output_type": "execute_result"
    }
   ],
   "source": [
    "outputs = net.predict_proba(X_wine)\n",
    "outputs[:3]"
   ]
  },
  {
   "cell_type": "code",
   "execution_count": 38,
   "id": "f8707745-c7ca-41f6-a986-c7445133dc59",
   "metadata": {},
   "outputs": [
    {
     "data": {
      "text/plain": [
       "array([0.42208937, 0.28603808, 0.29187255])"
      ]
     },
     "execution_count": 38,
     "metadata": {},
     "output_type": "execute_result"
    }
   ],
   "source": [
    "outputs.mean(axis=0)"
   ]
  },
  {
   "cell_type": "code",
   "execution_count": 39,
   "id": "4c8e21b7-2a50-42ca-94bb-6293972a51a9",
   "metadata": {},
   "outputs": [
    {
     "data": {
      "text/plain": [
       "array([59, 71, 48])"
      ]
     },
     "execution_count": 39,
     "metadata": {},
     "output_type": "execute_result"
    }
   ],
   "source": [
    "np.unique(y_wine, return_counts=True)[1]"
   ]
  },
  {
   "cell_type": "code",
   "execution_count": 40,
   "id": "08499cc3-1594-4da9-bf8a-4a0f4c192345",
   "metadata": {},
   "outputs": [
    {
     "data": {
      "text/plain": [
       "array([59, 71, 48])"
      ]
     },
     "execution_count": 40,
     "metadata": {},
     "output_type": "execute_result"
    }
   ],
   "source": [
    "np.bincount(y_wine)"
   ]
  },
  {
   "cell_type": "code",
   "execution_count": 41,
   "id": "12ce5d44-b008-4df2-a5af-861715a86d53",
   "metadata": {},
   "outputs": [],
   "source": [
    "centered_outputs = outputs - outputs.mean(axis=0)"
   ]
  },
  {
   "cell_type": "code",
   "execution_count": 42,
   "id": "640c27ec-48b7-4af1-b8c9-3d85c0ff0ae9",
   "metadata": {},
   "outputs": [
    {
     "data": {
      "text/plain": [
       "array([0.42, 0.29, 0.29])"
      ]
     },
     "execution_count": 42,
     "metadata": {},
     "output_type": "execute_result"
    }
   ],
   "source": [
    "np.round(outputs.mean(axis=0), 2)"
   ]
  },
  {
   "cell_type": "code",
   "execution_count": 43,
   "id": "eb33873d-eb92-4d1d-81ef-3dc8e64d4e4c",
   "metadata": {},
   "outputs": [
    {
     "data": {
      "text/plain": [
       "array([[ 0.57790799, -0.28603634, -0.29187165],\n",
       "       [ 0.57791063, -0.28603808, -0.29187255],\n",
       "       [ 0.57791063, -0.28603808, -0.29187255]])"
      ]
     },
     "execution_count": 43,
     "metadata": {},
     "output_type": "execute_result"
    }
   ],
   "source": [
    "centered_outputs[:3]"
   ]
  },
  {
   "cell_type": "code",
   "execution_count": 44,
   "id": "17b05c35-108a-4c1b-99bf-4d7ce52860a8",
   "metadata": {},
   "outputs": [],
   "source": [
    "@tz.curry\n",
    "def forward_pass_centered(net, target_class, xs):\n",
    "    # return forward_pass_without_output_layer(net, xs)[:, target_class] - outputs[:, target_class].mean()\n",
    "    output = net.predict_proba(xs)[:, target_class] - outputs[:, target_class].mean()\n",
    "    return output"
   ]
  },
  {
   "cell_type": "markdown",
   "id": "2ff54721-ba90-42fe-a7ac-7eeee93f37d5",
   "metadata": {},
   "source": [
    "The above seems to work, but the logic is wrong ..."
   ]
  },
  {
   "cell_type": "markdown",
   "id": "f1e35dc2-8e36-4d8e-bb2f-b92253ce9672",
   "metadata": {},
   "source": [
    "#### Now do the sensible thing."
   ]
  },
  {
   "cell_type": "code",
   "execution_count": 45,
   "id": "95ccc0d7-0055-4e4a-a612-dcd5e9552334",
   "metadata": {},
   "outputs": [],
   "source": [
    "@tz.curry\n",
    "def log_p_x_given_k(net, class_probabilities, target_class, xs):\n",
    "    \"\"\"\n",
    "    This calculates the log of p(x | k = target_class) up to an additive constant (independent of k).\n",
    "\n",
    "    Since:\n",
    "    \n",
    "        p(x | k) = p(k | x) / p(k) * p(x)\n",
    "\n",
    "    we have:\n",
    "\n",
    "        log p(x | k) = log p(k | x) - log p(k) + additive_constant_indep_of_k\n",
    "\n",
    "    \"\"\"\n",
    "    import pdb\n",
    "    pdb.set_trace()\n",
    "    # return forward_pass_without_output_layer(net, xs)[:, target_class] - outputs[:, target_class].mean()\n",
    "    output = net.predict_log_proba(xs)[:, target_class] - np.log(class_probabilities)\n",
    "    return output"
   ]
  },
  {
   "cell_type": "code",
   "execution_count": 46,
   "id": "94d708b4-0b50-4ff6-bb94-35de5fb6e66e",
   "metadata": {},
   "outputs": [
    {
     "data": {
      "text/plain": [
       "array([0.37258348, 0.62741652])"
      ]
     },
     "execution_count": 46,
     "metadata": {},
     "output_type": "execute_result"
    }
   ],
   "source": [
    "np.bincount(y_cancer) / np.bincount(y_cancer).sum()"
   ]
  },
  {
   "cell_type": "code",
   "execution_count": 47,
   "id": "3669d69d-583d-4a37-9a6c-e7a8977fb521",
   "metadata": {},
   "outputs": [],
   "source": [
    "from sklearn.utils.validation import check_is_fitted, check_array"
   ]
  },
  {
   "cell_type": "code",
   "execution_count": 48,
   "id": "9be3dd98-9ecb-4bb2-810a-e642c16ef72c",
   "metadata": {},
   "outputs": [],
   "source": [
    "from sklearn.utils.estimator_checks import check_estimator"
   ]
  },
  {
   "cell_type": "code",
   "execution_count": 50,
   "id": "378f818b-047d-4ae0-bf7d-81e604cfb5c3",
   "metadata": {},
   "outputs": [
    {
     "data": {
      "text/plain": [
       "array([0.57790799, 0.57791063, 0.57791063])"
      ]
     },
     "execution_count": 50,
     "metadata": {},
     "output_type": "execute_result"
    }
   ],
   "source": [
    "forward_pass_centered(net, 0, X_wine)[:3]"
   ]
  },
  {
   "cell_type": "code",
   "execution_count": 51,
   "id": "e7af0521-b0ad-4bda-806d-4cfd1db9f7a8",
   "metadata": {},
   "outputs": [],
   "source": [
    "target_class = 0\n",
    "\n",
    "model0 = maxentropy.SamplingMinKLDensity(\n",
    "    feature_functions,\n",
    "    sampler,\n",
    "    prior_log_pdf = forward_pass_centered(net, target_class),\n",
    "    matrix_format='ndarray',\n",
    "    vectorized=True\n",
    ")"
   ]
  },
  {
   "cell_type": "code",
   "execution_count": 52,
   "id": "f63dd1ef-36a4-402e-8dea-ed56497fc2db",
   "metadata": {},
   "outputs": [
    {
     "data": {
      "text/plain": [
       "array([69.13366292])"
      ]
     },
     "execution_count": 52,
     "metadata": {},
     "output_type": "execute_result"
    }
   ],
   "source": [
    "np.array([X_wine.mean()])"
   ]
  },
  {
   "cell_type": "code",
   "execution_count": 53,
   "id": "b2df39a6-d94d-49a7-8f1f-c89f1228013c",
   "metadata": {},
   "outputs": [],
   "source": [
    "# X_wine[y_wine==target_class]"
   ]
  },
  {
   "cell_type": "code",
   "execution_count": 54,
   "id": "fd64bd3c-d8f3-432a-a0bb-cc960f3c53d0",
   "metadata": {},
   "outputs": [
    {
     "data": {
      "text/plain": [
       "(59, 13)"
      ]
     },
     "execution_count": 54,
     "metadata": {},
     "output_type": "execute_result"
    }
   ],
   "source": [
    "X_wine_subset = X_wine[y_wine == target_class]\n",
    "X_wine_subset.shape"
   ]
  },
  {
   "cell_type": "code",
   "execution_count": 55,
   "id": "31e84721-f229-4316-9ba2-0bd54cafc5a5",
   "metadata": {},
   "outputs": [],
   "source": [
    "k = model0.features(X_wine_subset).mean(axis=0)"
   ]
  },
  {
   "cell_type": "code",
   "execution_count": 56,
   "id": "90a0fafc-f4ea-45ff-ba2d-f14537d7832f",
   "metadata": {},
   "outputs": [
    {
     "data": {
      "text/html": [
       "<style>#sk-container-id-1 {\n",
       "  /* Definition of color scheme common for light and dark mode */\n",
       "  --sklearn-color-text: black;\n",
       "  --sklearn-color-line: gray;\n",
       "  /* Definition of color scheme for unfitted estimators */\n",
       "  --sklearn-color-unfitted-level-0: #fff5e6;\n",
       "  --sklearn-color-unfitted-level-1: #f6e4d2;\n",
       "  --sklearn-color-unfitted-level-2: #ffe0b3;\n",
       "  --sklearn-color-unfitted-level-3: chocolate;\n",
       "  /* Definition of color scheme for fitted estimators */\n",
       "  --sklearn-color-fitted-level-0: #f0f8ff;\n",
       "  --sklearn-color-fitted-level-1: #d4ebff;\n",
       "  --sklearn-color-fitted-level-2: #b3dbfd;\n",
       "  --sklearn-color-fitted-level-3: cornflowerblue;\n",
       "\n",
       "  /* Specific color for light theme */\n",
       "  --sklearn-color-text-on-default-background: var(--sg-text-color, var(--theme-code-foreground, var(--jp-content-font-color1, black)));\n",
       "  --sklearn-color-background: var(--sg-background-color, var(--theme-background, var(--jp-layout-color0, white)));\n",
       "  --sklearn-color-border-box: var(--sg-text-color, var(--theme-code-foreground, var(--jp-content-font-color1, black)));\n",
       "  --sklearn-color-icon: #696969;\n",
       "\n",
       "  @media (prefers-color-scheme: dark) {\n",
       "    /* Redefinition of color scheme for dark theme */\n",
       "    --sklearn-color-text-on-default-background: var(--sg-text-color, var(--theme-code-foreground, var(--jp-content-font-color1, white)));\n",
       "    --sklearn-color-background: var(--sg-background-color, var(--theme-background, var(--jp-layout-color0, #111)));\n",
       "    --sklearn-color-border-box: var(--sg-text-color, var(--theme-code-foreground, var(--jp-content-font-color1, white)));\n",
       "    --sklearn-color-icon: #878787;\n",
       "  }\n",
       "}\n",
       "\n",
       "#sk-container-id-1 {\n",
       "  color: var(--sklearn-color-text);\n",
       "}\n",
       "\n",
       "#sk-container-id-1 pre {\n",
       "  padding: 0;\n",
       "}\n",
       "\n",
       "#sk-container-id-1 input.sk-hidden--visually {\n",
       "  border: 0;\n",
       "  clip: rect(1px 1px 1px 1px);\n",
       "  clip: rect(1px, 1px, 1px, 1px);\n",
       "  height: 1px;\n",
       "  margin: -1px;\n",
       "  overflow: hidden;\n",
       "  padding: 0;\n",
       "  position: absolute;\n",
       "  width: 1px;\n",
       "}\n",
       "\n",
       "#sk-container-id-1 div.sk-dashed-wrapped {\n",
       "  border: 1px dashed var(--sklearn-color-line);\n",
       "  margin: 0 0.4em 0.5em 0.4em;\n",
       "  box-sizing: border-box;\n",
       "  padding-bottom: 0.4em;\n",
       "  background-color: var(--sklearn-color-background);\n",
       "}\n",
       "\n",
       "#sk-container-id-1 div.sk-container {\n",
       "  /* jupyter's `normalize.less` sets `[hidden] { display: none; }`\n",
       "     but bootstrap.min.css set `[hidden] { display: none !important; }`\n",
       "     so we also need the `!important` here to be able to override the\n",
       "     default hidden behavior on the sphinx rendered scikit-learn.org.\n",
       "     See: https://github.com/scikit-learn/scikit-learn/issues/21755 */\n",
       "  display: inline-block !important;\n",
       "  position: relative;\n",
       "}\n",
       "\n",
       "#sk-container-id-1 div.sk-text-repr-fallback {\n",
       "  display: none;\n",
       "}\n",
       "\n",
       "div.sk-parallel-item,\n",
       "div.sk-serial,\n",
       "div.sk-item {\n",
       "  /* draw centered vertical line to link estimators */\n",
       "  background-image: linear-gradient(var(--sklearn-color-text-on-default-background), var(--sklearn-color-text-on-default-background));\n",
       "  background-size: 2px 100%;\n",
       "  background-repeat: no-repeat;\n",
       "  background-position: center center;\n",
       "}\n",
       "\n",
       "/* Parallel-specific style estimator block */\n",
       "\n",
       "#sk-container-id-1 div.sk-parallel-item::after {\n",
       "  content: \"\";\n",
       "  width: 100%;\n",
       "  border-bottom: 2px solid var(--sklearn-color-text-on-default-background);\n",
       "  flex-grow: 1;\n",
       "}\n",
       "\n",
       "#sk-container-id-1 div.sk-parallel {\n",
       "  display: flex;\n",
       "  align-items: stretch;\n",
       "  justify-content: center;\n",
       "  background-color: var(--sklearn-color-background);\n",
       "  position: relative;\n",
       "}\n",
       "\n",
       "#sk-container-id-1 div.sk-parallel-item {\n",
       "  display: flex;\n",
       "  flex-direction: column;\n",
       "}\n",
       "\n",
       "#sk-container-id-1 div.sk-parallel-item:first-child::after {\n",
       "  align-self: flex-end;\n",
       "  width: 50%;\n",
       "}\n",
       "\n",
       "#sk-container-id-1 div.sk-parallel-item:last-child::after {\n",
       "  align-self: flex-start;\n",
       "  width: 50%;\n",
       "}\n",
       "\n",
       "#sk-container-id-1 div.sk-parallel-item:only-child::after {\n",
       "  width: 0;\n",
       "}\n",
       "\n",
       "/* Serial-specific style estimator block */\n",
       "\n",
       "#sk-container-id-1 div.sk-serial {\n",
       "  display: flex;\n",
       "  flex-direction: column;\n",
       "  align-items: center;\n",
       "  background-color: var(--sklearn-color-background);\n",
       "  padding-right: 1em;\n",
       "  padding-left: 1em;\n",
       "}\n",
       "\n",
       "\n",
       "/* Toggleable style: style used for estimator/Pipeline/ColumnTransformer box that is\n",
       "clickable and can be expanded/collapsed.\n",
       "- Pipeline and ColumnTransformer use this feature and define the default style\n",
       "- Estimators will overwrite some part of the style using the `sk-estimator` class\n",
       "*/\n",
       "\n",
       "/* Pipeline and ColumnTransformer style (default) */\n",
       "\n",
       "#sk-container-id-1 div.sk-toggleable {\n",
       "  /* Default theme specific background. It is overwritten whether we have a\n",
       "  specific estimator or a Pipeline/ColumnTransformer */\n",
       "  background-color: var(--sklearn-color-background);\n",
       "}\n",
       "\n",
       "/* Toggleable label */\n",
       "#sk-container-id-1 label.sk-toggleable__label {\n",
       "  cursor: pointer;\n",
       "  display: block;\n",
       "  width: 100%;\n",
       "  margin-bottom: 0;\n",
       "  padding: 0.5em;\n",
       "  box-sizing: border-box;\n",
       "  text-align: center;\n",
       "}\n",
       "\n",
       "#sk-container-id-1 label.sk-toggleable__label-arrow:before {\n",
       "  /* Arrow on the left of the label */\n",
       "  content: \"▸\";\n",
       "  float: left;\n",
       "  margin-right: 0.25em;\n",
       "  color: var(--sklearn-color-icon);\n",
       "}\n",
       "\n",
       "#sk-container-id-1 label.sk-toggleable__label-arrow:hover:before {\n",
       "  color: var(--sklearn-color-text);\n",
       "}\n",
       "\n",
       "/* Toggleable content - dropdown */\n",
       "\n",
       "#sk-container-id-1 div.sk-toggleable__content {\n",
       "  max-height: 0;\n",
       "  max-width: 0;\n",
       "  overflow: hidden;\n",
       "  text-align: left;\n",
       "  /* unfitted */\n",
       "  background-color: var(--sklearn-color-unfitted-level-0);\n",
       "}\n",
       "\n",
       "#sk-container-id-1 div.sk-toggleable__content.fitted {\n",
       "  /* fitted */\n",
       "  background-color: var(--sklearn-color-fitted-level-0);\n",
       "}\n",
       "\n",
       "#sk-container-id-1 div.sk-toggleable__content pre {\n",
       "  margin: 0.2em;\n",
       "  border-radius: 0.25em;\n",
       "  color: var(--sklearn-color-text);\n",
       "  /* unfitted */\n",
       "  background-color: var(--sklearn-color-unfitted-level-0);\n",
       "}\n",
       "\n",
       "#sk-container-id-1 div.sk-toggleable__content.fitted pre {\n",
       "  /* unfitted */\n",
       "  background-color: var(--sklearn-color-fitted-level-0);\n",
       "}\n",
       "\n",
       "#sk-container-id-1 input.sk-toggleable__control:checked~div.sk-toggleable__content {\n",
       "  /* Expand drop-down */\n",
       "  max-height: 200px;\n",
       "  max-width: 100%;\n",
       "  overflow: auto;\n",
       "}\n",
       "\n",
       "#sk-container-id-1 input.sk-toggleable__control:checked~label.sk-toggleable__label-arrow:before {\n",
       "  content: \"▾\";\n",
       "}\n",
       "\n",
       "/* Pipeline/ColumnTransformer-specific style */\n",
       "\n",
       "#sk-container-id-1 div.sk-label input.sk-toggleable__control:checked~label.sk-toggleable__label {\n",
       "  color: var(--sklearn-color-text);\n",
       "  background-color: var(--sklearn-color-unfitted-level-2);\n",
       "}\n",
       "\n",
       "#sk-container-id-1 div.sk-label.fitted input.sk-toggleable__control:checked~label.sk-toggleable__label {\n",
       "  background-color: var(--sklearn-color-fitted-level-2);\n",
       "}\n",
       "\n",
       "/* Estimator-specific style */\n",
       "\n",
       "/* Colorize estimator box */\n",
       "#sk-container-id-1 div.sk-estimator input.sk-toggleable__control:checked~label.sk-toggleable__label {\n",
       "  /* unfitted */\n",
       "  background-color: var(--sklearn-color-unfitted-level-2);\n",
       "}\n",
       "\n",
       "#sk-container-id-1 div.sk-estimator.fitted input.sk-toggleable__control:checked~label.sk-toggleable__label {\n",
       "  /* fitted */\n",
       "  background-color: var(--sklearn-color-fitted-level-2);\n",
       "}\n",
       "\n",
       "#sk-container-id-1 div.sk-label label.sk-toggleable__label,\n",
       "#sk-container-id-1 div.sk-label label {\n",
       "  /* The background is the default theme color */\n",
       "  color: var(--sklearn-color-text-on-default-background);\n",
       "}\n",
       "\n",
       "/* On hover, darken the color of the background */\n",
       "#sk-container-id-1 div.sk-label:hover label.sk-toggleable__label {\n",
       "  color: var(--sklearn-color-text);\n",
       "  background-color: var(--sklearn-color-unfitted-level-2);\n",
       "}\n",
       "\n",
       "/* Label box, darken color on hover, fitted */\n",
       "#sk-container-id-1 div.sk-label.fitted:hover label.sk-toggleable__label.fitted {\n",
       "  color: var(--sklearn-color-text);\n",
       "  background-color: var(--sklearn-color-fitted-level-2);\n",
       "}\n",
       "\n",
       "/* Estimator label */\n",
       "\n",
       "#sk-container-id-1 div.sk-label label {\n",
       "  font-family: monospace;\n",
       "  font-weight: bold;\n",
       "  display: inline-block;\n",
       "  line-height: 1.2em;\n",
       "}\n",
       "\n",
       "#sk-container-id-1 div.sk-label-container {\n",
       "  text-align: center;\n",
       "}\n",
       "\n",
       "/* Estimator-specific */\n",
       "#sk-container-id-1 div.sk-estimator {\n",
       "  font-family: monospace;\n",
       "  border: 1px dotted var(--sklearn-color-border-box);\n",
       "  border-radius: 0.25em;\n",
       "  box-sizing: border-box;\n",
       "  margin-bottom: 0.5em;\n",
       "  /* unfitted */\n",
       "  background-color: var(--sklearn-color-unfitted-level-0);\n",
       "}\n",
       "\n",
       "#sk-container-id-1 div.sk-estimator.fitted {\n",
       "  /* fitted */\n",
       "  background-color: var(--sklearn-color-fitted-level-0);\n",
       "}\n",
       "\n",
       "/* on hover */\n",
       "#sk-container-id-1 div.sk-estimator:hover {\n",
       "  /* unfitted */\n",
       "  background-color: var(--sklearn-color-unfitted-level-2);\n",
       "}\n",
       "\n",
       "#sk-container-id-1 div.sk-estimator.fitted:hover {\n",
       "  /* fitted */\n",
       "  background-color: var(--sklearn-color-fitted-level-2);\n",
       "}\n",
       "\n",
       "/* Specification for estimator info (e.g. \"i\" and \"?\") */\n",
       "\n",
       "/* Common style for \"i\" and \"?\" */\n",
       "\n",
       ".sk-estimator-doc-link,\n",
       "a:link.sk-estimator-doc-link,\n",
       "a:visited.sk-estimator-doc-link {\n",
       "  float: right;\n",
       "  font-size: smaller;\n",
       "  line-height: 1em;\n",
       "  font-family: monospace;\n",
       "  background-color: var(--sklearn-color-background);\n",
       "  border-radius: 1em;\n",
       "  height: 1em;\n",
       "  width: 1em;\n",
       "  text-decoration: none !important;\n",
       "  margin-left: 1ex;\n",
       "  /* unfitted */\n",
       "  border: var(--sklearn-color-unfitted-level-1) 1pt solid;\n",
       "  color: var(--sklearn-color-unfitted-level-1);\n",
       "}\n",
       "\n",
       ".sk-estimator-doc-link.fitted,\n",
       "a:link.sk-estimator-doc-link.fitted,\n",
       "a:visited.sk-estimator-doc-link.fitted {\n",
       "  /* fitted */\n",
       "  border: var(--sklearn-color-fitted-level-1) 1pt solid;\n",
       "  color: var(--sklearn-color-fitted-level-1);\n",
       "}\n",
       "\n",
       "/* On hover */\n",
       "div.sk-estimator:hover .sk-estimator-doc-link:hover,\n",
       ".sk-estimator-doc-link:hover,\n",
       "div.sk-label-container:hover .sk-estimator-doc-link:hover,\n",
       ".sk-estimator-doc-link:hover {\n",
       "  /* unfitted */\n",
       "  background-color: var(--sklearn-color-unfitted-level-3);\n",
       "  color: var(--sklearn-color-background);\n",
       "  text-decoration: none;\n",
       "}\n",
       "\n",
       "div.sk-estimator.fitted:hover .sk-estimator-doc-link.fitted:hover,\n",
       ".sk-estimator-doc-link.fitted:hover,\n",
       "div.sk-label-container:hover .sk-estimator-doc-link.fitted:hover,\n",
       ".sk-estimator-doc-link.fitted:hover {\n",
       "  /* fitted */\n",
       "  background-color: var(--sklearn-color-fitted-level-3);\n",
       "  color: var(--sklearn-color-background);\n",
       "  text-decoration: none;\n",
       "}\n",
       "\n",
       "/* Span, style for the box shown on hovering the info icon */\n",
       ".sk-estimator-doc-link span {\n",
       "  display: none;\n",
       "  z-index: 9999;\n",
       "  position: relative;\n",
       "  font-weight: normal;\n",
       "  right: .2ex;\n",
       "  padding: .5ex;\n",
       "  margin: .5ex;\n",
       "  width: min-content;\n",
       "  min-width: 20ex;\n",
       "  max-width: 50ex;\n",
       "  color: var(--sklearn-color-text);\n",
       "  box-shadow: 2pt 2pt 4pt #999;\n",
       "  /* unfitted */\n",
       "  background: var(--sklearn-color-unfitted-level-0);\n",
       "  border: .5pt solid var(--sklearn-color-unfitted-level-3);\n",
       "}\n",
       "\n",
       ".sk-estimator-doc-link.fitted span {\n",
       "  /* fitted */\n",
       "  background: var(--sklearn-color-fitted-level-0);\n",
       "  border: var(--sklearn-color-fitted-level-3);\n",
       "}\n",
       "\n",
       ".sk-estimator-doc-link:hover span {\n",
       "  display: block;\n",
       "}\n",
       "\n",
       "/* \"?\"-specific style due to the `<a>` HTML tag */\n",
       "\n",
       "#sk-container-id-1 a.estimator_doc_link {\n",
       "  float: right;\n",
       "  font-size: 1rem;\n",
       "  line-height: 1em;\n",
       "  font-family: monospace;\n",
       "  background-color: var(--sklearn-color-background);\n",
       "  border-radius: 1rem;\n",
       "  height: 1rem;\n",
       "  width: 1rem;\n",
       "  text-decoration: none;\n",
       "  /* unfitted */\n",
       "  color: var(--sklearn-color-unfitted-level-1);\n",
       "  border: var(--sklearn-color-unfitted-level-1) 1pt solid;\n",
       "}\n",
       "\n",
       "#sk-container-id-1 a.estimator_doc_link.fitted {\n",
       "  /* fitted */\n",
       "  border: var(--sklearn-color-fitted-level-1) 1pt solid;\n",
       "  color: var(--sklearn-color-fitted-level-1);\n",
       "}\n",
       "\n",
       "/* On hover */\n",
       "#sk-container-id-1 a.estimator_doc_link:hover {\n",
       "  /* unfitted */\n",
       "  background-color: var(--sklearn-color-unfitted-level-3);\n",
       "  color: var(--sklearn-color-background);\n",
       "  text-decoration: none;\n",
       "}\n",
       "\n",
       "#sk-container-id-1 a.estimator_doc_link.fitted:hover {\n",
       "  /* fitted */\n",
       "  background-color: var(--sklearn-color-fitted-level-3);\n",
       "}\n",
       "</style><div id=\"sk-container-id-1\" class=\"sk-top-container\"><div class=\"sk-text-repr-fallback\"><pre>SamplingMinKLDensity(auxiliary_sampler=&lt;generator object auxiliary_sampler_scipy at 0x178831940&gt;,\n",
       "                     feature_functions=[&lt;function non_neg at 0x1788cf4c0&gt;,\n",
       "                                        &lt;function non_neg at 0x1788cf4c0&gt;,\n",
       "                                        &lt;function non_neg at 0x1788cf4c0&gt;,\n",
       "                                        &lt;function non_neg at 0x1788cf4c0&gt;,\n",
       "                                        &lt;function non_neg at 0x1788cf4c0&gt;,\n",
       "                                        &lt;function non_neg at 0x1788cf4c0&gt;,\n",
       "                                        &lt;function non_neg at 0x1788cf4c0&gt;,\n",
       "                                        &lt;function non_neg at 0x1788cf4c0&gt;,\n",
       "                                        &lt;function non_neg at 0x1788cf4c0&gt;,\n",
       "                                        &lt;function non_neg at 0x1788cf4c0&gt;,\n",
       "                                        &lt;function non_neg at 0x1788cf4c0&gt;,\n",
       "                                        &lt;function non_neg at 0x1788cf4c0&gt;,\n",
       "                                        &lt;function non_neg at 0x1788cf4c0&gt;],\n",
       "                     matrix_format=&#x27;ndarray&#x27;,\n",
       "                     prior_log_pdf=&lt;function forward_pass_centered at 0x1788f6a20&gt;)</pre><b>In a Jupyter environment, please rerun this cell to show the HTML representation or trust the notebook. <br />On GitHub, the HTML representation is unable to render, please try loading this page with nbviewer.org.</b></div><div class=\"sk-container\" hidden><div class=\"sk-item\"><div class=\"sk-estimator fitted sk-toggleable\"><input class=\"sk-toggleable__control sk-hidden--visually\" id=\"sk-estimator-id-1\" type=\"checkbox\" checked><label for=\"sk-estimator-id-1\" class=\"sk-toggleable__label fitted sk-toggleable__label-arrow fitted\">&nbsp;SamplingMinKLDensity<span class=\"sk-estimator-doc-link fitted\">i<span>Fitted</span></span></label><div class=\"sk-toggleable__content fitted\"><pre>SamplingMinKLDensity(auxiliary_sampler=&lt;generator object auxiliary_sampler_scipy at 0x178831940&gt;,\n",
       "                     feature_functions=[&lt;function non_neg at 0x1788cf4c0&gt;,\n",
       "                                        &lt;function non_neg at 0x1788cf4c0&gt;,\n",
       "                                        &lt;function non_neg at 0x1788cf4c0&gt;,\n",
       "                                        &lt;function non_neg at 0x1788cf4c0&gt;,\n",
       "                                        &lt;function non_neg at 0x1788cf4c0&gt;,\n",
       "                                        &lt;function non_neg at 0x1788cf4c0&gt;,\n",
       "                                        &lt;function non_neg at 0x1788cf4c0&gt;,\n",
       "                                        &lt;function non_neg at 0x1788cf4c0&gt;,\n",
       "                                        &lt;function non_neg at 0x1788cf4c0&gt;,\n",
       "                                        &lt;function non_neg at 0x1788cf4c0&gt;,\n",
       "                                        &lt;function non_neg at 0x1788cf4c0&gt;,\n",
       "                                        &lt;function non_neg at 0x1788cf4c0&gt;,\n",
       "                                        &lt;function non_neg at 0x1788cf4c0&gt;],\n",
       "                     matrix_format=&#x27;ndarray&#x27;,\n",
       "                     prior_log_pdf=&lt;function forward_pass_centered at 0x1788f6a20&gt;)</pre></div> </div></div></div></div>"
      ],
      "text/plain": [
       "SamplingMinKLDensity(auxiliary_sampler=<generator object auxiliary_sampler_scipy at 0x178831940>,\n",
       "                     feature_functions=[<function non_neg at 0x1788cf4c0>,\n",
       "                                        <function non_neg at 0x1788cf4c0>,\n",
       "                                        <function non_neg at 0x1788cf4c0>,\n",
       "                                        <function non_neg at 0x1788cf4c0>,\n",
       "                                        <function non_neg at 0x1788cf4c0>,\n",
       "                                        <function non_neg at 0x1788cf4c0>,\n",
       "                                        <function non_neg at 0x1788cf4c0>,\n",
       "                                        <function non_neg at 0x1788cf4c0>,\n",
       "                                        <function non_neg at 0x1788cf4c0>,\n",
       "                                        <function non_neg at 0x1788cf4c0>,\n",
       "                                        <function non_neg at 0x1788cf4c0>,\n",
       "                                        <function non_neg at 0x1788cf4c0>,\n",
       "                                        <function non_neg at 0x1788cf4c0>],\n",
       "                     matrix_format='ndarray',\n",
       "                     prior_log_pdf=<function forward_pass_centered at 0x1788f6a20>)"
      ]
     },
     "execution_count": 56,
     "metadata": {},
     "output_type": "execute_result"
    }
   ],
   "source": [
    "model0.fit(k)"
   ]
  },
  {
   "cell_type": "code",
   "execution_count": 57,
   "id": "4ec0717e-5cec-455f-800e-76f2a10cb262",
   "metadata": {},
   "outputs": [
    {
     "data": {
      "text/plain": [
       "array([1., 1., 1., 1., 1., 1., 1., 1., 1., 1., 1., 1., 1.])"
      ]
     },
     "execution_count": 57,
     "metadata": {},
     "output_type": "execute_result"
    }
   ],
   "source": [
    "model0.feature_expectations()"
   ]
  },
  {
   "cell_type": "code",
   "execution_count": 58,
   "id": "dcde6fac-6bf3-4acd-946f-aa4106c42c7c",
   "metadata": {},
   "outputs": [
    {
     "data": {
      "text/plain": [
       "array([18.00820299, 18.83243279, 18.81425216, 18.92228727, 19.13200853,\n",
       "       18.92074615, 18.75665235, 19.06740194, 18.97790287, 18.92145215,\n",
       "       19.15076487, 19.02495085, 19.24442547])"
      ]
     },
     "execution_count": 58,
     "metadata": {},
     "output_type": "execute_result"
    }
   ],
   "source": [
    "model0.params"
   ]
  },
  {
   "cell_type": "code",
   "execution_count": 59,
   "id": "1a55f62e-da74-46c9-95d1-aa5277aab861",
   "metadata": {},
   "outputs": [
    {
     "data": {
      "text/plain": [
       "array([-49.42234311, -49.42234047, -49.42234047, -49.42234047,\n",
       "       -49.48663686])"
      ]
     },
     "execution_count": 59,
     "metadata": {},
     "output_type": "execute_result"
    }
   ],
   "source": [
    "model0.predict_log_proba(X_wine)[:5]"
   ]
  },
  {
   "cell_type": "markdown",
   "id": "7b45589f-5c3f-496f-9228-43ccbc13e76e",
   "metadata": {},
   "source": [
    "#### Very low values! Let's proceed anyway. These will be compared against other very low values (for the other classes)."
   ]
  },
  {
   "cell_type": "code",
   "execution_count": 60,
   "id": "1dfe78f8-5ed1-41ce-a76d-b0a25ec0f8d8",
   "metadata": {},
   "outputs": [
    {
     "data": {
      "text/html": [
       "<style>#sk-container-id-2 {\n",
       "  /* Definition of color scheme common for light and dark mode */\n",
       "  --sklearn-color-text: black;\n",
       "  --sklearn-color-line: gray;\n",
       "  /* Definition of color scheme for unfitted estimators */\n",
       "  --sklearn-color-unfitted-level-0: #fff5e6;\n",
       "  --sklearn-color-unfitted-level-1: #f6e4d2;\n",
       "  --sklearn-color-unfitted-level-2: #ffe0b3;\n",
       "  --sklearn-color-unfitted-level-3: chocolate;\n",
       "  /* Definition of color scheme for fitted estimators */\n",
       "  --sklearn-color-fitted-level-0: #f0f8ff;\n",
       "  --sklearn-color-fitted-level-1: #d4ebff;\n",
       "  --sklearn-color-fitted-level-2: #b3dbfd;\n",
       "  --sklearn-color-fitted-level-3: cornflowerblue;\n",
       "\n",
       "  /* Specific color for light theme */\n",
       "  --sklearn-color-text-on-default-background: var(--sg-text-color, var(--theme-code-foreground, var(--jp-content-font-color1, black)));\n",
       "  --sklearn-color-background: var(--sg-background-color, var(--theme-background, var(--jp-layout-color0, white)));\n",
       "  --sklearn-color-border-box: var(--sg-text-color, var(--theme-code-foreground, var(--jp-content-font-color1, black)));\n",
       "  --sklearn-color-icon: #696969;\n",
       "\n",
       "  @media (prefers-color-scheme: dark) {\n",
       "    /* Redefinition of color scheme for dark theme */\n",
       "    --sklearn-color-text-on-default-background: var(--sg-text-color, var(--theme-code-foreground, var(--jp-content-font-color1, white)));\n",
       "    --sklearn-color-background: var(--sg-background-color, var(--theme-background, var(--jp-layout-color0, #111)));\n",
       "    --sklearn-color-border-box: var(--sg-text-color, var(--theme-code-foreground, var(--jp-content-font-color1, white)));\n",
       "    --sklearn-color-icon: #878787;\n",
       "  }\n",
       "}\n",
       "\n",
       "#sk-container-id-2 {\n",
       "  color: var(--sklearn-color-text);\n",
       "}\n",
       "\n",
       "#sk-container-id-2 pre {\n",
       "  padding: 0;\n",
       "}\n",
       "\n",
       "#sk-container-id-2 input.sk-hidden--visually {\n",
       "  border: 0;\n",
       "  clip: rect(1px 1px 1px 1px);\n",
       "  clip: rect(1px, 1px, 1px, 1px);\n",
       "  height: 1px;\n",
       "  margin: -1px;\n",
       "  overflow: hidden;\n",
       "  padding: 0;\n",
       "  position: absolute;\n",
       "  width: 1px;\n",
       "}\n",
       "\n",
       "#sk-container-id-2 div.sk-dashed-wrapped {\n",
       "  border: 1px dashed var(--sklearn-color-line);\n",
       "  margin: 0 0.4em 0.5em 0.4em;\n",
       "  box-sizing: border-box;\n",
       "  padding-bottom: 0.4em;\n",
       "  background-color: var(--sklearn-color-background);\n",
       "}\n",
       "\n",
       "#sk-container-id-2 div.sk-container {\n",
       "  /* jupyter's `normalize.less` sets `[hidden] { display: none; }`\n",
       "     but bootstrap.min.css set `[hidden] { display: none !important; }`\n",
       "     so we also need the `!important` here to be able to override the\n",
       "     default hidden behavior on the sphinx rendered scikit-learn.org.\n",
       "     See: https://github.com/scikit-learn/scikit-learn/issues/21755 */\n",
       "  display: inline-block !important;\n",
       "  position: relative;\n",
       "}\n",
       "\n",
       "#sk-container-id-2 div.sk-text-repr-fallback {\n",
       "  display: none;\n",
       "}\n",
       "\n",
       "div.sk-parallel-item,\n",
       "div.sk-serial,\n",
       "div.sk-item {\n",
       "  /* draw centered vertical line to link estimators */\n",
       "  background-image: linear-gradient(var(--sklearn-color-text-on-default-background), var(--sklearn-color-text-on-default-background));\n",
       "  background-size: 2px 100%;\n",
       "  background-repeat: no-repeat;\n",
       "  background-position: center center;\n",
       "}\n",
       "\n",
       "/* Parallel-specific style estimator block */\n",
       "\n",
       "#sk-container-id-2 div.sk-parallel-item::after {\n",
       "  content: \"\";\n",
       "  width: 100%;\n",
       "  border-bottom: 2px solid var(--sklearn-color-text-on-default-background);\n",
       "  flex-grow: 1;\n",
       "}\n",
       "\n",
       "#sk-container-id-2 div.sk-parallel {\n",
       "  display: flex;\n",
       "  align-items: stretch;\n",
       "  justify-content: center;\n",
       "  background-color: var(--sklearn-color-background);\n",
       "  position: relative;\n",
       "}\n",
       "\n",
       "#sk-container-id-2 div.sk-parallel-item {\n",
       "  display: flex;\n",
       "  flex-direction: column;\n",
       "}\n",
       "\n",
       "#sk-container-id-2 div.sk-parallel-item:first-child::after {\n",
       "  align-self: flex-end;\n",
       "  width: 50%;\n",
       "}\n",
       "\n",
       "#sk-container-id-2 div.sk-parallel-item:last-child::after {\n",
       "  align-self: flex-start;\n",
       "  width: 50%;\n",
       "}\n",
       "\n",
       "#sk-container-id-2 div.sk-parallel-item:only-child::after {\n",
       "  width: 0;\n",
       "}\n",
       "\n",
       "/* Serial-specific style estimator block */\n",
       "\n",
       "#sk-container-id-2 div.sk-serial {\n",
       "  display: flex;\n",
       "  flex-direction: column;\n",
       "  align-items: center;\n",
       "  background-color: var(--sklearn-color-background);\n",
       "  padding-right: 1em;\n",
       "  padding-left: 1em;\n",
       "}\n",
       "\n",
       "\n",
       "/* Toggleable style: style used for estimator/Pipeline/ColumnTransformer box that is\n",
       "clickable and can be expanded/collapsed.\n",
       "- Pipeline and ColumnTransformer use this feature and define the default style\n",
       "- Estimators will overwrite some part of the style using the `sk-estimator` class\n",
       "*/\n",
       "\n",
       "/* Pipeline and ColumnTransformer style (default) */\n",
       "\n",
       "#sk-container-id-2 div.sk-toggleable {\n",
       "  /* Default theme specific background. It is overwritten whether we have a\n",
       "  specific estimator or a Pipeline/ColumnTransformer */\n",
       "  background-color: var(--sklearn-color-background);\n",
       "}\n",
       "\n",
       "/* Toggleable label */\n",
       "#sk-container-id-2 label.sk-toggleable__label {\n",
       "  cursor: pointer;\n",
       "  display: block;\n",
       "  width: 100%;\n",
       "  margin-bottom: 0;\n",
       "  padding: 0.5em;\n",
       "  box-sizing: border-box;\n",
       "  text-align: center;\n",
       "}\n",
       "\n",
       "#sk-container-id-2 label.sk-toggleable__label-arrow:before {\n",
       "  /* Arrow on the left of the label */\n",
       "  content: \"▸\";\n",
       "  float: left;\n",
       "  margin-right: 0.25em;\n",
       "  color: var(--sklearn-color-icon);\n",
       "}\n",
       "\n",
       "#sk-container-id-2 label.sk-toggleable__label-arrow:hover:before {\n",
       "  color: var(--sklearn-color-text);\n",
       "}\n",
       "\n",
       "/* Toggleable content - dropdown */\n",
       "\n",
       "#sk-container-id-2 div.sk-toggleable__content {\n",
       "  max-height: 0;\n",
       "  max-width: 0;\n",
       "  overflow: hidden;\n",
       "  text-align: left;\n",
       "  /* unfitted */\n",
       "  background-color: var(--sklearn-color-unfitted-level-0);\n",
       "}\n",
       "\n",
       "#sk-container-id-2 div.sk-toggleable__content.fitted {\n",
       "  /* fitted */\n",
       "  background-color: var(--sklearn-color-fitted-level-0);\n",
       "}\n",
       "\n",
       "#sk-container-id-2 div.sk-toggleable__content pre {\n",
       "  margin: 0.2em;\n",
       "  border-radius: 0.25em;\n",
       "  color: var(--sklearn-color-text);\n",
       "  /* unfitted */\n",
       "  background-color: var(--sklearn-color-unfitted-level-0);\n",
       "}\n",
       "\n",
       "#sk-container-id-2 div.sk-toggleable__content.fitted pre {\n",
       "  /* unfitted */\n",
       "  background-color: var(--sklearn-color-fitted-level-0);\n",
       "}\n",
       "\n",
       "#sk-container-id-2 input.sk-toggleable__control:checked~div.sk-toggleable__content {\n",
       "  /* Expand drop-down */\n",
       "  max-height: 200px;\n",
       "  max-width: 100%;\n",
       "  overflow: auto;\n",
       "}\n",
       "\n",
       "#sk-container-id-2 input.sk-toggleable__control:checked~label.sk-toggleable__label-arrow:before {\n",
       "  content: \"▾\";\n",
       "}\n",
       "\n",
       "/* Pipeline/ColumnTransformer-specific style */\n",
       "\n",
       "#sk-container-id-2 div.sk-label input.sk-toggleable__control:checked~label.sk-toggleable__label {\n",
       "  color: var(--sklearn-color-text);\n",
       "  background-color: var(--sklearn-color-unfitted-level-2);\n",
       "}\n",
       "\n",
       "#sk-container-id-2 div.sk-label.fitted input.sk-toggleable__control:checked~label.sk-toggleable__label {\n",
       "  background-color: var(--sklearn-color-fitted-level-2);\n",
       "}\n",
       "\n",
       "/* Estimator-specific style */\n",
       "\n",
       "/* Colorize estimator box */\n",
       "#sk-container-id-2 div.sk-estimator input.sk-toggleable__control:checked~label.sk-toggleable__label {\n",
       "  /* unfitted */\n",
       "  background-color: var(--sklearn-color-unfitted-level-2);\n",
       "}\n",
       "\n",
       "#sk-container-id-2 div.sk-estimator.fitted input.sk-toggleable__control:checked~label.sk-toggleable__label {\n",
       "  /* fitted */\n",
       "  background-color: var(--sklearn-color-fitted-level-2);\n",
       "}\n",
       "\n",
       "#sk-container-id-2 div.sk-label label.sk-toggleable__label,\n",
       "#sk-container-id-2 div.sk-label label {\n",
       "  /* The background is the default theme color */\n",
       "  color: var(--sklearn-color-text-on-default-background);\n",
       "}\n",
       "\n",
       "/* On hover, darken the color of the background */\n",
       "#sk-container-id-2 div.sk-label:hover label.sk-toggleable__label {\n",
       "  color: var(--sklearn-color-text);\n",
       "  background-color: var(--sklearn-color-unfitted-level-2);\n",
       "}\n",
       "\n",
       "/* Label box, darken color on hover, fitted */\n",
       "#sk-container-id-2 div.sk-label.fitted:hover label.sk-toggleable__label.fitted {\n",
       "  color: var(--sklearn-color-text);\n",
       "  background-color: var(--sklearn-color-fitted-level-2);\n",
       "}\n",
       "\n",
       "/* Estimator label */\n",
       "\n",
       "#sk-container-id-2 div.sk-label label {\n",
       "  font-family: monospace;\n",
       "  font-weight: bold;\n",
       "  display: inline-block;\n",
       "  line-height: 1.2em;\n",
       "}\n",
       "\n",
       "#sk-container-id-2 div.sk-label-container {\n",
       "  text-align: center;\n",
       "}\n",
       "\n",
       "/* Estimator-specific */\n",
       "#sk-container-id-2 div.sk-estimator {\n",
       "  font-family: monospace;\n",
       "  border: 1px dotted var(--sklearn-color-border-box);\n",
       "  border-radius: 0.25em;\n",
       "  box-sizing: border-box;\n",
       "  margin-bottom: 0.5em;\n",
       "  /* unfitted */\n",
       "  background-color: var(--sklearn-color-unfitted-level-0);\n",
       "}\n",
       "\n",
       "#sk-container-id-2 div.sk-estimator.fitted {\n",
       "  /* fitted */\n",
       "  background-color: var(--sklearn-color-fitted-level-0);\n",
       "}\n",
       "\n",
       "/* on hover */\n",
       "#sk-container-id-2 div.sk-estimator:hover {\n",
       "  /* unfitted */\n",
       "  background-color: var(--sklearn-color-unfitted-level-2);\n",
       "}\n",
       "\n",
       "#sk-container-id-2 div.sk-estimator.fitted:hover {\n",
       "  /* fitted */\n",
       "  background-color: var(--sklearn-color-fitted-level-2);\n",
       "}\n",
       "\n",
       "/* Specification for estimator info (e.g. \"i\" and \"?\") */\n",
       "\n",
       "/* Common style for \"i\" and \"?\" */\n",
       "\n",
       ".sk-estimator-doc-link,\n",
       "a:link.sk-estimator-doc-link,\n",
       "a:visited.sk-estimator-doc-link {\n",
       "  float: right;\n",
       "  font-size: smaller;\n",
       "  line-height: 1em;\n",
       "  font-family: monospace;\n",
       "  background-color: var(--sklearn-color-background);\n",
       "  border-radius: 1em;\n",
       "  height: 1em;\n",
       "  width: 1em;\n",
       "  text-decoration: none !important;\n",
       "  margin-left: 1ex;\n",
       "  /* unfitted */\n",
       "  border: var(--sklearn-color-unfitted-level-1) 1pt solid;\n",
       "  color: var(--sklearn-color-unfitted-level-1);\n",
       "}\n",
       "\n",
       ".sk-estimator-doc-link.fitted,\n",
       "a:link.sk-estimator-doc-link.fitted,\n",
       "a:visited.sk-estimator-doc-link.fitted {\n",
       "  /* fitted */\n",
       "  border: var(--sklearn-color-fitted-level-1) 1pt solid;\n",
       "  color: var(--sklearn-color-fitted-level-1);\n",
       "}\n",
       "\n",
       "/* On hover */\n",
       "div.sk-estimator:hover .sk-estimator-doc-link:hover,\n",
       ".sk-estimator-doc-link:hover,\n",
       "div.sk-label-container:hover .sk-estimator-doc-link:hover,\n",
       ".sk-estimator-doc-link:hover {\n",
       "  /* unfitted */\n",
       "  background-color: var(--sklearn-color-unfitted-level-3);\n",
       "  color: var(--sklearn-color-background);\n",
       "  text-decoration: none;\n",
       "}\n",
       "\n",
       "div.sk-estimator.fitted:hover .sk-estimator-doc-link.fitted:hover,\n",
       ".sk-estimator-doc-link.fitted:hover,\n",
       "div.sk-label-container:hover .sk-estimator-doc-link.fitted:hover,\n",
       ".sk-estimator-doc-link.fitted:hover {\n",
       "  /* fitted */\n",
       "  background-color: var(--sklearn-color-fitted-level-3);\n",
       "  color: var(--sklearn-color-background);\n",
       "  text-decoration: none;\n",
       "}\n",
       "\n",
       "/* Span, style for the box shown on hovering the info icon */\n",
       ".sk-estimator-doc-link span {\n",
       "  display: none;\n",
       "  z-index: 9999;\n",
       "  position: relative;\n",
       "  font-weight: normal;\n",
       "  right: .2ex;\n",
       "  padding: .5ex;\n",
       "  margin: .5ex;\n",
       "  width: min-content;\n",
       "  min-width: 20ex;\n",
       "  max-width: 50ex;\n",
       "  color: var(--sklearn-color-text);\n",
       "  box-shadow: 2pt 2pt 4pt #999;\n",
       "  /* unfitted */\n",
       "  background: var(--sklearn-color-unfitted-level-0);\n",
       "  border: .5pt solid var(--sklearn-color-unfitted-level-3);\n",
       "}\n",
       "\n",
       ".sk-estimator-doc-link.fitted span {\n",
       "  /* fitted */\n",
       "  background: var(--sklearn-color-fitted-level-0);\n",
       "  border: var(--sklearn-color-fitted-level-3);\n",
       "}\n",
       "\n",
       ".sk-estimator-doc-link:hover span {\n",
       "  display: block;\n",
       "}\n",
       "\n",
       "/* \"?\"-specific style due to the `<a>` HTML tag */\n",
       "\n",
       "#sk-container-id-2 a.estimator_doc_link {\n",
       "  float: right;\n",
       "  font-size: 1rem;\n",
       "  line-height: 1em;\n",
       "  font-family: monospace;\n",
       "  background-color: var(--sklearn-color-background);\n",
       "  border-radius: 1rem;\n",
       "  height: 1rem;\n",
       "  width: 1rem;\n",
       "  text-decoration: none;\n",
       "  /* unfitted */\n",
       "  color: var(--sklearn-color-unfitted-level-1);\n",
       "  border: var(--sklearn-color-unfitted-level-1) 1pt solid;\n",
       "}\n",
       "\n",
       "#sk-container-id-2 a.estimator_doc_link.fitted {\n",
       "  /* fitted */\n",
       "  border: var(--sklearn-color-fitted-level-1) 1pt solid;\n",
       "  color: var(--sklearn-color-fitted-level-1);\n",
       "}\n",
       "\n",
       "/* On hover */\n",
       "#sk-container-id-2 a.estimator_doc_link:hover {\n",
       "  /* unfitted */\n",
       "  background-color: var(--sklearn-color-unfitted-level-3);\n",
       "  color: var(--sklearn-color-background);\n",
       "  text-decoration: none;\n",
       "}\n",
       "\n",
       "#sk-container-id-2 a.estimator_doc_link.fitted:hover {\n",
       "  /* fitted */\n",
       "  background-color: var(--sklearn-color-fitted-level-3);\n",
       "}\n",
       "</style><div id=\"sk-container-id-2\" class=\"sk-top-container\"><div class=\"sk-text-repr-fallback\"><pre>SamplingMinKLDensity(auxiliary_sampler=&lt;generator object auxiliary_sampler_scipy at 0x178831940&gt;,\n",
       "                     feature_functions=[&lt;function non_neg at 0x1788cf4c0&gt;,\n",
       "                                        &lt;function non_neg at 0x1788cf4c0&gt;,\n",
       "                                        &lt;function non_neg at 0x1788cf4c0&gt;,\n",
       "                                        &lt;function non_neg at 0x1788cf4c0&gt;,\n",
       "                                        &lt;function non_neg at 0x1788cf4c0&gt;,\n",
       "                                        &lt;function non_neg at 0x1788cf4c0&gt;,\n",
       "                                        &lt;function non_neg at 0x1788cf4c0&gt;,\n",
       "                                        &lt;function non_neg at 0x1788cf4c0&gt;,\n",
       "                                        &lt;function non_neg at 0x1788cf4c0&gt;,\n",
       "                                        &lt;function non_neg at 0x1788cf4c0&gt;,\n",
       "                                        &lt;function non_neg at 0x1788cf4c0&gt;,\n",
       "                                        &lt;function non_neg at 0x1788cf4c0&gt;,\n",
       "                                        &lt;function non_neg at 0x1788cf4c0&gt;],\n",
       "                     matrix_format=&#x27;ndarray&#x27;,\n",
       "                     prior_log_pdf=&lt;function forward_pass_centered at 0x1788f6a20&gt;)</pre><b>In a Jupyter environment, please rerun this cell to show the HTML representation or trust the notebook. <br />On GitHub, the HTML representation is unable to render, please try loading this page with nbviewer.org.</b></div><div class=\"sk-container\" hidden><div class=\"sk-item\"><div class=\"sk-estimator fitted sk-toggleable\"><input class=\"sk-toggleable__control sk-hidden--visually\" id=\"sk-estimator-id-2\" type=\"checkbox\" checked><label for=\"sk-estimator-id-2\" class=\"sk-toggleable__label fitted sk-toggleable__label-arrow fitted\">&nbsp;SamplingMinKLDensity<span class=\"sk-estimator-doc-link fitted\">i<span>Fitted</span></span></label><div class=\"sk-toggleable__content fitted\"><pre>SamplingMinKLDensity(auxiliary_sampler=&lt;generator object auxiliary_sampler_scipy at 0x178831940&gt;,\n",
       "                     feature_functions=[&lt;function non_neg at 0x1788cf4c0&gt;,\n",
       "                                        &lt;function non_neg at 0x1788cf4c0&gt;,\n",
       "                                        &lt;function non_neg at 0x1788cf4c0&gt;,\n",
       "                                        &lt;function non_neg at 0x1788cf4c0&gt;,\n",
       "                                        &lt;function non_neg at 0x1788cf4c0&gt;,\n",
       "                                        &lt;function non_neg at 0x1788cf4c0&gt;,\n",
       "                                        &lt;function non_neg at 0x1788cf4c0&gt;,\n",
       "                                        &lt;function non_neg at 0x1788cf4c0&gt;,\n",
       "                                        &lt;function non_neg at 0x1788cf4c0&gt;,\n",
       "                                        &lt;function non_neg at 0x1788cf4c0&gt;,\n",
       "                                        &lt;function non_neg at 0x1788cf4c0&gt;,\n",
       "                                        &lt;function non_neg at 0x1788cf4c0&gt;,\n",
       "                                        &lt;function non_neg at 0x1788cf4c0&gt;],\n",
       "                     matrix_format=&#x27;ndarray&#x27;,\n",
       "                     prior_log_pdf=&lt;function forward_pass_centered at 0x1788f6a20&gt;)</pre></div> </div></div></div></div>"
      ],
      "text/plain": [
       "SamplingMinKLDensity(auxiliary_sampler=<generator object auxiliary_sampler_scipy at 0x178831940>,\n",
       "                     feature_functions=[<function non_neg at 0x1788cf4c0>,\n",
       "                                        <function non_neg at 0x1788cf4c0>,\n",
       "                                        <function non_neg at 0x1788cf4c0>,\n",
       "                                        <function non_neg at 0x1788cf4c0>,\n",
       "                                        <function non_neg at 0x1788cf4c0>,\n",
       "                                        <function non_neg at 0x1788cf4c0>,\n",
       "                                        <function non_neg at 0x1788cf4c0>,\n",
       "                                        <function non_neg at 0x1788cf4c0>,\n",
       "                                        <function non_neg at 0x1788cf4c0>,\n",
       "                                        <function non_neg at 0x1788cf4c0>,\n",
       "                                        <function non_neg at 0x1788cf4c0>,\n",
       "                                        <function non_neg at 0x1788cf4c0>,\n",
       "                                        <function non_neg at 0x1788cf4c0>],\n",
       "                     matrix_format='ndarray',\n",
       "                     prior_log_pdf=<function forward_pass_centered at 0x1788f6a20>)"
      ]
     },
     "execution_count": 60,
     "metadata": {},
     "output_type": "execute_result"
    }
   ],
   "source": [
    "target_class = 1\n",
    "\n",
    "model1 = maxentropy.SamplingMinKLDensity(\n",
    "    feature_functions,\n",
    "    sampler,\n",
    "    prior_log_pdf = forward_pass_centered(net, target_class),\n",
    "    matrix_format='ndarray',\n",
    "    vectorized=True\n",
    ")\n",
    "X_wine_subset = X_wine[y_wine == target_class]\n",
    "k1 = model0.features(X_wine_subset).mean(axis=0)\n",
    "model1.fit(k1)\n",
    "\n",
    "target_class = 2\n",
    "\n",
    "model2 = maxentropy.SamplingMinKLDensity(\n",
    "    feature_functions,\n",
    "    sampler,\n",
    "    prior_log_pdf = forward_pass_centered(net, target_class),\n",
    "    matrix_format='ndarray',\n",
    "    vectorized=True\n",
    ")\n",
    "X_wine_subset = X_wine[y_wine == target_class]\n",
    "k2 = model0.features(X_wine_subset).mean(axis=0)\n",
    "model2.fit(k2)"
   ]
  },
  {
   "cell_type": "code",
   "execution_count": 61,
   "id": "3888e4b4-e573-406a-815c-ef72c25a9349",
   "metadata": {},
   "outputs": [
    {
     "data": {
      "text/plain": [
       "(178, 3)"
      ]
     },
     "execution_count": 61,
     "metadata": {},
     "output_type": "execute_result"
    }
   ],
   "source": [
    "log_scores = np.array([\n",
    "    model0.predict_log_proba(X_wine),\n",
    "    model1.predict_log_proba(X_wine),\n",
    "    model2.predict_log_proba(X_wine)\n",
    "]).T\n",
    "log_scores.shape"
   ]
  },
  {
   "cell_type": "code",
   "execution_count": 62,
   "id": "40b878e8-5182-4b7d-94a9-80533ee40f64",
   "metadata": {},
   "outputs": [],
   "source": [
    "from scipy.special import softmax"
   ]
  },
  {
   "cell_type": "code",
   "execution_count": 63,
   "id": "84d133c8-3ae7-4d61-a3ca-af158313ab9f",
   "metadata": {},
   "outputs": [],
   "source": [
    "log_proba = softmax(log_scores, axis=1)"
   ]
  },
  {
   "cell_type": "code",
   "execution_count": 64,
   "id": "3733cbb7-96c3-4e85-94f1-6748a6823987",
   "metadata": {},
   "outputs": [
    {
     "data": {
      "text/plain": [
       "array([[0.36623087, 0.29668391, 0.33708522],\n",
       "       [0.36623179, 0.29668335, 0.33708486],\n",
       "       [0.36623179, 0.29668335, 0.33708486],\n",
       "       [0.36623179, 0.29668335, 0.33708486],\n",
       "       [0.34445195, 0.3155878 , 0.33996025]])"
      ]
     },
     "execution_count": 64,
     "metadata": {},
     "output_type": "execute_result"
    }
   ],
   "source": [
    "log_proba[:5]"
   ]
  },
  {
   "cell_type": "code",
   "execution_count": 65,
   "id": "92f325b6-91d7-495b-abfa-d21bac9ccff8",
   "metadata": {},
   "outputs": [
    {
     "data": {
      "text/plain": [
       "3"
      ]
     },
     "execution_count": 65,
     "metadata": {},
     "output_type": "execute_result"
    }
   ],
   "source": [
    "net.n_outputs_"
   ]
  },
  {
   "cell_type": "code",
   "execution_count": 66,
   "id": "a830cfdb-d8df-431e-b90e-2b1bc1ebdc1b",
   "metadata": {},
   "outputs": [
    {
     "data": {
      "text/plain": [
       "array([0, 0, 0, 0, 0, 0, 0, 0, 0, 0, 0, 0, 0, 0, 0, 0, 0, 0, 0, 0, 0, 0,\n",
       "       0, 0, 0, 1, 0, 0, 0, 0, 0, 0, 0, 0, 0, 0, 0, 0, 0, 0, 0, 0, 0, 0,\n",
       "       0, 0, 0, 0, 0, 0, 0, 0, 0, 0, 0, 0, 0, 0, 0, 1, 2, 2, 1, 1, 1, 1,\n",
       "       1, 1, 2, 1, 2, 1, 1, 1, 0, 1, 1, 1, 2, 1, 1, 0, 1, 2, 1, 1, 1, 1,\n",
       "       1, 1, 1, 1, 1, 1, 1, 0, 1, 1, 2, 1, 0, 1, 1, 1, 1, 1, 1, 1, 1, 1,\n",
       "       1, 1, 1, 1, 1, 1, 1, 1, 1, 1, 1, 1, 1, 1, 1, 1, 1, 1, 1, 1, 2, 2,\n",
       "       2, 2, 2, 2, 2, 2, 2, 2, 2, 2, 2, 2, 2, 2, 2, 2, 2, 2, 2, 2, 2, 2,\n",
       "       2, 2, 2, 2, 2, 2, 2, 2, 2, 2, 2, 2, 2, 2, 2, 2, 2, 2, 2, 2, 2, 2,\n",
       "       2, 2])"
      ]
     },
     "execution_count": 66,
     "metadata": {},
     "output_type": "execute_result"
    }
   ],
   "source": [
    "pred = net._label_binarizer.inverse_transform(log_proba)\n",
    "pred"
   ]
  },
  {
   "cell_type": "code",
   "execution_count": 67,
   "id": "ea579f40-5453-4a86-b9f5-6bc42968f6c3",
   "metadata": {},
   "outputs": [],
   "source": [
    "from sklearn.metrics import accuracy_score"
   ]
  },
  {
   "cell_type": "code",
   "execution_count": 68,
   "id": "34d82f1b-fd29-42f8-8c53-9e90b81f40a3",
   "metadata": {},
   "outputs": [
    {
     "data": {
      "text/plain": [
       "0.9325842696629213"
      ]
     },
     "execution_count": 68,
     "metadata": {},
     "output_type": "execute_result"
    }
   ],
   "source": [
    "accuracy_score(y_wine, pred)"
   ]
  },
  {
   "cell_type": "markdown",
   "id": "2d5b8cbd-5fe8-43b2-8c56-5404bbe710ab",
   "metadata": {},
   "source": [
    "### Can we do it just using the neural network's `predict_proba` outputs?"
   ]
  },
  {
   "cell_type": "code",
   "execution_count": 69,
   "id": "6d23ffb9-9354-4e12-a523-a8cda719fc54",
   "metadata": {},
   "outputs": [
    {
     "data": {
      "text/plain": [
       "array([1, 2, 3, 4])"
      ]
     },
     "execution_count": 69,
     "metadata": {},
     "output_type": "execute_result"
    }
   ],
   "source": [
    "np.sort([4, 1, 2, 3])"
   ]
  },
  {
   "cell_type": "code",
   "execution_count": 70,
   "id": "62ec9838-a292-4aea-9b48-16de5477b3ee",
   "metadata": {},
   "outputs": [],
   "source": [
    "def thing1(xs):\n",
    "    return forward_pass_centered(net, 0)(xs)"
   ]
  },
  {
   "cell_type": "code",
   "execution_count": 71,
   "id": "c58d6c0d-3622-44c5-98ea-2e8087036939",
   "metadata": {},
   "outputs": [
    {
     "data": {
      "text/plain": [
       "array([0.57790799, 0.57791063, 0.57791063, 0.57791063, 0.51361424])"
      ]
     },
     "execution_count": 71,
     "metadata": {},
     "output_type": "execute_result"
    }
   ],
   "source": [
    "thing1(X_wine)[:5]"
   ]
  },
  {
   "cell_type": "code",
   "execution_count": 72,
   "id": "df0e8c57-e8ad-42b9-815d-bc7435392e9e",
   "metadata": {},
   "outputs": [],
   "source": [
    "def thing2(xs):\n",
    "    return net.predict_proba(xs)[:, 0] - outputs[:, 0].mean()"
   ]
  },
  {
   "cell_type": "code",
   "execution_count": 73,
   "id": "51e640bb-9de7-4767-bf84-b8a0b17854ea",
   "metadata": {},
   "outputs": [
    {
     "data": {
      "text/plain": [
       "array([0.57790799, 0.57791063, 0.57791063, 0.57791063, 0.51361424])"
      ]
     },
     "execution_count": 73,
     "metadata": {},
     "output_type": "execute_result"
    }
   ],
   "source": [
    "thing2(X_wine)[:5]"
   ]
  },
  {
   "cell_type": "markdown",
   "id": "4ed68b15-f6c7-46c5-99be-c4eb923efb38",
   "metadata": {},
   "source": [
    "#### By hand ..."
   ]
  },
  {
   "cell_type": "code",
   "execution_count": 74,
   "id": "bacdc1a6-51ef-414e-8e4e-8578f04d798c",
   "metadata": {},
   "outputs": [
    {
     "name": "stdout",
     "output_type": "stream",
     "text": [
      "Target class 0\n",
      "[1. 1. 1. 1. 1. 1. 1. 1. 1. 1. 1. 1. 1.]\n",
      "[16.55447654 17.75266809 17.63298667 17.86341458 17.49765145 17.60300951\n",
      " 17.63360092 17.77760719 17.72621586 17.90124024 17.35349792 17.62800338\n",
      " 17.86200984]\n",
      "Target class 1\n",
      "[1. 1. 1. 1. 1. 1. 1. 1. 1. 1. 1. 1. 1.]\n",
      "[18.15476455 19.44608149 18.86927603 18.82158421 18.77860779 19.32584373\n",
      " 19.27428345 19.16393571 19.41111538 19.57281794 19.10686713 19.29184125\n",
      " 19.10285827]\n",
      "Target class 2\n",
      "[1. 1. 1. 1. 1. 1. 1. 1. 1. 1. 1. 1. 1.]\n",
      "[18.24899412 19.30685926 19.23940691 18.87335722 19.09669044 19.23775746\n",
      " 19.76148338 19.48096982 19.47282365 19.30959839 19.10089376 19.26124504\n",
      " 19.27892856]\n"
     ]
    }
   ],
   "source": [
    "models = {}\n",
    "for target_class in np.sort(np.unique(y_wine)):\n",
    "    print(f'Target class {target_class}')\n",
    "    model = maxentropy.SamplingMinKLDensity(\n",
    "        feature_functions,\n",
    "        sampler,\n",
    "        # Doesn't work:\n",
    "        # prior_log_pdf = lambda xs: net.predict_log_proba(xs)[:, target_class] - outputs[:, target_class].mean(),\n",
    "        prior_log_pdf = forward_pass_centered(net, target_class),\n",
    "        # prior_log_pdf = lambda xs: net.predict_proba(xs)[:, target_class],\n",
    "        matrix_format='ndarray',\n",
    "        vectorized=True\n",
    "    )\n",
    "    X_wine_subset = X_wine[y_wine == target_class]\n",
    "    k = model.features(X_wine_subset).mean(axis=0)\n",
    "    print(k)\n",
    "    model.fit(k)\n",
    "    print(model.params)\n",
    "    models[target_class] = model"
   ]
  },
  {
   "cell_type": "code",
   "execution_count": null,
   "id": "f099182b-6341-4b38-aa9c-b23f46df440c",
   "metadata": {},
   "outputs": [],
   "source": []
  },
  {
   "cell_type": "code",
   "execution_count": 75,
   "id": "81f40c3e-429d-4000-a2da-9c4b095a9e99",
   "metadata": {},
   "outputs": [
    {
     "data": {
      "text/plain": [
       "(178, 3)"
      ]
     },
     "execution_count": 75,
     "metadata": {},
     "output_type": "execute_result"
    }
   ],
   "source": [
    "log_scores = np.array([\n",
    "    model.predict_log_proba(X_wine)\n",
    "    for model in models.values()\n",
    "]).T\n",
    "log_scores.shape"
   ]
  },
  {
   "cell_type": "code",
   "execution_count": 76,
   "id": "f8c9223b-5b33-4a9a-9dd5-13df72a50aa6",
   "metadata": {},
   "outputs": [
    {
     "data": {
      "text/plain": [
       "array([[-49.37621184, -49.40148889, -49.44148178],\n",
       "       [-49.37620921, -49.40149063, -49.44148268],\n",
       "       [-49.3762092 , -49.40149064, -49.44148268],\n",
       "       [-49.3762092 , -49.40149064, -49.44148268],\n",
       "       [-49.4405056 , -49.34270365, -49.43597326]])"
      ]
     },
     "execution_count": 76,
     "metadata": {},
     "output_type": "execute_result"
    }
   ],
   "source": [
    "log_scores[:5]"
   ]
  },
  {
   "cell_type": "code",
   "execution_count": 77,
   "id": "eadc4475-ddee-4078-a74c-def485b1b00d",
   "metadata": {},
   "outputs": [],
   "source": [
    "from scipy.special import logsumexp"
   ]
  },
  {
   "cell_type": "code",
   "execution_count": 78,
   "id": "7a4d5045-df99-4a85-aaac-134851db853f",
   "metadata": {},
   "outputs": [
    {
     "data": {
      "text/plain": [
       "array([[-1.06879009, -1.09406714, -1.13406002],\n",
       "       [-1.06878749, -1.09406892, -1.13406096],\n",
       "       [-1.06878749, -1.09406892, -1.13406096],\n",
       "       [-1.06878749, -1.09406892, -1.13406096],\n",
       "       [-1.13374999, -1.03594805, -1.12921766]])"
      ]
     },
     "execution_count": 78,
     "metadata": {},
     "output_type": "execute_result"
    }
   ],
   "source": [
    "log_proba = (log_scores.T - logsumexp(log_scores, axis=1)).T\n",
    "log_proba[:5]"
   ]
  },
  {
   "cell_type": "code",
   "execution_count": 79,
   "id": "ebd000b0-fcdd-4aac-8a7a-495fc33293ed",
   "metadata": {},
   "outputs": [
    {
     "data": {
      "text/plain": [
       "array([[0.34342378, 0.33485183, 0.32172439],\n",
       "       [0.34342467, 0.33485124, 0.32172409],\n",
       "       [0.34342467, 0.33485124, 0.32172409],\n",
       "       [0.34342467, 0.33485124, 0.32172409],\n",
       "       [0.32182415, 0.35488977, 0.32328608]])"
      ]
     },
     "execution_count": 79,
     "metadata": {},
     "output_type": "execute_result"
    }
   ],
   "source": [
    "np.exp(log_proba)[:5]"
   ]
  },
  {
   "cell_type": "code",
   "execution_count": 80,
   "id": "fc5816ad-3381-47dc-b3a6-ca6e4a28a3bc",
   "metadata": {},
   "outputs": [
    {
     "data": {
      "text/plain": [
       "array([[0.34342378, 0.33485183, 0.32172439],\n",
       "       [0.34342467, 0.33485124, 0.32172409],\n",
       "       [0.34342467, 0.33485124, 0.32172409],\n",
       "       [0.34342467, 0.33485124, 0.32172409],\n",
       "       [0.32182415, 0.35488977, 0.32328608]])"
      ]
     },
     "execution_count": 80,
     "metadata": {},
     "output_type": "execute_result"
    }
   ],
   "source": [
    "proba = softmax(log_scores, axis=1)\n",
    "proba[:5]"
   ]
  },
  {
   "cell_type": "code",
   "execution_count": 81,
   "id": "b786de96-1e01-4f31-b57d-0e5e6618d05b",
   "metadata": {},
   "outputs": [
    {
     "data": {
      "text/plain": [
       "array([0, 0, 0, 0, 1, 0, 0, 0, 0, 0, 0, 0, 0, 0, 0, 0, 0, 0, 0, 0, 0, 0,\n",
       "       0, 0, 0, 1, 0, 0, 0, 0, 0, 0, 0, 0, 0, 0, 0, 0, 0, 0, 0, 0, 0, 0,\n",
       "       0, 0, 0, 0, 0, 0, 0, 0, 0, 0, 0, 0, 0, 0, 0, 1, 2, 2, 1, 1, 1, 1,\n",
       "       1, 1, 1, 1, 2, 1, 1, 1, 1, 1, 1, 1, 1, 1, 1, 1, 1, 2, 1, 1, 1, 1,\n",
       "       1, 1, 1, 1, 1, 1, 1, 1, 1, 1, 1, 1, 1, 1, 1, 1, 1, 1, 1, 1, 1, 1,\n",
       "       1, 1, 1, 1, 1, 1, 1, 1, 1, 1, 1, 1, 1, 1, 1, 1, 1, 1, 1, 1, 2, 2,\n",
       "       2, 2, 2, 2, 2, 2, 2, 2, 2, 2, 2, 2, 2, 2, 2, 2, 2, 2, 2, 2, 2, 2,\n",
       "       2, 2, 2, 2, 2, 2, 2, 2, 2, 2, 2, 2, 2, 2, 2, 2, 2, 2, 2, 2, 2, 2,\n",
       "       2, 2])"
      ]
     },
     "execution_count": 81,
     "metadata": {},
     "output_type": "execute_result"
    }
   ],
   "source": [
    "np.argmax(log_proba, axis=1)"
   ]
  },
  {
   "cell_type": "code",
   "execution_count": 85,
   "id": "7370732f-a59e-44aa-9f9f-7c79d5406da4",
   "metadata": {},
   "outputs": [],
   "source": [
    "pred = net._label_binarizer.inverse_transform(log_proba)"
   ]
  },
  {
   "cell_type": "code",
   "execution_count": 86,
   "id": "68db15bf-6fea-4d09-95ce-0ef7e04f5fd1",
   "metadata": {},
   "outputs": [
    {
     "data": {
      "text/plain": [
       "array([0, 0, 0, 0, 1, 0, 0, 0, 0, 0, 0, 0, 0, 0, 0, 0, 0, 0, 0, 0, 0, 0,\n",
       "       0, 0, 0, 1, 0, 0, 0, 0, 0, 0, 0, 0, 0, 0, 0, 0, 0, 0, 0, 0, 0, 0,\n",
       "       0, 0, 0, 0, 0, 0, 0, 0, 0, 0, 0, 0, 0, 0, 0, 1, 2, 2, 1, 1, 1, 1,\n",
       "       1, 1, 1, 1, 2, 1, 1, 1, 1, 1, 1, 1, 1, 1, 1, 1, 1, 2, 1, 1, 1, 1,\n",
       "       1, 1, 1, 1, 1, 1, 1, 1, 1, 1, 1, 1, 1, 1, 1, 1, 1, 1, 1, 1, 1, 1,\n",
       "       1, 1, 1, 1, 1, 1, 1, 1, 1, 1, 1, 1, 1, 1, 1, 1, 1, 1, 1, 1, 2, 2,\n",
       "       2, 2, 2, 2, 2, 2, 2, 2, 2, 2, 2, 2, 2, 2, 2, 2, 2, 2, 2, 2, 2, 2,\n",
       "       2, 2, 2, 2, 2, 2, 2, 2, 2, 2, 2, 2, 2, 2, 2, 2, 2, 2, 2, 2, 2, 2,\n",
       "       2, 2])"
      ]
     },
     "execution_count": 86,
     "metadata": {},
     "output_type": "execute_result"
    }
   ],
   "source": [
    "pred"
   ]
  },
  {
   "cell_type": "code",
   "execution_count": 87,
   "id": "8acd628a-883a-4c97-9cb5-0b6d9c206fb3",
   "metadata": {},
   "outputs": [
    {
     "data": {
      "text/plain": [
       "0.9662921348314607"
      ]
     },
     "execution_count": 87,
     "metadata": {},
     "output_type": "execute_result"
    }
   ],
   "source": [
    "accuracy_score(y_wine, pred)"
   ]
  },
  {
   "cell_type": "code",
   "execution_count": 89,
   "id": "412aaf7d-799c-4b9c-9f6c-e3e4eb0c5956",
   "metadata": {},
   "outputs": [
    {
     "data": {
      "text/plain": [
       "0.8820224719101124"
      ]
     },
     "execution_count": 89,
     "metadata": {},
     "output_type": "execute_result"
    }
   ],
   "source": [
    "net.score(X_wine, y_wine)"
   ]
  },
  {
   "cell_type": "markdown",
   "id": "a440b36c-8ac2-4240-b789-fc6dc552af28",
   "metadata": {},
   "source": [
    "### Using MinKLClassifier"
   ]
  },
  {
   "cell_type": "code",
   "execution_count": 90,
   "id": "26adb035-2f28-4e5b-95cc-004f94b850df",
   "metadata": {},
   "outputs": [],
   "source": [
    "y_freq = np.bincount(y_wine)\n",
    "y_freq = y_freq / np.sum(y_freq)"
   ]
  },
  {
   "cell_type": "code",
   "execution_count": 91,
   "id": "c1a206ec-ac1d-4cff-b601-a3353cc7906c",
   "metadata": {},
   "outputs": [
    {
     "name": "stderr",
     "output_type": "stream",
     "text": [
      "/Users/schofield/anaconda/envs/maxentropy/lib/python3.11/site-packages/sklearn/neural_network/_multilayer_perceptron.py:1226: RuntimeWarning:\n",
      "\n",
      "divide by zero encountered in log\n",
      "\n",
      "/Users/schofield/anaconda/envs/maxentropy/lib/python3.11/site-packages/sklearn/neural_network/_multilayer_perceptron.py:1226: RuntimeWarning:\n",
      "\n",
      "divide by zero encountered in log\n",
      "\n",
      "/Users/schofield/anaconda/envs/maxentropy/lib/python3.11/site-packages/sklearn/neural_network/_multilayer_perceptron.py:1226: RuntimeWarning:\n",
      "\n",
      "divide by zero encountered in log\n",
      "\n"
     ]
    },
    {
     "data": {
      "text/html": [
       "<style>#sk-container-id-3 {\n",
       "  /* Definition of color scheme common for light and dark mode */\n",
       "  --sklearn-color-text: black;\n",
       "  --sklearn-color-line: gray;\n",
       "  /* Definition of color scheme for unfitted estimators */\n",
       "  --sklearn-color-unfitted-level-0: #fff5e6;\n",
       "  --sklearn-color-unfitted-level-1: #f6e4d2;\n",
       "  --sklearn-color-unfitted-level-2: #ffe0b3;\n",
       "  --sklearn-color-unfitted-level-3: chocolate;\n",
       "  /* Definition of color scheme for fitted estimators */\n",
       "  --sklearn-color-fitted-level-0: #f0f8ff;\n",
       "  --sklearn-color-fitted-level-1: #d4ebff;\n",
       "  --sklearn-color-fitted-level-2: #b3dbfd;\n",
       "  --sklearn-color-fitted-level-3: cornflowerblue;\n",
       "\n",
       "  /* Specific color for light theme */\n",
       "  --sklearn-color-text-on-default-background: var(--sg-text-color, var(--theme-code-foreground, var(--jp-content-font-color1, black)));\n",
       "  --sklearn-color-background: var(--sg-background-color, var(--theme-background, var(--jp-layout-color0, white)));\n",
       "  --sklearn-color-border-box: var(--sg-text-color, var(--theme-code-foreground, var(--jp-content-font-color1, black)));\n",
       "  --sklearn-color-icon: #696969;\n",
       "\n",
       "  @media (prefers-color-scheme: dark) {\n",
       "    /* Redefinition of color scheme for dark theme */\n",
       "    --sklearn-color-text-on-default-background: var(--sg-text-color, var(--theme-code-foreground, var(--jp-content-font-color1, white)));\n",
       "    --sklearn-color-background: var(--sg-background-color, var(--theme-background, var(--jp-layout-color0, #111)));\n",
       "    --sklearn-color-border-box: var(--sg-text-color, var(--theme-code-foreground, var(--jp-content-font-color1, white)));\n",
       "    --sklearn-color-icon: #878787;\n",
       "  }\n",
       "}\n",
       "\n",
       "#sk-container-id-3 {\n",
       "  color: var(--sklearn-color-text);\n",
       "}\n",
       "\n",
       "#sk-container-id-3 pre {\n",
       "  padding: 0;\n",
       "}\n",
       "\n",
       "#sk-container-id-3 input.sk-hidden--visually {\n",
       "  border: 0;\n",
       "  clip: rect(1px 1px 1px 1px);\n",
       "  clip: rect(1px, 1px, 1px, 1px);\n",
       "  height: 1px;\n",
       "  margin: -1px;\n",
       "  overflow: hidden;\n",
       "  padding: 0;\n",
       "  position: absolute;\n",
       "  width: 1px;\n",
       "}\n",
       "\n",
       "#sk-container-id-3 div.sk-dashed-wrapped {\n",
       "  border: 1px dashed var(--sklearn-color-line);\n",
       "  margin: 0 0.4em 0.5em 0.4em;\n",
       "  box-sizing: border-box;\n",
       "  padding-bottom: 0.4em;\n",
       "  background-color: var(--sklearn-color-background);\n",
       "}\n",
       "\n",
       "#sk-container-id-3 div.sk-container {\n",
       "  /* jupyter's `normalize.less` sets `[hidden] { display: none; }`\n",
       "     but bootstrap.min.css set `[hidden] { display: none !important; }`\n",
       "     so we also need the `!important` here to be able to override the\n",
       "     default hidden behavior on the sphinx rendered scikit-learn.org.\n",
       "     See: https://github.com/scikit-learn/scikit-learn/issues/21755 */\n",
       "  display: inline-block !important;\n",
       "  position: relative;\n",
       "}\n",
       "\n",
       "#sk-container-id-3 div.sk-text-repr-fallback {\n",
       "  display: none;\n",
       "}\n",
       "\n",
       "div.sk-parallel-item,\n",
       "div.sk-serial,\n",
       "div.sk-item {\n",
       "  /* draw centered vertical line to link estimators */\n",
       "  background-image: linear-gradient(var(--sklearn-color-text-on-default-background), var(--sklearn-color-text-on-default-background));\n",
       "  background-size: 2px 100%;\n",
       "  background-repeat: no-repeat;\n",
       "  background-position: center center;\n",
       "}\n",
       "\n",
       "/* Parallel-specific style estimator block */\n",
       "\n",
       "#sk-container-id-3 div.sk-parallel-item::after {\n",
       "  content: \"\";\n",
       "  width: 100%;\n",
       "  border-bottom: 2px solid var(--sklearn-color-text-on-default-background);\n",
       "  flex-grow: 1;\n",
       "}\n",
       "\n",
       "#sk-container-id-3 div.sk-parallel {\n",
       "  display: flex;\n",
       "  align-items: stretch;\n",
       "  justify-content: center;\n",
       "  background-color: var(--sklearn-color-background);\n",
       "  position: relative;\n",
       "}\n",
       "\n",
       "#sk-container-id-3 div.sk-parallel-item {\n",
       "  display: flex;\n",
       "  flex-direction: column;\n",
       "}\n",
       "\n",
       "#sk-container-id-3 div.sk-parallel-item:first-child::after {\n",
       "  align-self: flex-end;\n",
       "  width: 50%;\n",
       "}\n",
       "\n",
       "#sk-container-id-3 div.sk-parallel-item:last-child::after {\n",
       "  align-self: flex-start;\n",
       "  width: 50%;\n",
       "}\n",
       "\n",
       "#sk-container-id-3 div.sk-parallel-item:only-child::after {\n",
       "  width: 0;\n",
       "}\n",
       "\n",
       "/* Serial-specific style estimator block */\n",
       "\n",
       "#sk-container-id-3 div.sk-serial {\n",
       "  display: flex;\n",
       "  flex-direction: column;\n",
       "  align-items: center;\n",
       "  background-color: var(--sklearn-color-background);\n",
       "  padding-right: 1em;\n",
       "  padding-left: 1em;\n",
       "}\n",
       "\n",
       "\n",
       "/* Toggleable style: style used for estimator/Pipeline/ColumnTransformer box that is\n",
       "clickable and can be expanded/collapsed.\n",
       "- Pipeline and ColumnTransformer use this feature and define the default style\n",
       "- Estimators will overwrite some part of the style using the `sk-estimator` class\n",
       "*/\n",
       "\n",
       "/* Pipeline and ColumnTransformer style (default) */\n",
       "\n",
       "#sk-container-id-3 div.sk-toggleable {\n",
       "  /* Default theme specific background. It is overwritten whether we have a\n",
       "  specific estimator or a Pipeline/ColumnTransformer */\n",
       "  background-color: var(--sklearn-color-background);\n",
       "}\n",
       "\n",
       "/* Toggleable label */\n",
       "#sk-container-id-3 label.sk-toggleable__label {\n",
       "  cursor: pointer;\n",
       "  display: block;\n",
       "  width: 100%;\n",
       "  margin-bottom: 0;\n",
       "  padding: 0.5em;\n",
       "  box-sizing: border-box;\n",
       "  text-align: center;\n",
       "}\n",
       "\n",
       "#sk-container-id-3 label.sk-toggleable__label-arrow:before {\n",
       "  /* Arrow on the left of the label */\n",
       "  content: \"▸\";\n",
       "  float: left;\n",
       "  margin-right: 0.25em;\n",
       "  color: var(--sklearn-color-icon);\n",
       "}\n",
       "\n",
       "#sk-container-id-3 label.sk-toggleable__label-arrow:hover:before {\n",
       "  color: var(--sklearn-color-text);\n",
       "}\n",
       "\n",
       "/* Toggleable content - dropdown */\n",
       "\n",
       "#sk-container-id-3 div.sk-toggleable__content {\n",
       "  max-height: 0;\n",
       "  max-width: 0;\n",
       "  overflow: hidden;\n",
       "  text-align: left;\n",
       "  /* unfitted */\n",
       "  background-color: var(--sklearn-color-unfitted-level-0);\n",
       "}\n",
       "\n",
       "#sk-container-id-3 div.sk-toggleable__content.fitted {\n",
       "  /* fitted */\n",
       "  background-color: var(--sklearn-color-fitted-level-0);\n",
       "}\n",
       "\n",
       "#sk-container-id-3 div.sk-toggleable__content pre {\n",
       "  margin: 0.2em;\n",
       "  border-radius: 0.25em;\n",
       "  color: var(--sklearn-color-text);\n",
       "  /* unfitted */\n",
       "  background-color: var(--sklearn-color-unfitted-level-0);\n",
       "}\n",
       "\n",
       "#sk-container-id-3 div.sk-toggleable__content.fitted pre {\n",
       "  /* unfitted */\n",
       "  background-color: var(--sklearn-color-fitted-level-0);\n",
       "}\n",
       "\n",
       "#sk-container-id-3 input.sk-toggleable__control:checked~div.sk-toggleable__content {\n",
       "  /* Expand drop-down */\n",
       "  max-height: 200px;\n",
       "  max-width: 100%;\n",
       "  overflow: auto;\n",
       "}\n",
       "\n",
       "#sk-container-id-3 input.sk-toggleable__control:checked~label.sk-toggleable__label-arrow:before {\n",
       "  content: \"▾\";\n",
       "}\n",
       "\n",
       "/* Pipeline/ColumnTransformer-specific style */\n",
       "\n",
       "#sk-container-id-3 div.sk-label input.sk-toggleable__control:checked~label.sk-toggleable__label {\n",
       "  color: var(--sklearn-color-text);\n",
       "  background-color: var(--sklearn-color-unfitted-level-2);\n",
       "}\n",
       "\n",
       "#sk-container-id-3 div.sk-label.fitted input.sk-toggleable__control:checked~label.sk-toggleable__label {\n",
       "  background-color: var(--sklearn-color-fitted-level-2);\n",
       "}\n",
       "\n",
       "/* Estimator-specific style */\n",
       "\n",
       "/* Colorize estimator box */\n",
       "#sk-container-id-3 div.sk-estimator input.sk-toggleable__control:checked~label.sk-toggleable__label {\n",
       "  /* unfitted */\n",
       "  background-color: var(--sklearn-color-unfitted-level-2);\n",
       "}\n",
       "\n",
       "#sk-container-id-3 div.sk-estimator.fitted input.sk-toggleable__control:checked~label.sk-toggleable__label {\n",
       "  /* fitted */\n",
       "  background-color: var(--sklearn-color-fitted-level-2);\n",
       "}\n",
       "\n",
       "#sk-container-id-3 div.sk-label label.sk-toggleable__label,\n",
       "#sk-container-id-3 div.sk-label label {\n",
       "  /* The background is the default theme color */\n",
       "  color: var(--sklearn-color-text-on-default-background);\n",
       "}\n",
       "\n",
       "/* On hover, darken the color of the background */\n",
       "#sk-container-id-3 div.sk-label:hover label.sk-toggleable__label {\n",
       "  color: var(--sklearn-color-text);\n",
       "  background-color: var(--sklearn-color-unfitted-level-2);\n",
       "}\n",
       "\n",
       "/* Label box, darken color on hover, fitted */\n",
       "#sk-container-id-3 div.sk-label.fitted:hover label.sk-toggleable__label.fitted {\n",
       "  color: var(--sklearn-color-text);\n",
       "  background-color: var(--sklearn-color-fitted-level-2);\n",
       "}\n",
       "\n",
       "/* Estimator label */\n",
       "\n",
       "#sk-container-id-3 div.sk-label label {\n",
       "  font-family: monospace;\n",
       "  font-weight: bold;\n",
       "  display: inline-block;\n",
       "  line-height: 1.2em;\n",
       "}\n",
       "\n",
       "#sk-container-id-3 div.sk-label-container {\n",
       "  text-align: center;\n",
       "}\n",
       "\n",
       "/* Estimator-specific */\n",
       "#sk-container-id-3 div.sk-estimator {\n",
       "  font-family: monospace;\n",
       "  border: 1px dotted var(--sklearn-color-border-box);\n",
       "  border-radius: 0.25em;\n",
       "  box-sizing: border-box;\n",
       "  margin-bottom: 0.5em;\n",
       "  /* unfitted */\n",
       "  background-color: var(--sklearn-color-unfitted-level-0);\n",
       "}\n",
       "\n",
       "#sk-container-id-3 div.sk-estimator.fitted {\n",
       "  /* fitted */\n",
       "  background-color: var(--sklearn-color-fitted-level-0);\n",
       "}\n",
       "\n",
       "/* on hover */\n",
       "#sk-container-id-3 div.sk-estimator:hover {\n",
       "  /* unfitted */\n",
       "  background-color: var(--sklearn-color-unfitted-level-2);\n",
       "}\n",
       "\n",
       "#sk-container-id-3 div.sk-estimator.fitted:hover {\n",
       "  /* fitted */\n",
       "  background-color: var(--sklearn-color-fitted-level-2);\n",
       "}\n",
       "\n",
       "/* Specification for estimator info (e.g. \"i\" and \"?\") */\n",
       "\n",
       "/* Common style for \"i\" and \"?\" */\n",
       "\n",
       ".sk-estimator-doc-link,\n",
       "a:link.sk-estimator-doc-link,\n",
       "a:visited.sk-estimator-doc-link {\n",
       "  float: right;\n",
       "  font-size: smaller;\n",
       "  line-height: 1em;\n",
       "  font-family: monospace;\n",
       "  background-color: var(--sklearn-color-background);\n",
       "  border-radius: 1em;\n",
       "  height: 1em;\n",
       "  width: 1em;\n",
       "  text-decoration: none !important;\n",
       "  margin-left: 1ex;\n",
       "  /* unfitted */\n",
       "  border: var(--sklearn-color-unfitted-level-1) 1pt solid;\n",
       "  color: var(--sklearn-color-unfitted-level-1);\n",
       "}\n",
       "\n",
       ".sk-estimator-doc-link.fitted,\n",
       "a:link.sk-estimator-doc-link.fitted,\n",
       "a:visited.sk-estimator-doc-link.fitted {\n",
       "  /* fitted */\n",
       "  border: var(--sklearn-color-fitted-level-1) 1pt solid;\n",
       "  color: var(--sklearn-color-fitted-level-1);\n",
       "}\n",
       "\n",
       "/* On hover */\n",
       "div.sk-estimator:hover .sk-estimator-doc-link:hover,\n",
       ".sk-estimator-doc-link:hover,\n",
       "div.sk-label-container:hover .sk-estimator-doc-link:hover,\n",
       ".sk-estimator-doc-link:hover {\n",
       "  /* unfitted */\n",
       "  background-color: var(--sklearn-color-unfitted-level-3);\n",
       "  color: var(--sklearn-color-background);\n",
       "  text-decoration: none;\n",
       "}\n",
       "\n",
       "div.sk-estimator.fitted:hover .sk-estimator-doc-link.fitted:hover,\n",
       ".sk-estimator-doc-link.fitted:hover,\n",
       "div.sk-label-container:hover .sk-estimator-doc-link.fitted:hover,\n",
       ".sk-estimator-doc-link.fitted:hover {\n",
       "  /* fitted */\n",
       "  background-color: var(--sklearn-color-fitted-level-3);\n",
       "  color: var(--sklearn-color-background);\n",
       "  text-decoration: none;\n",
       "}\n",
       "\n",
       "/* Span, style for the box shown on hovering the info icon */\n",
       ".sk-estimator-doc-link span {\n",
       "  display: none;\n",
       "  z-index: 9999;\n",
       "  position: relative;\n",
       "  font-weight: normal;\n",
       "  right: .2ex;\n",
       "  padding: .5ex;\n",
       "  margin: .5ex;\n",
       "  width: min-content;\n",
       "  min-width: 20ex;\n",
       "  max-width: 50ex;\n",
       "  color: var(--sklearn-color-text);\n",
       "  box-shadow: 2pt 2pt 4pt #999;\n",
       "  /* unfitted */\n",
       "  background: var(--sklearn-color-unfitted-level-0);\n",
       "  border: .5pt solid var(--sklearn-color-unfitted-level-3);\n",
       "}\n",
       "\n",
       ".sk-estimator-doc-link.fitted span {\n",
       "  /* fitted */\n",
       "  background: var(--sklearn-color-fitted-level-0);\n",
       "  border: var(--sklearn-color-fitted-level-3);\n",
       "}\n",
       "\n",
       ".sk-estimator-doc-link:hover span {\n",
       "  display: block;\n",
       "}\n",
       "\n",
       "/* \"?\"-specific style due to the `<a>` HTML tag */\n",
       "\n",
       "#sk-container-id-3 a.estimator_doc_link {\n",
       "  float: right;\n",
       "  font-size: 1rem;\n",
       "  line-height: 1em;\n",
       "  font-family: monospace;\n",
       "  background-color: var(--sklearn-color-background);\n",
       "  border-radius: 1rem;\n",
       "  height: 1rem;\n",
       "  width: 1rem;\n",
       "  text-decoration: none;\n",
       "  /* unfitted */\n",
       "  color: var(--sklearn-color-unfitted-level-1);\n",
       "  border: var(--sklearn-color-unfitted-level-1) 1pt solid;\n",
       "}\n",
       "\n",
       "#sk-container-id-3 a.estimator_doc_link.fitted {\n",
       "  /* fitted */\n",
       "  border: var(--sklearn-color-fitted-level-1) 1pt solid;\n",
       "  color: var(--sklearn-color-fitted-level-1);\n",
       "}\n",
       "\n",
       "/* On hover */\n",
       "#sk-container-id-3 a.estimator_doc_link:hover {\n",
       "  /* unfitted */\n",
       "  background-color: var(--sklearn-color-unfitted-level-3);\n",
       "  color: var(--sklearn-color-background);\n",
       "  text-decoration: none;\n",
       "}\n",
       "\n",
       "#sk-container-id-3 a.estimator_doc_link.fitted:hover {\n",
       "  /* fitted */\n",
       "  background-color: var(--sklearn-color-fitted-level-3);\n",
       "}\n",
       "</style><div id=\"sk-container-id-3\" class=\"sk-top-container\"><div class=\"sk-text-repr-fallback\"><pre>MinKLClassifier(auxiliary_sampler=&lt;generator object auxiliary_sampler_scipy at 0x178831940&gt;,\n",
       "                feature_functions=[&lt;function non_neg at 0x1788cf4c0&gt;,\n",
       "                                   &lt;function non_neg at 0x1788cf4c0&gt;,\n",
       "                                   &lt;function non_neg at 0x1788cf4c0&gt;,\n",
       "                                   &lt;function non_neg at 0x1788cf4c0&gt;,\n",
       "                                   &lt;function non_neg at 0x1788cf4c0&gt;,\n",
       "                                   &lt;function non_neg at 0x1788cf4c0&gt;,\n",
       "                                   &lt;function non_neg at 0x1788cf4c0&gt;,\n",
       "                                   &lt;function non_neg at 0x1788cf4c0&gt;,\n",
       "                                   &lt;function non_neg at 0x1788cf4c0&gt;,\n",
       "                                   &lt;function non_neg at 0x1788cf4c0&gt;,\n",
       "                                   &lt;function non_neg at 0x1788cf4c0&gt;,\n",
       "                                   &lt;function non_neg at 0x1788cf4c0&gt;,\n",
       "                                   &lt;function non_neg at 0x1788cf4c0&gt;],\n",
       "                matrix_format=&#x27;ndarray&#x27;,\n",
       "                prior_class_probs=array([0.33146067, 0.3988764 , 0.26966292]),\n",
       "                prior_clf=MLPClassifier(learning_rate_init=0.01, max_iter=1000,\n",
       "                                        random_state=7))</pre><b>In a Jupyter environment, please rerun this cell to show the HTML representation or trust the notebook. <br />On GitHub, the HTML representation is unable to render, please try loading this page with nbviewer.org.</b></div><div class=\"sk-container\" hidden><div class=\"sk-item sk-dashed-wrapped\"><div class=\"sk-label-container\"><div class=\"sk-label fitted sk-toggleable\"><input class=\"sk-toggleable__control sk-hidden--visually\" id=\"sk-estimator-id-3\" type=\"checkbox\" ><label for=\"sk-estimator-id-3\" class=\"sk-toggleable__label fitted sk-toggleable__label-arrow fitted\">&nbsp;MinKLClassifier<span class=\"sk-estimator-doc-link fitted\">i<span>Fitted</span></span></label><div class=\"sk-toggleable__content fitted\"><pre>MinKLClassifier(auxiliary_sampler=&lt;generator object auxiliary_sampler_scipy at 0x178831940&gt;,\n",
       "                feature_functions=[&lt;function non_neg at 0x1788cf4c0&gt;,\n",
       "                                   &lt;function non_neg at 0x1788cf4c0&gt;,\n",
       "                                   &lt;function non_neg at 0x1788cf4c0&gt;,\n",
       "                                   &lt;function non_neg at 0x1788cf4c0&gt;,\n",
       "                                   &lt;function non_neg at 0x1788cf4c0&gt;,\n",
       "                                   &lt;function non_neg at 0x1788cf4c0&gt;,\n",
       "                                   &lt;function non_neg at 0x1788cf4c0&gt;,\n",
       "                                   &lt;function non_neg at 0x1788cf4c0&gt;,\n",
       "                                   &lt;function non_neg at 0x1788cf4c0&gt;,\n",
       "                                   &lt;function non_neg at 0x1788cf4c0&gt;,\n",
       "                                   &lt;function non_neg at 0x1788cf4c0&gt;,\n",
       "                                   &lt;function non_neg at 0x1788cf4c0&gt;,\n",
       "                                   &lt;function non_neg at 0x1788cf4c0&gt;],\n",
       "                matrix_format=&#x27;ndarray&#x27;,\n",
       "                prior_class_probs=array([0.33146067, 0.3988764 , 0.26966292]),\n",
       "                prior_clf=MLPClassifier(learning_rate_init=0.01, max_iter=1000,\n",
       "                                        random_state=7))</pre></div> </div></div><div class=\"sk-parallel\"><div class=\"sk-parallel-item\"><div class=\"sk-item\"><div class=\"sk-label-container\"><div class=\"sk-label fitted sk-toggleable\"><input class=\"sk-toggleable__control sk-hidden--visually\" id=\"sk-estimator-id-4\" type=\"checkbox\" ><label for=\"sk-estimator-id-4\" class=\"sk-toggleable__label fitted sk-toggleable__label-arrow fitted\">prior_clf: MLPClassifier</label><div class=\"sk-toggleable__content fitted\"><pre>MLPClassifier(learning_rate_init=0.01, max_iter=1000, random_state=7)</pre></div> </div></div><div class=\"sk-serial\"><div class=\"sk-item\"><div class=\"sk-estimator fitted sk-toggleable\"><input class=\"sk-toggleable__control sk-hidden--visually\" id=\"sk-estimator-id-5\" type=\"checkbox\" ><label for=\"sk-estimator-id-5\" class=\"sk-toggleable__label fitted sk-toggleable__label-arrow fitted\">&nbsp;MLPClassifier<a class=\"sk-estimator-doc-link fitted\" rel=\"noreferrer\" target=\"_blank\" href=\"https://scikit-learn.org/1.4/modules/generated/sklearn.neural_network.MLPClassifier.html\">?<span>Documentation for MLPClassifier</span></a></label><div class=\"sk-toggleable__content fitted\"><pre>MLPClassifier(learning_rate_init=0.01, max_iter=1000, random_state=7)</pre></div> </div></div></div></div></div></div></div></div></div>"
      ],
      "text/plain": [
       "MinKLClassifier(auxiliary_sampler=<generator object auxiliary_sampler_scipy at 0x178831940>,\n",
       "                feature_functions=[<function non_neg at 0x1788cf4c0>,\n",
       "                                   <function non_neg at 0x1788cf4c0>,\n",
       "                                   <function non_neg at 0x1788cf4c0>,\n",
       "                                   <function non_neg at 0x1788cf4c0>,\n",
       "                                   <function non_neg at 0x1788cf4c0>,\n",
       "                                   <function non_neg at 0x1788cf4c0>,\n",
       "                                   <function non_neg at 0x1788cf4c0>,\n",
       "                                   <function non_neg at 0x1788cf4c0>,\n",
       "                                   <function non_neg at 0x1788cf4c0>,\n",
       "                                   <function non_neg at 0x1788cf4c0>,\n",
       "                                   <function non_neg at 0x1788cf4c0>,\n",
       "                                   <function non_neg at 0x1788cf4c0>,\n",
       "                                   <function non_neg at 0x1788cf4c0>],\n",
       "                matrix_format='ndarray',\n",
       "                prior_class_probs=array([0.33146067, 0.3988764 , 0.26966292]),\n",
       "                prior_clf=MLPClassifier(learning_rate_init=0.01, max_iter=1000,\n",
       "                                        random_state=7))"
      ]
     },
     "execution_count": 91,
     "metadata": {},
     "output_type": "execute_result"
    }
   ],
   "source": [
    "clf = maxentropy.MinKLClassifier(\n",
    "    feature_functions,\n",
    "    sampler,\n",
    "    prior_clf=net,\n",
    "    prior_class_probs=y_freq,\n",
    "    # prior_log_proba_fn=lambda xs: forward_pass_centered(net, slice(None), xs),\n",
    "    matrix_format='ndarray',\n",
    "    vectorized=True\n",
    ")\n",
    "clf.fit(X_wine, y_wine)"
   ]
  },
  {
   "cell_type": "code",
   "execution_count": 93,
   "id": "98c936ab-b377-466a-b3c8-0016932992ad",
   "metadata": {},
   "outputs": [],
   "source": [
    "# check_estimator(clf)"
   ]
  },
  {
   "cell_type": "code",
   "execution_count": null,
   "id": "06add3f2-014d-432b-a6ad-b91b157f4b46",
   "metadata": {},
   "outputs": [],
   "source": [
    "# clf.predict_proba(X_wine)"
   ]
  },
  {
   "cell_type": "code",
   "execution_count": 94,
   "id": "049f4b89-9a97-4e1a-aacc-722cb041cfb0",
   "metadata": {},
   "outputs": [
    {
     "data": {
      "text/plain": [
       "array([0, 0, 0, 0, 1, 0, 0, 0, 0, 0, 0, 0, 0, 0, 0, 0, 0, 0, 0, 0, 0, 0,\n",
       "       0, 0, 0, 1, 0, 0, 0, 0, 0, 0, 0, 0, 0, 0, 0, 0, 0, 0, 0, 0, 0, 0,\n",
       "       0, 0, 0, 0, 0, 0, 0, 0, 0, 0, 0, 0, 0, 0, 0, 1, 1, 1, 1, 1, 1, 1,\n",
       "       1, 1, 1, 1, 2, 1, 1, 1, 1, 1, 1, 1, 1, 1, 1, 1, 1, 1, 1, 1, 1, 1,\n",
       "       1, 1, 1, 1, 1, 1, 1, 1, 1, 1, 1, 1, 1, 1, 1, 1, 1, 1, 1, 1, 1, 1,\n",
       "       1, 1, 1, 1, 1, 1, 1, 1, 1, 1, 1, 1, 1, 1, 1, 1, 1, 1, 1, 1, 1, 2,\n",
       "       2, 2, 2, 2, 2, 2, 2, 2, 2, 2, 2, 2, 2, 2, 2, 2, 2, 2, 2, 2, 2, 2,\n",
       "       2, 2, 2, 2, 2, 2, 2, 2, 2, 2, 2, 2, 2, 2, 2, 2, 2, 2, 2, 2, 2, 2,\n",
       "       2, 2])"
      ]
     },
     "execution_count": 94,
     "metadata": {},
     "output_type": "execute_result"
    }
   ],
   "source": [
    "clf.predict(X_wine)"
   ]
  },
  {
   "cell_type": "code",
   "execution_count": 95,
   "id": "0037aad5-0e74-481e-a01a-5971227ed925",
   "metadata": {},
   "outputs": [
    {
     "data": {
      "text/plain": [
       "0.9775280898876404"
      ]
     },
     "execution_count": 95,
     "metadata": {},
     "output_type": "execute_result"
    }
   ],
   "source": [
    "clf.score(X_wine, y_wine)"
   ]
  },
  {
   "cell_type": "code",
   "execution_count": null,
   "id": "fcdc5225-226b-4f20-9701-b9160557016e",
   "metadata": {},
   "outputs": [],
   "source": [
    "models = {}\n",
    "for target_class in np.sort(np.unique(y_wine)):\n",
    "    print(f'Target class {target_class}')\n",
    "    model = maxentropy.SamplingMinKLDensity(\n",
    "        feature_functions,\n",
    "        sampler,\n",
    "        # Doesn't work:\n",
    "        # prior_log_pdf = lambda xs: net.predict_log_proba(xs)[:, target_class] - outputs[:, target_class].mean(),\n",
    "        prior_log_pdf = forward_pass_centered(net, target_class),\n",
    "        # prior_log_pdf = lambda xs: net.predict_proba(xs)[:, target_class],\n",
    "        matrix_format='ndarray',\n",
    "        vectorized=True\n",
    "    )\n",
    "    X_wine_subset = X_wine[y_wine == target_class]\n",
    "    k = model.features(X_wine_subset).mean(axis=0)\n",
    "    model.fit(k)\n",
    "    models[target_class] = model"
   ]
  },
  {
   "cell_type": "markdown",
   "id": "b2e2dfde-e415-4152-854e-ca9880ffd517",
   "metadata": {},
   "source": [
    "### Ideas for improving the usability"
   ]
  },
  {
   "cell_type": "markdown",
   "id": "65e18484-5344-48c9-b87c-a2eb52d9e88b",
   "metadata": {},
   "source": [
    "##### Current API"
   ]
  },
  {
   "cell_type": "code",
   "execution_count": null,
   "id": "16356ab0-9823-4b2d-b19f-26c404103b8e",
   "metadata": {},
   "outputs": [],
   "source": [
    "BREAK"
   ]
  },
  {
   "cell_type": "code",
   "execution_count": null,
   "id": "63b23aab-4585-4ad9-b0c2-0e974d8da22f",
   "metadata": {},
   "outputs": [],
   "source": [
    "def non_neg(x):\n",
    "    return x >= 0\n",
    "\n",
    "prior_model_params = scipy.stats.norm.fit(df_cancer['mean concavity'])\n",
    "\n",
    "auxiliary = scipy.stats.uniform(-0.2, 1.2)   # i.e. from -0.2 to 1.0\n",
    "\n",
    "sampler = maxentropy.utils.auxiliary_sampler_scipy(auxiliary, n_samples=10_000)\n",
    "\n",
    "model = maxentropy.SamplingMinKLDensity(\n",
    "    [non_neg], sampler, prior_log_pdf = prior_model.logpdf, matrix_format='ndarray', \n",
    ")\n",
    "\n",
    "k = model.features(np.array([X_cancer['mean concavity'].mean()]))\n",
    "\n",
    "model.fit(k)"
   ]
  },
  {
   "cell_type": "markdown",
   "id": "9ff207d0-eca1-46b4-92cc-bbc8fbf2b364",
   "metadata": {},
   "source": [
    "##### Desired API"
   ]
  },
  {
   "cell_type": "code",
   "execution_count": null,
   "id": "cbee0158-1036-4b06-ac3f-4d86e71ee49b",
   "metadata": {},
   "outputs": [],
   "source": [
    "model = maxentropy.SamplingMinKLDensity(sampler='uniform', matrix_format='ndarray', sampling_stretch_factor=0.1, n_samples=10_000)"
   ]
  },
  {
   "cell_type": "code",
   "execution_count": null,
   "id": "15d70e2e-33b9-4be8-b6cf-faa2752ea6fa",
   "metadata": {},
   "outputs": [],
   "source": [
    "feature_functions = [non_neg] * X_cancer.shape[1]\n",
    "\n",
    "model.fit(X_cancer, feature_functions=feature_functions)"
   ]
  },
  {
   "cell_type": "code",
   "execution_count": null,
   "id": "6a80917a-f3e9-4a48-a5dd-341cc40cde5b",
   "metadata": {},
   "outputs": [],
   "source": [
    "def non_neg(x):\n",
    "    return x >= 0"
   ]
  },
  {
   "cell_type": "code",
   "execution_count": null,
   "id": "9d4d08b7-5643-4a1e-b595-32c079e5a498",
   "metadata": {},
   "outputs": [],
   "source": []
  },
  {
   "cell_type": "code",
   "execution_count": null,
   "id": "106bd456-7322-4d49-827a-fd4c9a14f295",
   "metadata": {},
   "outputs": [],
   "source": []
  },
  {
   "cell_type": "code",
   "execution_count": null,
   "id": "56667832-ef43-427e-9aab-7fe7d855cad0",
   "metadata": {},
   "outputs": [],
   "source": []
  }
 ],
 "metadata": {
  "kernelspec": {
   "display_name": "Python 3 (ipykernel)",
   "language": "python",
   "name": "python3"
  },
  "language_info": {
   "codemirror_mode": {
    "name": "ipython",
    "version": 3
   },
   "file_extension": ".py",
   "mimetype": "text/x-python",
   "name": "python",
   "nbconvert_exporter": "python",
   "pygments_lexer": "ipython3",
   "version": "3.11.8"
  }
 },
 "nbformat": 4,
 "nbformat_minor": 5
}
