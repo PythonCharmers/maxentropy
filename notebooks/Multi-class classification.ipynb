{
 "cells": [
  {
   "cell_type": "markdown",
   "id": "dce94bf8-fe0a-46f1-8b6b-0c72af31fa35",
   "metadata": {},
   "source": [
    "## Now: apply it to a multi-class classification problem (n_classes > 2)"
   ]
  },
  {
   "cell_type": "code",
   "execution_count": null,
   "id": "70caca83-263b-4901-a6a2-3adb5a373907",
   "metadata": {},
   "outputs": [],
   "source": [
    "from sklearn.datasets import load_wine\n",
    "\n",
    "wine = load_wine(as_frame=True)\n",
    "\n",
    "df_wine = wine['data']\n",
    "X_wine = wine['data'].values\n",
    "y_wine = wine['target']"
   ]
  },
  {
   "cell_type": "code",
   "execution_count": null,
   "id": "e76deabd-4100-42b4-a109-7ed3d33a36ac",
   "metadata": {},
   "outputs": [],
   "source": [
    "model_lr = LogisticRegression(max_iter=5_000)\n",
    "model_lr.fit(X_wine, y_wine)\n",
    "model_lr.score(X_wine, y_wine)"
   ]
  },
  {
   "cell_type": "code",
   "execution_count": null,
   "id": "66dd4da3-d8c8-46a3-947a-8f13c0397c7e",
   "metadata": {},
   "outputs": [],
   "source": [
    "# outputs = net._forward_pass_fast(X_cancer, check_input=True)"
   ]
  },
  {
   "cell_type": "markdown",
   "id": "bd9c80b0-6489-4feb-9e62-9912cfafcda2",
   "metadata": {},
   "source": [
    "### Neat API"
   ]
  },
  {
   "cell_type": "code",
   "execution_count": null,
   "id": "9fbe7f3d-aa44-42d1-a382-4f580a68312c",
   "metadata": {},
   "outputs": [],
   "source": [
    "y_freq = np.bincount(y_wine)\n",
    "y_freq = y_freq / np.sum(y_freq)"
   ]
  },
  {
   "cell_type": "code",
   "execution_count": null,
   "id": "494b756c-5548-465c-90d0-ca11131237bd",
   "metadata": {},
   "outputs": [],
   "source": [
    "y_freq"
   ]
  },
  {
   "cell_type": "code",
   "execution_count": null,
   "id": "502d85f5-b7d5-4eff-87dc-6b80fd959513",
   "metadata": {},
   "outputs": [],
   "source": [
    "clf = maxentropy.MinKLClassifier(\n",
    "    feature_functions,\n",
    "    sampler,\n",
    "    prior_clf=model_lr,\n",
    "    prior_class_probs=y_freq,\n",
    "    matrix_format='ndarray',\n",
    "    vectorized=True\n",
    ")\n",
    "clf.fit(X_wine, y_wine)"
   ]
  },
  {
   "cell_type": "code",
   "execution_count": null,
   "id": "9f3b69e5-d23f-4333-ae2c-738859b91fe0",
   "metadata": {},
   "outputs": [],
   "source": [
    "%debug"
   ]
  },
  {
   "cell_type": "code",
   "execution_count": null,
   "id": "e606c70c-e167-4c3a-8995-1665f3112184",
   "metadata": {},
   "outputs": [],
   "source": [
    "clf.score(X_wine, y_wine)"
   ]
  },
  {
   "cell_type": "code",
   "execution_count": null,
   "id": "8ecb33f3-4f70-4ec5-8149-2c2c36ef6e65",
   "metadata": {},
   "outputs": [],
   "source": [
    "clf.predict(X_wine)"
   ]
  },
  {
   "cell_type": "code",
   "execution_count": null,
   "id": "733d3130-6006-40ee-8280-87be982cada7",
   "metadata": {},
   "outputs": [],
   "source": [
    "clf.models[0].params"
   ]
  },
  {
   "cell_type": "code",
   "execution_count": null,
   "id": "1e0319db-210e-4211-b0dc-47673b03a74a",
   "metadata": {},
   "outputs": [],
   "source": []
  },
  {
   "cell_type": "code",
   "execution_count": null,
   "id": "789ce361-38b5-42fd-945b-1c872e218e80",
   "metadata": {},
   "outputs": [],
   "source": [
    "# wine['feature_names']"
   ]
  },
  {
   "cell_type": "code",
   "execution_count": null,
   "id": "4bc0baac-c001-4cbf-b505-000abe019c7a",
   "metadata": {},
   "outputs": [],
   "source": [
    "df_wine[:3]"
   ]
  },
  {
   "cell_type": "code",
   "execution_count": null,
   "id": "bf3ef967-f805-492e-9681-590e6fa32054",
   "metadata": {},
   "outputs": [],
   "source": [
    "X_wine[:3]"
   ]
  },
  {
   "cell_type": "markdown",
   "id": "72d314b9-8b45-4637-9a5d-7f3d42efffac",
   "metadata": {},
   "source": [
    "### Old stuff"
   ]
  },
  {
   "cell_type": "code",
   "execution_count": null,
   "id": "c67cf710-88ed-4274-8785-2c59f587d924",
   "metadata": {},
   "outputs": [],
   "source": [
    "@tz.curry\n",
    "# def forward_pass_without_output_layer(net, target=slice(None)):\n",
    "def forward_pass(net, X, target=slice(None)):\n",
    "    from sklearn.neural_network._base import ACTIVATIONS\n",
    "    from sklearn.utils.extmath import safe_sparse_dot\n",
    "    \n",
    "    # Initialize first layer\n",
    "    activation = X\n",
    "\n",
    "    # Forward propagate\n",
    "    hidden_activation = ACTIVATIONS[net.activation]\n",
    "    for i in range(net.n_layers_ - 1):\n",
    "        activation = safe_sparse_dot(activation, net.coefs_[i])\n",
    "        activation += net.intercepts_[i]\n",
    "        if i != net.n_layers_ - 2:\n",
    "            hidden_activation(activation)\n",
    "    # Should we really apply the logistic function in the output layer?\n",
    "    # print(net.out_activation_)\n",
    "    output_activation = ACTIVATIONS[net.out_activation_]\n",
    "    output_activation(activation)\n",
    "    return activation[:, target]"
   ]
  },
  {
   "cell_type": "code",
   "execution_count": null,
   "id": "1cdb523d-ecc9-4191-9005-8d458c737fe6",
   "metadata": {},
   "outputs": [],
   "source": [
    "forward_pass(net, X_cancer, 0)[:10]"
   ]
  },
  {
   "cell_type": "markdown",
   "id": "e409b0a4-dc11-4a5d-8063-90dd62660711",
   "metadata": {},
   "source": [
    "### Question: Can we fit a neural network for classification, remove the final softmax layer, and then apply this?"
   ]
  },
  {
   "cell_type": "code",
   "execution_count": null,
   "id": "4b0520b3-fcfa-4e76-9f05-a2313b9f6ce4",
   "metadata": {},
   "outputs": [],
   "source": [
    "from sklearn.neural_network import MLPClassifier\n",
    "\n",
    "net = MLPClassifier(hidden_layer_sizes=(100,))\n",
    "\n",
    "net.fit(X_cancer, y_cancer)\n",
    "\n",
    "net.score(X_cancer, y_cancer)"
   ]
  },
  {
   "cell_type": "code",
   "execution_count": null,
   "id": "b80a2f6e-1e40-426b-a5f4-a6eb6c524f17",
   "metadata": {},
   "outputs": [],
   "source": [
    "model_lr = LogisticRegression(max_iter=5_000)\n",
    "model_lr.fit(X_wine, y_wine)\n",
    "model_lr.score(X_wine, y_wine)"
   ]
  },
  {
   "cell_type": "code",
   "execution_count": null,
   "id": "c0c539c2-cdb0-4483-b811-9f2c211f9166",
   "metadata": {},
   "outputs": [],
   "source": [
    "net = MLPClassifier(hidden_layer_sizes=(100,), learning_rate_init=0.01, max_iter=1000, random_state=7)\n",
    "net.fit(X_wine, y_wine)\n",
    "net.score(X_wine, y_wine)"
   ]
  },
  {
   "cell_type": "code",
   "execution_count": null,
   "id": "08e81577-c456-40c1-94b3-18eca895f60c",
   "metadata": {},
   "outputs": [],
   "source": [
    "forward_pass(net, X_wine)[:10]"
   ]
  },
  {
   "cell_type": "code",
   "execution_count": null,
   "id": "5c3cb0bf-374f-465e-9506-ec37555c5ae9",
   "metadata": {},
   "outputs": [],
   "source": [
    "net.predict_proba(X_wine)[:10]"
   ]
  },
  {
   "cell_type": "code",
   "execution_count": null,
   "id": "4dff7109-f957-41c7-b0b0-f4a32345ee87",
   "metadata": {},
   "outputs": [],
   "source": [
    "# net.predict_log_proba(X_wine[:10])"
   ]
  },
  {
   "cell_type": "code",
   "execution_count": null,
   "id": "ba3473c3-b8e2-4512-93fe-2c8e787a52b3",
   "metadata": {},
   "outputs": [],
   "source": [
    "# net.predict_proba(X_wine[:10])"
   ]
  },
  {
   "cell_type": "markdown",
   "id": "e92d6a7b-c7e9-4add-aed2-45d62a9ca17f",
   "metadata": {},
   "source": [
    "#### Now define a sampler"
   ]
  },
  {
   "cell_type": "code",
   "execution_count": null,
   "id": "f205faa2-9b76-4567-a41b-1678d0a2f6c5",
   "metadata": {},
   "outputs": [],
   "source": [
    "# auxiliary = scipy.stats.uniform(-0.2, 1.2)   # i.e. from -0.2 to 1.0\n",
    "\n",
    "# sampler = maxentropy.utils.auxiliary_sampler_scipy(auxiliary, n_samples=10_000)"
   ]
  },
  {
   "cell_type": "code",
   "execution_count": null,
   "id": "b8288f57-d1fa-49ac-bbf4-fa48a8088d12",
   "metadata": {},
   "outputs": [],
   "source": [
    "stretched_minima, stretched_maxima = utils.bounds_stretched(X_wine, 10.0)\n",
    "uniform_dist = scipy.stats.uniform(\n",
    "    stretched_minima, stretched_maxima - stretched_minima\n",
    ")\n",
    "sampler = utils.auxiliary_sampler_scipy(\n",
    "    uniform_dist, n_dims=len(wine[\"feature_names\"]), n_samples=100_000\n",
    ")"
   ]
  },
  {
   "cell_type": "code",
   "execution_count": null,
   "id": "dda7469a-3a6e-41c9-b628-0129cc45e849",
   "metadata": {},
   "outputs": [],
   "source": [
    "np.mean(next(sampler)[0] < 0)"
   ]
  },
  {
   "cell_type": "code",
   "execution_count": null,
   "id": "925c16dd-a7ca-4e7f-9010-d9b124c859a5",
   "metadata": {},
   "outputs": [],
   "source": [
    "@tz.curry\n",
    "def non_neg(column, x):\n",
    "    return x[:, column] >= 0"
   ]
  },
  {
   "cell_type": "code",
   "execution_count": null,
   "id": "a19f1d19-8f0b-449f-9828-aa58c524f1da",
   "metadata": {},
   "outputs": [],
   "source": [
    "# def non_neg(x):\n",
    "#     return x >= 0"
   ]
  },
  {
   "cell_type": "code",
   "execution_count": null,
   "id": "d68902b8-c8f6-4c01-b8d6-5c08015fac7a",
   "metadata": {},
   "outputs": [],
   "source": [
    "def scalar(x):\n",
    "    return 1.0"
   ]
  },
  {
   "cell_type": "code",
   "execution_count": null,
   "id": "0ae604de-b2a9-4e0d-86da-c61388ea7241",
   "metadata": {},
   "outputs": [],
   "source": [
    "feature_functions = [non_neg(i) for i in range(len(wine['feature_names']))]"
   ]
  },
  {
   "cell_type": "code",
   "execution_count": null,
   "id": "b4652af9-8114-4313-87a1-0911fbe6b852",
   "metadata": {},
   "outputs": [],
   "source": [
    "from maxentropy.utils import feature_sampler"
   ]
  },
  {
   "cell_type": "code",
   "execution_count": null,
   "id": "91c3c3f8-e9d7-4499-9599-eb97feb2782a",
   "metadata": {},
   "outputs": [],
   "source": [
    "sampleFgen = feature_sampler(\n",
    "            feature_functions,\n",
    "            sampler,\n",
    "            vectorized=True,\n",
    "            matrix_format='ndarray',\n",
    "        )"
   ]
  },
  {
   "cell_type": "code",
   "execution_count": null,
   "id": "ed6129b7-061e-4cc7-8e17-46939bfb470c",
   "metadata": {},
   "outputs": [],
   "source": [
    "next(sampleFgen)[0].shape"
   ]
  },
  {
   "cell_type": "code",
   "execution_count": null,
   "id": "0d912a39-3258-4cca-b26f-7c60f12d656c",
   "metadata": {},
   "outputs": [],
   "source": [
    "next(sampleFgen)[0].mean()"
   ]
  },
  {
   "cell_type": "code",
   "execution_count": null,
   "id": "02b987fd-29e0-49b6-b6bb-6ddac8434341",
   "metadata": {},
   "outputs": [],
   "source": [
    "next(sampleFgen)[1].shape"
   ]
  },
  {
   "cell_type": "code",
   "execution_count": null,
   "id": "12b39c4a-7eff-41c4-aa38-b0c0821dd0f3",
   "metadata": {},
   "outputs": [],
   "source": [
    "next(sampleFgen)[2].shape"
   ]
  },
  {
   "cell_type": "markdown",
   "id": "aef30367-74c4-4b06-bb7a-f3d4f302b1c3",
   "metadata": {},
   "source": [
    "#### The neural network has fit K different models for the K different target classes.\n",
    "\n",
    "Here we just twiddle the density for the first target class:"
   ]
  },
  {
   "cell_type": "code",
   "execution_count": null,
   "id": "d28cd81a-6f84-4931-b1e0-c57fd1e43277",
   "metadata": {},
   "outputs": [],
   "source": [
    "outputs = forward_pass(net, X_wine)\n",
    "outputs[:3]"
   ]
  },
  {
   "cell_type": "code",
   "execution_count": null,
   "id": "2506b77b-109a-4ef1-8bd5-d87eb4c091fb",
   "metadata": {},
   "outputs": [],
   "source": [
    "outputs = net.predict_proba(X_wine)\n",
    "outputs[:3]"
   ]
  },
  {
   "cell_type": "code",
   "execution_count": null,
   "id": "f8707745-c7ca-41f6-a986-c7445133dc59",
   "metadata": {},
   "outputs": [],
   "source": [
    "outputs.mean(axis=0)"
   ]
  },
  {
   "cell_type": "code",
   "execution_count": null,
   "id": "4c8e21b7-2a50-42ca-94bb-6293972a51a9",
   "metadata": {},
   "outputs": [],
   "source": [
    "np.unique(y_wine, return_counts=True)[1]"
   ]
  },
  {
   "cell_type": "code",
   "execution_count": null,
   "id": "08499cc3-1594-4da9-bf8a-4a0f4c192345",
   "metadata": {},
   "outputs": [],
   "source": [
    "np.bincount(y_wine)"
   ]
  },
  {
   "cell_type": "code",
   "execution_count": null,
   "id": "12ce5d44-b008-4df2-a5af-861715a86d53",
   "metadata": {},
   "outputs": [],
   "source": [
    "centered_outputs = outputs - outputs.mean(axis=0)"
   ]
  },
  {
   "cell_type": "code",
   "execution_count": null,
   "id": "640c27ec-48b7-4af1-b8c9-3d85c0ff0ae9",
   "metadata": {},
   "outputs": [],
   "source": [
    "np.round(outputs.mean(axis=0), 2)"
   ]
  },
  {
   "cell_type": "code",
   "execution_count": null,
   "id": "eb33873d-eb92-4d1d-81ef-3dc8e64d4e4c",
   "metadata": {},
   "outputs": [],
   "source": [
    "centered_outputs[:3]"
   ]
  },
  {
   "cell_type": "code",
   "execution_count": null,
   "id": "17b05c35-108a-4c1b-99bf-4d7ce52860a8",
   "metadata": {},
   "outputs": [],
   "source": [
    "@tz.curry\n",
    "def forward_pass_centered(net, target_class, xs):\n",
    "    # return forward_pass_without_output_layer(net, xs)[:, target_class] - outputs[:, target_class].mean()\n",
    "    output = net.predict_proba(xs)[:, target_class] - outputs[:, target_class].mean()\n",
    "    return output"
   ]
  },
  {
   "cell_type": "markdown",
   "id": "2ff54721-ba90-42fe-a7ac-7eeee93f37d5",
   "metadata": {},
   "source": [
    "The above seems to work, but the logic is wrong ..."
   ]
  },
  {
   "cell_type": "markdown",
   "id": "f1e35dc2-8e36-4d8e-bb2f-b92253ce9672",
   "metadata": {},
   "source": [
    "#### Now do the sensible thing."
   ]
  },
  {
   "cell_type": "code",
   "execution_count": null,
   "id": "95ccc0d7-0055-4e4a-a612-dcd5e9552334",
   "metadata": {},
   "outputs": [],
   "source": [
    "@tz.curry\n",
    "def log_p_x_given_k(net, class_probabilities, target_class, xs):\n",
    "    \"\"\"\n",
    "    This calculates the log of p(x | k = target_class) up to an additive constant (independent of k).\n",
    "\n",
    "    Since:\n",
    "    \n",
    "        p(x | k) = p(k | x) / p(k) * p(x)\n",
    "\n",
    "    we have:\n",
    "\n",
    "        log p(x | k) = log p(k | x) - log p(k) + additive_constant_indep_of_k\n",
    "\n",
    "    \"\"\"\n",
    "    import pdb\n",
    "    pdb.set_trace()\n",
    "    # return forward_pass_without_output_layer(net, xs)[:, target_class] - outputs[:, target_class].mean()\n",
    "    output = net.predict_log_proba(xs)[:, target_class] - np.log(class_probabilities)\n",
    "    return output"
   ]
  },
  {
   "cell_type": "code",
   "execution_count": null,
   "id": "94d708b4-0b50-4ff6-bb94-35de5fb6e66e",
   "metadata": {},
   "outputs": [],
   "source": [
    "np.bincount(y_cancer) / np.bincount(y_cancer).sum()"
   ]
  },
  {
   "cell_type": "code",
   "execution_count": null,
   "id": "3669d69d-583d-4a37-9a6c-e7a8977fb521",
   "metadata": {},
   "outputs": [],
   "source": [
    "from sklearn.utils.validation import check_is_fitted, check_array"
   ]
  },
  {
   "cell_type": "code",
   "execution_count": null,
   "id": "9be3dd98-9ecb-4bb2-810a-e642c16ef72c",
   "metadata": {},
   "outputs": [],
   "source": [
    "from sklearn.utils.estimator_checks import check_estimator"
   ]
  },
  {
   "cell_type": "code",
   "execution_count": null,
   "id": "378f818b-047d-4ae0-bf7d-81e604cfb5c3",
   "metadata": {},
   "outputs": [],
   "source": [
    "forward_pass_centered(net, 0, X_wine)[:3]"
   ]
  },
  {
   "cell_type": "code",
   "execution_count": null,
   "id": "e7af0521-b0ad-4bda-806d-4cfd1db9f7a8",
   "metadata": {},
   "outputs": [],
   "source": [
    "target_class = 0\n",
    "\n",
    "model0 = maxentropy.SamplingMinKLDensity(\n",
    "    feature_functions,\n",
    "    sampler,\n",
    "    prior_log_pdf = forward_pass_centered(net, target_class),\n",
    "    matrix_format='ndarray',\n",
    "    vectorized=True\n",
    ")"
   ]
  },
  {
   "cell_type": "code",
   "execution_count": null,
   "id": "f63dd1ef-36a4-402e-8dea-ed56497fc2db",
   "metadata": {},
   "outputs": [],
   "source": [
    "np.array([X_wine.mean()])"
   ]
  },
  {
   "cell_type": "code",
   "execution_count": null,
   "id": "b2df39a6-d94d-49a7-8f1f-c89f1228013c",
   "metadata": {},
   "outputs": [],
   "source": [
    "# X_wine[y_wine==target_class]"
   ]
  },
  {
   "cell_type": "code",
   "execution_count": null,
   "id": "fd64bd3c-d8f3-432a-a0bb-cc960f3c53d0",
   "metadata": {},
   "outputs": [],
   "source": [
    "X_wine_subset = X_wine[y_wine == target_class]\n",
    "X_wine_subset.shape"
   ]
  },
  {
   "cell_type": "code",
   "execution_count": null,
   "id": "31e84721-f229-4316-9ba2-0bd54cafc5a5",
   "metadata": {},
   "outputs": [],
   "source": [
    "k = model0.features(X_wine_subset).mean(axis=0)"
   ]
  },
  {
   "cell_type": "code",
   "execution_count": null,
   "id": "90a0fafc-f4ea-45ff-ba2d-f14537d7832f",
   "metadata": {},
   "outputs": [],
   "source": [
    "model0.fit(k)"
   ]
  },
  {
   "cell_type": "code",
   "execution_count": null,
   "id": "4ec0717e-5cec-455f-800e-76f2a10cb262",
   "metadata": {},
   "outputs": [],
   "source": [
    "model0.feature_expectations()"
   ]
  },
  {
   "cell_type": "code",
   "execution_count": null,
   "id": "dcde6fac-6bf3-4acd-946f-aa4106c42c7c",
   "metadata": {},
   "outputs": [],
   "source": [
    "model0.params"
   ]
  },
  {
   "cell_type": "code",
   "execution_count": null,
   "id": "1a55f62e-da74-46c9-95d1-aa5277aab861",
   "metadata": {},
   "outputs": [],
   "source": [
    "model0.predict_log_proba(X_wine)[:5]"
   ]
  },
  {
   "cell_type": "markdown",
   "id": "7b45589f-5c3f-496f-9228-43ccbc13e76e",
   "metadata": {},
   "source": [
    "#### Very low values! Let's proceed anyway. These will be compared against other very low values (for the other classes)."
   ]
  },
  {
   "cell_type": "code",
   "execution_count": null,
   "id": "1dfe78f8-5ed1-41ce-a76d-b0a25ec0f8d8",
   "metadata": {},
   "outputs": [],
   "source": [
    "target_class = 1\n",
    "\n",
    "model1 = maxentropy.SamplingMinKLDensity(\n",
    "    feature_functions,\n",
    "    sampler,\n",
    "    prior_log_pdf = forward_pass_centered(net, target_class),\n",
    "    matrix_format='ndarray',\n",
    "    vectorized=True\n",
    ")\n",
    "X_wine_subset = X_wine[y_wine == target_class]\n",
    "k1 = model0.features(X_wine_subset).mean(axis=0)\n",
    "model1.fit(k1)\n",
    "\n",
    "target_class = 2\n",
    "\n",
    "model2 = maxentropy.SamplingMinKLDensity(\n",
    "    feature_functions,\n",
    "    sampler,\n",
    "    prior_log_pdf = forward_pass_centered(net, target_class),\n",
    "    matrix_format='ndarray',\n",
    "    vectorized=True\n",
    ")\n",
    "X_wine_subset = X_wine[y_wine == target_class]\n",
    "k2 = model0.features(X_wine_subset).mean(axis=0)\n",
    "model2.fit(k2)"
   ]
  },
  {
   "cell_type": "code",
   "execution_count": null,
   "id": "3888e4b4-e573-406a-815c-ef72c25a9349",
   "metadata": {},
   "outputs": [],
   "source": [
    "log_scores = np.array([\n",
    "    model0.predict_log_proba(X_wine),\n",
    "    model1.predict_log_proba(X_wine),\n",
    "    model2.predict_log_proba(X_wine)\n",
    "]).T\n",
    "log_scores.shape"
   ]
  },
  {
   "cell_type": "code",
   "execution_count": null,
   "id": "40b878e8-5182-4b7d-94a9-80533ee40f64",
   "metadata": {},
   "outputs": [],
   "source": [
    "from scipy.special import softmax"
   ]
  },
  {
   "cell_type": "code",
   "execution_count": null,
   "id": "84d133c8-3ae7-4d61-a3ca-af158313ab9f",
   "metadata": {},
   "outputs": [],
   "source": [
    "log_proba = softmax(log_scores, axis=1)"
   ]
  },
  {
   "cell_type": "code",
   "execution_count": null,
   "id": "3733cbb7-96c3-4e85-94f1-6748a6823987",
   "metadata": {},
   "outputs": [],
   "source": [
    "log_proba[:5]"
   ]
  },
  {
   "cell_type": "code",
   "execution_count": null,
   "id": "92f325b6-91d7-495b-abfa-d21bac9ccff8",
   "metadata": {},
   "outputs": [],
   "source": [
    "net.n_outputs_"
   ]
  },
  {
   "cell_type": "code",
   "execution_count": null,
   "id": "a830cfdb-d8df-431e-b90e-2b1bc1ebdc1b",
   "metadata": {},
   "outputs": [],
   "source": [
    "pred = net._label_binarizer.inverse_transform(log_proba)\n",
    "pred"
   ]
  },
  {
   "cell_type": "code",
   "execution_count": null,
   "id": "ea579f40-5453-4a86-b9f5-6bc42968f6c3",
   "metadata": {},
   "outputs": [],
   "source": [
    "from sklearn.metrics import accuracy_score"
   ]
  },
  {
   "cell_type": "code",
   "execution_count": null,
   "id": "34d82f1b-fd29-42f8-8c53-9e90b81f40a3",
   "metadata": {},
   "outputs": [],
   "source": [
    "accuracy_score(y_wine, pred)"
   ]
  },
  {
   "cell_type": "markdown",
   "id": "2d5b8cbd-5fe8-43b2-8c56-5404bbe710ab",
   "metadata": {},
   "source": [
    "### Can we do it just using the neural network's `predict_proba` outputs?"
   ]
  },
  {
   "cell_type": "code",
   "execution_count": null,
   "id": "6d23ffb9-9354-4e12-a523-a8cda719fc54",
   "metadata": {},
   "outputs": [],
   "source": [
    "np.sort([4, 1, 2, 3])"
   ]
  },
  {
   "cell_type": "code",
   "execution_count": null,
   "id": "62ec9838-a292-4aea-9b48-16de5477b3ee",
   "metadata": {},
   "outputs": [],
   "source": [
    "def thing1(xs):\n",
    "    return forward_pass_centered(net, 0)(xs)"
   ]
  },
  {
   "cell_type": "code",
   "execution_count": null,
   "id": "c58d6c0d-3622-44c5-98ea-2e8087036939",
   "metadata": {},
   "outputs": [],
   "source": [
    "thing1(X_wine)[:5]"
   ]
  },
  {
   "cell_type": "code",
   "execution_count": null,
   "id": "df0e8c57-e8ad-42b9-815d-bc7435392e9e",
   "metadata": {},
   "outputs": [],
   "source": [
    "def thing2(xs):\n",
    "    return net.predict_proba(xs)[:, 0] - outputs[:, 0].mean()"
   ]
  },
  {
   "cell_type": "code",
   "execution_count": null,
   "id": "51e640bb-9de7-4767-bf84-b8a0b17854ea",
   "metadata": {},
   "outputs": [],
   "source": [
    "thing2(X_wine)[:5]"
   ]
  },
  {
   "cell_type": "markdown",
   "id": "4ed68b15-f6c7-46c5-99be-c4eb923efb38",
   "metadata": {},
   "source": [
    "#### By hand ..."
   ]
  },
  {
   "cell_type": "code",
   "execution_count": null,
   "id": "bacdc1a6-51ef-414e-8e4e-8578f04d798c",
   "metadata": {},
   "outputs": [],
   "source": [
    "models = {}\n",
    "for target_class in np.sort(np.unique(y_wine)):\n",
    "    print(f'Target class {target_class}')\n",
    "    model = maxentropy.SamplingMinKLDensity(\n",
    "        feature_functions,\n",
    "        sampler,\n",
    "        # Doesn't work:\n",
    "        # prior_log_pdf = lambda xs: net.predict_log_proba(xs)[:, target_class] - outputs[:, target_class].mean(),\n",
    "        prior_log_pdf = forward_pass_centered(net, target_class),\n",
    "        # prior_log_pdf = lambda xs: net.predict_proba(xs)[:, target_class],\n",
    "        matrix_format='ndarray',\n",
    "        vectorized=True\n",
    "    )\n",
    "    X_wine_subset = X_wine[y_wine == target_class]\n",
    "    k = model.features(X_wine_subset).mean(axis=0)\n",
    "    print(k)\n",
    "    model.fit(k)\n",
    "    print(model.params)\n",
    "    models[target_class] = model"
   ]
  },
  {
   "cell_type": "code",
   "execution_count": null,
   "id": "f099182b-6341-4b38-aa9c-b23f46df440c",
   "metadata": {},
   "outputs": [],
   "source": []
  },
  {
   "cell_type": "code",
   "execution_count": null,
   "id": "81f40c3e-429d-4000-a2da-9c4b095a9e99",
   "metadata": {},
   "outputs": [],
   "source": [
    "log_scores = np.array([\n",
    "    model.predict_log_proba(X_wine)\n",
    "    for model in models.values()\n",
    "]).T\n",
    "log_scores.shape"
   ]
  },
  {
   "cell_type": "code",
   "execution_count": null,
   "id": "f8c9223b-5b33-4a9a-9dd5-13df72a50aa6",
   "metadata": {},
   "outputs": [],
   "source": [
    "log_scores[:5]"
   ]
  },
  {
   "cell_type": "code",
   "execution_count": null,
   "id": "eadc4475-ddee-4078-a74c-def485b1b00d",
   "metadata": {},
   "outputs": [],
   "source": [
    "from scipy.special import logsumexp"
   ]
  },
  {
   "cell_type": "code",
   "execution_count": null,
   "id": "7a4d5045-df99-4a85-aaac-134851db853f",
   "metadata": {},
   "outputs": [],
   "source": [
    "log_proba = (log_scores.T - logsumexp(log_scores, axis=1)).T\n",
    "log_proba[:5]"
   ]
  },
  {
   "cell_type": "code",
   "execution_count": null,
   "id": "ebd000b0-fcdd-4aac-8a7a-495fc33293ed",
   "metadata": {},
   "outputs": [],
   "source": [
    "np.exp(log_proba)[:5]"
   ]
  },
  {
   "cell_type": "code",
   "execution_count": null,
   "id": "fc5816ad-3381-47dc-b3a6-ca6e4a28a3bc",
   "metadata": {},
   "outputs": [],
   "source": [
    "proba = softmax(log_scores, axis=1)\n",
    "proba[:5]"
   ]
  },
  {
   "cell_type": "code",
   "execution_count": null,
   "id": "b786de96-1e01-4f31-b57d-0e5e6618d05b",
   "metadata": {},
   "outputs": [],
   "source": [
    "np.argmax(log_proba, axis=1)"
   ]
  },
  {
   "cell_type": "code",
   "execution_count": null,
   "id": "7370732f-a59e-44aa-9f9f-7c79d5406da4",
   "metadata": {},
   "outputs": [],
   "source": [
    "pred = net._label_binarizer.inverse_transform(log_proba)"
   ]
  },
  {
   "cell_type": "code",
   "execution_count": null,
   "id": "68db15bf-6fea-4d09-95ce-0ef7e04f5fd1",
   "metadata": {},
   "outputs": [],
   "source": [
    "pred"
   ]
  },
  {
   "cell_type": "code",
   "execution_count": null,
   "id": "8acd628a-883a-4c97-9cb5-0b6d9c206fb3",
   "metadata": {},
   "outputs": [],
   "source": [
    "accuracy_score(y_wine, pred)"
   ]
  },
  {
   "cell_type": "code",
   "execution_count": null,
   "id": "412aaf7d-799c-4b9c-9f6c-e3e4eb0c5956",
   "metadata": {},
   "outputs": [],
   "source": [
    "net.score(X_wine, y_wine)"
   ]
  },
  {
   "cell_type": "markdown",
   "id": "a440b36c-8ac2-4240-b789-fc6dc552af28",
   "metadata": {},
   "source": [
    "### Using MinKLClassifier"
   ]
  },
  {
   "cell_type": "code",
   "execution_count": null,
   "id": "16d78ada-5bb4-4012-9feb-1d5894297c37",
   "metadata": {},
   "outputs": [],
   "source": [
    "y_freq = np.bincount(y_wine)\n",
    "y_freq = y_freq / np.sum(y_freq)\n",
    "\n",
    "clf = maxentropy.MinKLClassifier(\n",
    "    feature_functions,\n",
    "    sampler,\n",
    "    prior_clf=net,\n",
    "    prior_class_probs=y_freq,\n",
    "    # prior_log_proba_fn=lambda xs: forward_pass_centered(net, slice(None), xs),\n",
    "    matrix_format='ndarray',\n",
    "    vectorized=True\n",
    ")\n",
    "clf.fit(X_wine, y_wine)"
   ]
  },
  {
   "cell_type": "code",
   "execution_count": null,
   "id": "98c936ab-b377-466a-b3c8-0016932992ad",
   "metadata": {},
   "outputs": [],
   "source": [
    "# check_estimator(clf)"
   ]
  },
  {
   "cell_type": "code",
   "execution_count": null,
   "id": "06add3f2-014d-432b-a6ad-b91b157f4b46",
   "metadata": {},
   "outputs": [],
   "source": [
    "# clf.predict_proba(X_wine)"
   ]
  },
  {
   "cell_type": "code",
   "execution_count": null,
   "id": "049f4b89-9a97-4e1a-aacc-722cb041cfb0",
   "metadata": {},
   "outputs": [],
   "source": [
    "clf.predict(X_wine)"
   ]
  },
  {
   "cell_type": "code",
   "execution_count": null,
   "id": "0037aad5-0e74-481e-a01a-5971227ed925",
   "metadata": {},
   "outputs": [],
   "source": [
    "clf.score(X_wine, y_wine)"
   ]
  },
  {
   "cell_type": "code",
   "execution_count": null,
   "id": "fcdc5225-226b-4f20-9701-b9160557016e",
   "metadata": {},
   "outputs": [],
   "source": [
    "models = {}\n",
    "for target_class in np.sort(np.unique(y_wine)):\n",
    "    print(f'Target class {target_class}')\n",
    "    model = maxentropy.SamplingMinKLDensity(\n",
    "        feature_functions,\n",
    "        sampler,\n",
    "        # Doesn't work:\n",
    "        # prior_log_pdf = lambda xs: net.predict_log_proba(xs)[:, target_class] - outputs[:, target_class].mean(),\n",
    "        prior_log_pdf = forward_pass_centered(net, target_class),\n",
    "        # prior_log_pdf = lambda xs: net.predict_proba(xs)[:, target_class],\n",
    "        matrix_format='ndarray',\n",
    "        vectorized=True\n",
    "    )\n",
    "    X_wine_subset = X_wine[y_wine == target_class]\n",
    "    k = model.features(X_wine_subset).mean(axis=0)\n",
    "    model.fit(k)\n",
    "    models[target_class] = model"
   ]
  },
  {
   "cell_type": "markdown",
   "id": "b2e2dfde-e415-4152-854e-ca9880ffd517",
   "metadata": {},
   "source": [
    "### Ideas for improving the usability"
   ]
  },
  {
   "cell_type": "markdown",
   "id": "65e18484-5344-48c9-b87c-a2eb52d9e88b",
   "metadata": {},
   "source": [
    "##### Current API"
   ]
  },
  {
   "cell_type": "code",
   "execution_count": null,
   "id": "16356ab0-9823-4b2d-b19f-26c404103b8e",
   "metadata": {},
   "outputs": [],
   "source": [
    "BREAK"
   ]
  },
  {
   "cell_type": "code",
   "execution_count": null,
   "id": "63b23aab-4585-4ad9-b0c2-0e974d8da22f",
   "metadata": {},
   "outputs": [],
   "source": [
    "def non_neg(x):\n",
    "    return x >= 0\n",
    "\n",
    "prior_model_params = scipy.stats.norm.fit(df_cancer['mean concavity'])\n",
    "\n",
    "auxiliary = scipy.stats.uniform(-0.2, 1.2)   # i.e. from -0.2 to 1.0\n",
    "\n",
    "sampler = maxentropy.utils.auxiliary_sampler_scipy(auxiliary, n_samples=10_000)\n",
    "\n",
    "model = maxentropy.SamplingMinKLDensity(\n",
    "    [non_neg], sampler, prior_log_pdf = prior_model.logpdf, matrix_format='ndarray', \n",
    ")\n",
    "\n",
    "k = model.features(np.array([X_cancer['mean concavity'].mean()]))\n",
    "\n",
    "model.fit(k)"
   ]
  },
  {
   "cell_type": "markdown",
   "id": "9ff207d0-eca1-46b4-92cc-bbc8fbf2b364",
   "metadata": {},
   "source": [
    "##### Desired API"
   ]
  },
  {
   "cell_type": "code",
   "execution_count": null,
   "id": "cbee0158-1036-4b06-ac3f-4d86e71ee49b",
   "metadata": {},
   "outputs": [],
   "source": [
    "model = maxentropy.SamplingMinKLDensity(sampler='uniform', matrix_format='ndarray', sampling_stretch_factor=0.1, n_samples=10_000)"
   ]
  },
  {
   "cell_type": "code",
   "execution_count": null,
   "id": "15d70e2e-33b9-4be8-b6cf-faa2752ea6fa",
   "metadata": {},
   "outputs": [],
   "source": [
    "feature_functions = [non_neg] * X_cancer.shape[1]\n",
    "\n",
    "model.fit(X_cancer, feature_functions=feature_functions)"
   ]
  },
  {
   "cell_type": "code",
   "execution_count": null,
   "id": "6a80917a-f3e9-4a48-a5dd-341cc40cde5b",
   "metadata": {},
   "outputs": [],
   "source": [
    "def non_neg(x):\n",
    "    return x >= 0"
   ]
  },
  {
   "cell_type": "code",
   "execution_count": null,
   "id": "9d4d08b7-5643-4a1e-b595-32c079e5a498",
   "metadata": {},
   "outputs": [],
   "source": []
  },
  {
   "cell_type": "code",
   "execution_count": null,
   "id": "106bd456-7322-4d49-827a-fd4c9a14f295",
   "metadata": {},
   "outputs": [],
   "source": []
  },
  {
   "cell_type": "code",
   "execution_count": null,
   "id": "56667832-ef43-427e-9aab-7fe7d855cad0",
   "metadata": {},
   "outputs": [],
   "source": []
  }
 ],
 "metadata": {
  "kernelspec": {
   "display_name": "Python 3 (ipykernel)",
   "language": "python",
   "name": "python3"
  },
  "language_info": {
   "codemirror_mode": {
    "name": "ipython",
    "version": 3
   },
   "file_extension": ".py",
   "mimetype": "text/x-python",
   "name": "python",
   "nbconvert_exporter": "python",
   "pygments_lexer": "ipython3",
   "version": "3.11.8"
  }
 },
 "nbformat": 4,
 "nbformat_minor": 5
}
